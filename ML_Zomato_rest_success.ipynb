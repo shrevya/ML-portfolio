{
 "cells": [
  {
   "cell_type": "code",
   "execution_count": 10,
   "id": "34ce8a4e",
   "metadata": {},
   "outputs": [],
   "source": [
    "import pandas as pd\n",
    "import numpy as np\n",
    "import matplotlib.pyplot as plt\n",
    "import seaborn as sns\n",
    "import sqlite3"
   ]
  },
  {
   "cell_type": "code",
   "execution_count": 11,
   "id": "c8209b65",
   "metadata": {},
   "outputs": [],
   "source": [
    "con = sqlite3.connect(r\"C:\\Users\\shrev\\Desktop\\zomato\\zomato_rawdata.sqlite\")"
   ]
  },
  {
   "cell_type": "code",
   "execution_count": 12,
   "id": "76489399",
   "metadata": {},
   "outputs": [],
   "source": [
    "df = pd.read_sql_query(\"SELECT * FROM USERS\", con)"
   ]
  },
  {
   "cell_type": "code",
   "execution_count": 13,
   "id": "a601f931",
   "metadata": {},
   "outputs": [
    {
     "data": {
      "text/plain": [
       "(51717, 18)"
      ]
     },
     "execution_count": 13,
     "metadata": {},
     "output_type": "execute_result"
    }
   ],
   "source": [
    "df.shape"
   ]
  },
  {
   "cell_type": "code",
   "execution_count": 14,
   "id": "965e8359",
   "metadata": {},
   "outputs": [
    {
     "data": {
      "text/plain": [
       "index                              0\n",
       "url                                0\n",
       "address                            0\n",
       "name                               0\n",
       "online_order                       0\n",
       "book_table                         0\n",
       "rate                            7775\n",
       "votes                              0\n",
       "phone                           1208\n",
       "location                          21\n",
       "rest_type                        227\n",
       "dish_liked                     28078\n",
       "cuisines                          45\n",
       "approx_cost(for two people)      346\n",
       "reviews_list                       0\n",
       "menu_item                          0\n",
       "listed_in(type)                    0\n",
       "listed_in(city)                    0\n",
       "dtype: int64"
      ]
     },
     "execution_count": 14,
     "metadata": {},
     "output_type": "execute_result"
    }
   ],
   "source": [
    "df.isnull().sum()"
   ]
  },
  {
   "cell_type": "code",
   "execution_count": 15,
   "id": "ea2e6a42",
   "metadata": {},
   "outputs": [
    {
     "data": {
      "text/plain": [
       "index                           int64\n",
       "url                            object\n",
       "address                        object\n",
       "name                           object\n",
       "online_order                   object\n",
       "book_table                     object\n",
       "rate                           object\n",
       "votes                           int64\n",
       "phone                          object\n",
       "location                       object\n",
       "rest_type                      object\n",
       "dish_liked                     object\n",
       "cuisines                       object\n",
       "approx_cost(for two people)    object\n",
       "reviews_list                   object\n",
       "menu_item                      object\n",
       "listed_in(type)                object\n",
       "listed_in(city)                object\n",
       "dtype: object"
      ]
     },
     "execution_count": 15,
     "metadata": {},
     "output_type": "execute_result"
    }
   ],
   "source": [
    "df.dtypes"
   ]
  },
  {
   "cell_type": "code",
   "execution_count": 16,
   "id": "b10e6921",
   "metadata": {},
   "outputs": [
    {
     "data": {
      "text/plain": [
       "array(['800', '300', '600', '700', '550', '500', '450', '650', '400',\n",
       "       '900', '200', '750', '150', '850', '100', '1,200', '350', '250',\n",
       "       '950', '1,000', '1,500', '1,300', '199', '80', '1,100', '160',\n",
       "       '1,600', '230', '130', '50', '190', '1,700', None, '1,400', '180',\n",
       "       '1,350', '2,200', '2,000', '1,800', '1,900', '330', '2,500',\n",
       "       '2,100', '3,000', '2,800', '3,400', '40', '1,250', '3,500',\n",
       "       '4,000', '2,400', '2,600', '120', '1,450', '469', '70', '3,200',\n",
       "       '60', '560', '240', '360', '6,000', '1,050', '2,300', '4,100',\n",
       "       '5,000', '3,700', '1,650', '2,700', '4,500', '140'], dtype=object)"
      ]
     },
     "execution_count": 16,
     "metadata": {},
     "output_type": "execute_result"
    }
   ],
   "source": [
    "df[\"approx_cost(for two people)\"].unique()"
   ]
  },
  {
   "cell_type": "code",
   "execution_count": 17,
   "id": "243d88f4",
   "metadata": {},
   "outputs": [],
   "source": [
    "df['approx_cost(for two people)'] = df['approx_cost(for two people)'].str.replace(\",\",\"\")"
   ]
  },
  {
   "cell_type": "code",
   "execution_count": 18,
   "id": "432f145f",
   "metadata": {},
   "outputs": [
    {
     "data": {
      "text/plain": [
       "array(['800', '300', '600', '700', '550', '500', '450', '650', '400',\n",
       "       '900', '200', '750', '150', '850', '100', '1200', '350', '250',\n",
       "       '950', '1000', '1500', '1300', '199', '80', '1100', '160', '1600',\n",
       "       '230', '130', '50', '190', '1700', None, '1400', '180', '1350',\n",
       "       '2200', '2000', '1800', '1900', '330', '2500', '2100', '3000',\n",
       "       '2800', '3400', '40', '1250', '3500', '4000', '2400', '2600',\n",
       "       '120', '1450', '469', '70', '3200', '60', '560', '240', '360',\n",
       "       '6000', '1050', '2300', '4100', '5000', '3700', '1650', '2700',\n",
       "       '4500', '140'], dtype=object)"
      ]
     },
     "execution_count": 18,
     "metadata": {},
     "output_type": "execute_result"
    }
   ],
   "source": [
    "df[\"approx_cost(for two people)\"].unique()"
   ]
  },
  {
   "cell_type": "code",
   "execution_count": 19,
   "id": "e47da17d",
   "metadata": {},
   "outputs": [
    {
     "data": {
      "text/plain": [
       "0         800.0\n",
       "1         800.0\n",
       "2         800.0\n",
       "3         300.0\n",
       "4         600.0\n",
       "          ...  \n",
       "51712    1500.0\n",
       "51713     600.0\n",
       "51714    2000.0\n",
       "51715    2500.0\n",
       "51716    1500.0\n",
       "Name: approx_cost(for two people), Length: 51717, dtype: float64"
      ]
     },
     "execution_count": 19,
     "metadata": {},
     "output_type": "execute_result"
    }
   ],
   "source": [
    "df['approx_cost(for two people)'].astype(float)"
   ]
  },
  {
   "cell_type": "code",
   "execution_count": 20,
   "id": "d924d87e",
   "metadata": {},
   "outputs": [
    {
     "data": {
      "text/plain": [
       "0         4.1/5\n",
       "1         4.1/5\n",
       "2         3.8/5\n",
       "3         3.7/5\n",
       "4         3.8/5\n",
       "          ...  \n",
       "51712    3.6 /5\n",
       "51713      None\n",
       "51714      None\n",
       "51715    4.3 /5\n",
       "51716    3.4 /5\n",
       "Name: rate, Length: 51717, dtype: object"
      ]
     },
     "execution_count": 20,
     "metadata": {},
     "output_type": "execute_result"
    }
   ],
   "source": [
    "df['rate']"
   ]
  },
  {
   "cell_type": "code",
   "execution_count": 21,
   "id": "f020b8ed",
   "metadata": {},
   "outputs": [
    {
     "data": {
      "text/plain": [
       "array(['4.1/5', '3.8/5', '3.7/5', '3.6/5', '4.6/5', '4.0/5', '4.2/5',\n",
       "       '3.9/5', '3.1/5', '3.0/5', '3.2/5', '3.3/5', '2.8/5', '4.4/5',\n",
       "       '4.3/5', 'NEW', '2.9/5', '3.5/5', None, '2.6/5', '3.8 /5', '3.4/5',\n",
       "       '4.5/5', '2.5/5', '2.7/5', '4.7/5', '2.4/5', '2.2/5', '2.3/5',\n",
       "       '3.4 /5', '-', '3.6 /5', '4.8/5', '3.9 /5', '4.2 /5', '4.0 /5',\n",
       "       '4.1 /5', '3.7 /5', '3.1 /5', '2.9 /5', '3.3 /5', '2.8 /5',\n",
       "       '3.5 /5', '2.7 /5', '2.5 /5', '3.2 /5', '2.6 /5', '4.5 /5',\n",
       "       '4.3 /5', '4.4 /5', '4.9/5', '2.1/5', '2.0/5', '1.8/5', '4.6 /5',\n",
       "       '4.9 /5', '3.0 /5', '4.8 /5', '2.3 /5', '4.7 /5', '2.4 /5',\n",
       "       '2.1 /5', '2.2 /5', '2.0 /5', '1.8 /5'], dtype=object)"
      ]
     },
     "execution_count": 21,
     "metadata": {},
     "output_type": "execute_result"
    }
   ],
   "source": [
    "df['rate'].unique()"
   ]
  },
  {
   "cell_type": "code",
   "execution_count": 22,
   "id": "843a646b",
   "metadata": {},
   "outputs": [],
   "source": [
    "df['rate'] = df['rate'].str.replace('/5','')"
   ]
  },
  {
   "cell_type": "code",
   "execution_count": 23,
   "id": "358892c9",
   "metadata": {},
   "outputs": [],
   "source": [
    "df['rate'] = df['rate'].astype(str)"
   ]
  },
  {
   "cell_type": "code",
   "execution_count": 24,
   "id": "a8df69c0",
   "metadata": {},
   "outputs": [
    {
     "data": {
      "text/plain": [
       "array(['4.1', '3.8', '3.7', '3.6', '4.6', '4.0', '4.2', '3.9', '3.1',\n",
       "       '3.0', '3.2', '3.3', '2.8', '4.4', '4.3', 'NEW', '2.9', '3.5',\n",
       "       'None', '2.6', '3.8 ', '3.4', '4.5', '2.5', '2.7', '4.7', '2.4',\n",
       "       '2.2', '2.3', '3.4 ', '-', '3.6 ', '4.8', '3.9 ', '4.2 ', '4.0 ',\n",
       "       '4.1 ', '3.7 ', '3.1 ', '2.9 ', '3.3 ', '2.8 ', '3.5 ', '2.7 ',\n",
       "       '2.5 ', '3.2 ', '2.6 ', '4.5 ', '4.3 ', '4.4 ', '4.9', '2.1',\n",
       "       '2.0', '1.8', '4.6 ', '4.9 ', '3.0 ', '4.8 ', '2.3 ', '4.7 ',\n",
       "       '2.4 ', '2.1 ', '2.2 ', '2.0 ', '1.8 '], dtype=object)"
      ]
     },
     "execution_count": 24,
     "metadata": {},
     "output_type": "execute_result"
    }
   ],
   "source": [
    "df['rate'].unique()"
   ]
  },
  {
   "cell_type": "code",
   "execution_count": 25,
   "id": "fc68f662",
   "metadata": {},
   "outputs": [],
   "source": [
    "df['rate'].replace('NEW', np.nan, inplace=True)\n",
    "df['rate'].replace('None', np.nan, inplace=True)\n",
    "df['rate'].replace('-', np.nan, inplace=True)"
   ]
  },
  {
   "cell_type": "code",
   "execution_count": 26,
   "id": "0c2f598b",
   "metadata": {},
   "outputs": [
    {
     "data": {
      "text/plain": [
       "10052"
      ]
     },
     "execution_count": 26,
     "metadata": {},
     "output_type": "execute_result"
    }
   ],
   "source": [
    "df['rate'].isnull().sum()"
   ]
  },
  {
   "cell_type": "code",
   "execution_count": 27,
   "id": "834e9cd6",
   "metadata": {},
   "outputs": [
    {
     "data": {
      "text/plain": [
       "0         4.1\n",
       "1         4.1\n",
       "2         3.8\n",
       "3         3.7\n",
       "4         3.8\n",
       "         ... \n",
       "51712    3.6 \n",
       "51713     NaN\n",
       "51714     NaN\n",
       "51715    4.3 \n",
       "51716    3.4 \n",
       "Name: rate, Length: 51717, dtype: object"
      ]
     },
     "execution_count": 27,
     "metadata": {},
     "output_type": "execute_result"
    }
   ],
   "source": [
    "df['rate']"
   ]
  },
  {
   "cell_type": "code",
   "execution_count": 28,
   "id": "e315b8c2",
   "metadata": {},
   "outputs": [],
   "source": [
    "df['rate'] = df['rate'].astype(float)"
   ]
  },
  {
   "cell_type": "code",
   "execution_count": 29,
   "id": "117e02b4",
   "metadata": {},
   "outputs": [
    {
     "data": {
      "text/plain": [
       "rest_type\n",
       "Quick Bites                   19132\n",
       "Casual Dining                 10330\n",
       "Cafe                           3732\n",
       "Delivery                       2604\n",
       "Dessert Parlor                 2263\n",
       "                              ...  \n",
       "Dessert Parlor, Kiosk             2\n",
       "Food Court, Beverage Shop         2\n",
       "Dessert Parlor, Food Court        2\n",
       "Sweet Shop, Dessert Parlor        1\n",
       "Quick Bites, Kiosk                1\n",
       "Name: count, Length: 93, dtype: int64"
      ]
     },
     "execution_count": 29,
     "metadata": {},
     "output_type": "execute_result"
    }
   ],
   "source": [
    "df['rest_type'].value_counts()"
   ]
  },
  {
   "cell_type": "code",
   "execution_count": 30,
   "id": "1a1083b2",
   "metadata": {},
   "outputs": [
    {
     "data": {
      "text/plain": [
       "227"
      ]
     },
     "execution_count": 30,
     "metadata": {},
     "output_type": "execute_result"
    }
   ],
   "source": [
    "df['rest_type'].isnull().sum()"
   ]
  },
  {
   "cell_type": "code",
   "execution_count": 31,
   "id": "5814b61d",
   "metadata": {},
   "outputs": [],
   "source": [
    "data = df.dropna(subset=['rest_type'])"
   ]
  },
  {
   "cell_type": "code",
   "execution_count": 32,
   "id": "a36cc4e1",
   "metadata": {},
   "outputs": [
    {
     "data": {
      "text/plain": [
       "(51490, 18)"
      ]
     },
     "execution_count": 32,
     "metadata": {},
     "output_type": "execute_result"
    }
   ],
   "source": [
    "data.shape"
   ]
  },
  {
   "cell_type": "code",
   "execution_count": 33,
   "id": "8d5878c8",
   "metadata": {},
   "outputs": [
    {
     "data": {
      "text/plain": [
       "0        False\n",
       "1        False\n",
       "2        False\n",
       "3        False\n",
       "4        False\n",
       "         ...  \n",
       "51712    False\n",
       "51713    False\n",
       "51714    False\n",
       "51715    False\n",
       "51716    False\n",
       "Name: rest_type, Length: 51490, dtype: bool"
      ]
     },
     "execution_count": 33,
     "metadata": {},
     "output_type": "execute_result"
    }
   ],
   "source": [
    "data['rest_type'].str.contains('Quick bites')"
   ]
  },
  {
   "cell_type": "code",
   "execution_count": 34,
   "id": "9eae2223",
   "metadata": {},
   "outputs": [],
   "source": [
    "data_qb = data[data['rest_type'].str.contains('Quick bites', case=False)]\n"
   ]
  },
  {
   "cell_type": "code",
   "execution_count": 35,
   "id": "6a62e39d",
   "metadata": {},
   "outputs": [
    {
     "data": {
      "text/plain": [
       "(20639, 18)"
      ]
     },
     "execution_count": 35,
     "metadata": {},
     "output_type": "execute_result"
    }
   ],
   "source": [
    "data_qb.shape"
   ]
  },
  {
   "cell_type": "code",
   "execution_count": 36,
   "id": "86955c7c",
   "metadata": {},
   "outputs": [
    {
     "data": {
      "text/plain": [
       "3                                              Masala Dosa\n",
       "23                                         Pasta, Iced Tea\n",
       "26                                                    None\n",
       "31       Burgers, Lassi, Chicken Grill, Naan, Momos, Ch...\n",
       "34       Rolls, Veggie Wrap, Chocolate Fantasy, Rice Bo...\n",
       "                               ...                        \n",
       "51641                                                 None\n",
       "51642                                                 None\n",
       "51643                                                 None\n",
       "51644                                                 None\n",
       "51645                                              Burgers\n",
       "Name: dish_liked, Length: 20639, dtype: object"
      ]
     },
     "execution_count": 36,
     "metadata": {},
     "output_type": "execute_result"
    }
   ],
   "source": [
    "data_qb['dish_liked']"
   ]
  },
  {
   "cell_type": "code",
   "execution_count": 37,
   "id": "b1d55218",
   "metadata": {},
   "outputs": [],
   "source": [
    "all_dishes = data_qb['dish_liked'].str.lower().str.cat()"
   ]
  },
  {
   "cell_type": "code",
   "execution_count": 38,
   "id": "7a51c894",
   "metadata": {
    "scrolled": true
   },
   "outputs": [
    {
     "name": "stdout",
     "output_type": "stream",
     "text": [
      "Requirement already satisfied: wordcloud in c:\\users\\shrev\\desktop\\zomato\\abc\\lib\\site-packages (1.9.2)\n",
      "Requirement already satisfied: numpy>=1.6.1 in c:\\users\\shrev\\desktop\\zomato\\abc\\lib\\site-packages (from wordcloud) (1.26.0)\n",
      "Requirement already satisfied: pillow in c:\\users\\shrev\\desktop\\zomato\\abc\\lib\\site-packages (from wordcloud) (10.0.1)\n",
      "Requirement already satisfied: matplotlib in c:\\users\\shrev\\desktop\\zomato\\abc\\lib\\site-packages (from wordcloud) (3.7.2)\n",
      "Requirement already satisfied: contourpy>=1.0.1 in c:\\users\\shrev\\desktop\\zomato\\abc\\lib\\site-packages (from matplotlib->wordcloud) (1.0.5)\n",
      "Requirement already satisfied: cycler>=0.10 in c:\\users\\shrev\\desktop\\zomato\\abc\\lib\\site-packages (from matplotlib->wordcloud) (0.11.0)\n",
      "Requirement already satisfied: fonttools>=4.22.0 in c:\\users\\shrev\\desktop\\zomato\\abc\\lib\\site-packages (from matplotlib->wordcloud) (4.25.0)\n",
      "Requirement already satisfied: kiwisolver>=1.0.1 in c:\\users\\shrev\\desktop\\zomato\\abc\\lib\\site-packages (from matplotlib->wordcloud) (1.4.4)\n",
      "Requirement already satisfied: packaging>=20.0 in c:\\users\\shrev\\desktop\\zomato\\abc\\lib\\site-packages (from matplotlib->wordcloud) (23.1)\n",
      "Requirement already satisfied: pyparsing<3.1,>=2.3.1 in c:\\users\\shrev\\desktop\\zomato\\abc\\lib\\site-packages (from matplotlib->wordcloud) (3.0.9)\n",
      "Requirement already satisfied: python-dateutil>=2.7 in c:\\users\\shrev\\desktop\\zomato\\abc\\lib\\site-packages (from matplotlib->wordcloud) (2.8.2)\n",
      "Requirement already satisfied: six>=1.5 in c:\\users\\shrev\\desktop\\zomato\\abc\\lib\\site-packages (from python-dateutil>=2.7->matplotlib->wordcloud) (1.16.0)\n"
     ]
    }
   ],
   "source": [
    "!pip install wordcloud"
   ]
  },
  {
   "cell_type": "code",
   "execution_count": 39,
   "id": "7e94012b",
   "metadata": {},
   "outputs": [],
   "source": [
    "import wordcloud"
   ]
  },
  {
   "cell_type": "code",
   "execution_count": 40,
   "id": "f885eee5",
   "metadata": {},
   "outputs": [],
   "source": [
    "from wordcloud.wordcloud import WordCloud"
   ]
  },
  {
   "cell_type": "code",
   "execution_count": 41,
   "id": "38a0a65e",
   "metadata": {},
   "outputs": [],
   "source": [
    "wordcloud = WordCloud().generate(all_dishes)"
   ]
  },
  {
   "cell_type": "code",
   "execution_count": 42,
   "id": "9e85e207",
   "metadata": {},
   "outputs": [
    {
     "data": {
      "text/plain": [
       "(-0.5, 399.5, 199.5, -0.5)"
      ]
     },
     "execution_count": 42,
     "metadata": {},
     "output_type": "execute_result"
    },
    {
     "data": {
      "image/png": "[encoded data removed]",
      "text/plain": [
       "<Figure size 640x480 with 1 Axes>"
      ]
     },
     "metadata": {},
     "output_type": "display_data"
    }
   ],
   "source": [
    "plt.imshow(wordcloud)\n",
    "plt.axis('off')"
   ]
  },
  {
   "cell_type": "code",
   "execution_count": 43,
   "id": "45884566",
   "metadata": {},
   "outputs": [
    {
     "data": {
      "text/plain": [
       "index                              0\n",
       "url                                0\n",
       "address                            0\n",
       "name                               0\n",
       "online_order                       0\n",
       "book_table                         0\n",
       "rate                           10052\n",
       "votes                              0\n",
       "phone                           1208\n",
       "location                          21\n",
       "rest_type                        227\n",
       "dish_liked                     28078\n",
       "cuisines                          45\n",
       "approx_cost(for two people)      346\n",
       "reviews_list                       0\n",
       "menu_item                          0\n",
       "listed_in(type)                    0\n",
       "listed_in(city)                    0\n",
       "dtype: int64"
      ]
     },
     "execution_count": 43,
     "metadata": {},
     "output_type": "execute_result"
    }
   ],
   "source": [
    "df.isnull().sum()"
   ]
  },
  {
   "cell_type": "code",
   "execution_count": 44,
   "id": "42171c2d",
   "metadata": {},
   "outputs": [
    {
     "data": {
      "text/plain": [
       "Index(['index', 'url', 'address', 'name', 'online_order', 'book_table', 'rate',\n",
       "       'votes', 'phone', 'location', 'rest_type', 'dish_liked', 'cuisines',\n",
       "       'approx_cost(for two people)', 'reviews_list', 'menu_item',\n",
       "       'listed_in(type)', 'listed_in(city)'],\n",
       "      dtype='object')"
      ]
     },
     "execution_count": 44,
     "metadata": {},
     "output_type": "execute_result"
    }
   ],
   "source": [
    "df.columns"
   ]
  },
  {
   "cell_type": "code",
   "execution_count": 45,
   "id": "292ffbc1",
   "metadata": {},
   "outputs": [
    {
     "data": {
      "text/html": [
       "<div>\n",
       "<style scoped>\n",
       "    .dataframe tbody tr th:only-of-type {\n",
       "        vertical-align: middle;\n",
       "    }\n",
       "\n",
       "    .dataframe tbody tr th {\n",
       "        vertical-align: top;\n",
       "    }\n",
       "\n",
       "    .dataframe thead th {\n",
       "        text-align: right;\n",
       "    }\n",
       "</style>\n",
       "<table border=\"1\" class=\"dataframe\">\n",
       "  <thead>\n",
       "    <tr style=\"text-align: right;\">\n",
       "      <th></th>\n",
       "      <th>rate</th>\n",
       "      <th>reviews_list</th>\n",
       "    </tr>\n",
       "  </thead>\n",
       "  <tbody>\n",
       "    <tr>\n",
       "      <th>0</th>\n",
       "      <td>4.1</td>\n",
       "      <td>[('Rated 4.0', 'RATED\\n  A beautiful place to ...</td>\n",
       "    </tr>\n",
       "    <tr>\n",
       "      <th>1</th>\n",
       "      <td>4.1</td>\n",
       "      <td>[('Rated 4.0', 'RATED\\n  Had been here for din...</td>\n",
       "    </tr>\n",
       "    <tr>\n",
       "      <th>2</th>\n",
       "      <td>3.8</td>\n",
       "      <td>[('Rated 3.0', \"RATED\\n  Ambience is not that ...</td>\n",
       "    </tr>\n",
       "    <tr>\n",
       "      <th>3</th>\n",
       "      <td>3.7</td>\n",
       "      <td>[('Rated 4.0', \"RATED\\n  Great food and proper...</td>\n",
       "    </tr>\n",
       "    <tr>\n",
       "      <th>4</th>\n",
       "      <td>3.8</td>\n",
       "      <td>[('Rated 4.0', 'RATED\\n  Very good restaurant ...</td>\n",
       "    </tr>\n",
       "    <tr>\n",
       "      <th>...</th>\n",
       "      <td>...</td>\n",
       "      <td>...</td>\n",
       "    </tr>\n",
       "    <tr>\n",
       "      <th>51712</th>\n",
       "      <td>3.6</td>\n",
       "      <td>[('Rated 5.0', \"RATED\\n  Food and service are ...</td>\n",
       "    </tr>\n",
       "    <tr>\n",
       "      <th>51713</th>\n",
       "      <td>NaN</td>\n",
       "      <td>[]</td>\n",
       "    </tr>\n",
       "    <tr>\n",
       "      <th>51714</th>\n",
       "      <td>NaN</td>\n",
       "      <td>[]</td>\n",
       "    </tr>\n",
       "    <tr>\n",
       "      <th>51715</th>\n",
       "      <td>4.3</td>\n",
       "      <td>[('Rated 4.0', 'RATED\\n  Nice and friendly pla...</td>\n",
       "    </tr>\n",
       "    <tr>\n",
       "      <th>51716</th>\n",
       "      <td>3.4</td>\n",
       "      <td>[('Rated 5.0', 'RATED\\n  Great ambience , look...</td>\n",
       "    </tr>\n",
       "  </tbody>\n",
       "</table>\n",
       "<p>51717 rows × 2 columns</p>\n",
       "</div>"
      ],
      "text/plain": [
       "       rate                                       reviews_list\n",
       "0       4.1  [('Rated 4.0', 'RATED\\n  A beautiful place to ...\n",
       "1       4.1  [('Rated 4.0', 'RATED\\n  Had been here for din...\n",
       "2       3.8  [('Rated 3.0', \"RATED\\n  Ambience is not that ...\n",
       "3       3.7  [('Rated 4.0', \"RATED\\n  Great food and proper...\n",
       "4       3.8  [('Rated 4.0', 'RATED\\n  Very good restaurant ...\n",
       "...     ...                                                ...\n",
       "51712   3.6  [('Rated 5.0', \"RATED\\n  Food and service are ...\n",
       "51713   NaN                                                 []\n",
       "51714   NaN                                                 []\n",
       "51715   4.3  [('Rated 4.0', 'RATED\\n  Nice and friendly pla...\n",
       "51716   3.4  [('Rated 5.0', 'RATED\\n  Great ambience , look...\n",
       "\n",
       "[51717 rows x 2 columns]"
      ]
     },
     "execution_count": 45,
     "metadata": {},
     "output_type": "execute_result"
    }
   ],
   "source": [
    "df[['rate' , 'reviews_list']]"
   ]
  },
  {
   "cell_type": "code",
   "execution_count": 46,
   "id": "a1edd80e",
   "metadata": {},
   "outputs": [
    {
     "data": {
      "text/plain": [
       "0        False\n",
       "1        False\n",
       "2        False\n",
       "3        False\n",
       "4        False\n",
       "         ...  \n",
       "51712    False\n",
       "51713     True\n",
       "51714     True\n",
       "51715    False\n",
       "51716    False\n",
       "Name: rate, Length: 51717, dtype: bool"
      ]
     },
     "execution_count": 46,
     "metadata": {},
     "output_type": "execute_result"
    }
   ],
   "source": [
    "df['rate'].isnull()"
   ]
  },
  {
   "cell_type": "code",
   "execution_count": 47,
   "id": "9c997fb3",
   "metadata": {},
   "outputs": [
    {
     "data": {
      "text/html": [
       "<div>\n",
       "<style scoped>\n",
       "    .dataframe tbody tr th:only-of-type {\n",
       "        vertical-align: middle;\n",
       "    }\n",
       "\n",
       "    .dataframe tbody tr th {\n",
       "        vertical-align: top;\n",
       "    }\n",
       "\n",
       "    .dataframe thead th {\n",
       "        text-align: right;\n",
       "    }\n",
       "</style>\n",
       "<table border=\"1\" class=\"dataframe\">\n",
       "  <thead>\n",
       "    <tr style=\"text-align: right;\">\n",
       "      <th></th>\n",
       "      <th>index</th>\n",
       "      <th>url</th>\n",
       "      <th>address</th>\n",
       "      <th>name</th>\n",
       "      <th>online_order</th>\n",
       "      <th>book_table</th>\n",
       "      <th>rate</th>\n",
       "      <th>votes</th>\n",
       "      <th>phone</th>\n",
       "      <th>location</th>\n",
       "      <th>rest_type</th>\n",
       "      <th>dish_liked</th>\n",
       "      <th>cuisines</th>\n",
       "      <th>approx_cost(for two people)</th>\n",
       "      <th>reviews_list</th>\n",
       "      <th>menu_item</th>\n",
       "      <th>listed_in(type)</th>\n",
       "      <th>listed_in(city)</th>\n",
       "    </tr>\n",
       "  </thead>\n",
       "  <tbody>\n",
       "    <tr>\n",
       "      <th>72</th>\n",
       "      <td>72</td>\n",
       "      <td>https://www.zomato.com/bangalore/spicy-tandoor...</td>\n",
       "      <td>Opposite ICICi Bank, Hanuman Nagar, Banashanka...</td>\n",
       "      <td>Spicy Tandoor</td>\n",
       "      <td>No</td>\n",
       "      <td>No</td>\n",
       "      <td>NaN</td>\n",
       "      <td>0</td>\n",
       "      <td>+91 8050884222</td>\n",
       "      <td>Banashankari</td>\n",
       "      <td>Quick Bites</td>\n",
       "      <td>None</td>\n",
       "      <td>North Indian</td>\n",
       "      <td>150</td>\n",
       "      <td>[('Rated 4.0', 'RATED\\n  cost for chicken roll...</td>\n",
       "      <td>[]</td>\n",
       "      <td>Delivery</td>\n",
       "      <td>Banashankari</td>\n",
       "    </tr>\n",
       "    <tr>\n",
       "      <th>75</th>\n",
       "      <td>75</td>\n",
       "      <td>https://www.zomato.com/bangalore/om-sri-vinaya...</td>\n",
       "      <td>39, S B M Colony, Near-Sita Circle, 1st Stage,...</td>\n",
       "      <td>Om Sri Vinayaka Chats</td>\n",
       "      <td>No</td>\n",
       "      <td>No</td>\n",
       "      <td>NaN</td>\n",
       "      <td>0</td>\n",
       "      <td>+91 8553206035</td>\n",
       "      <td>Banashankari</td>\n",
       "      <td>Takeaway, Delivery</td>\n",
       "      <td>None</td>\n",
       "      <td>Street Food, Fast Food</td>\n",
       "      <td>500</td>\n",
       "      <td>[]</td>\n",
       "      <td>[]</td>\n",
       "      <td>Delivery</td>\n",
       "      <td>Banashankari</td>\n",
       "    </tr>\n",
       "    <tr>\n",
       "      <th>84</th>\n",
       "      <td>84</td>\n",
       "      <td>https://www.zomato.com/bangalore/chill-out-ban...</td>\n",
       "      <td>161/C, 6th Main, 80 Feet Road, Bhuvaneshwari N...</td>\n",
       "      <td>Chill Out</td>\n",
       "      <td>No</td>\n",
       "      <td>No</td>\n",
       "      <td>NaN</td>\n",
       "      <td>0</td>\n",
       "      <td>+91 9341215167</td>\n",
       "      <td>Banashankari</td>\n",
       "      <td>Quick Bites</td>\n",
       "      <td>None</td>\n",
       "      <td>South Indian, Chinese</td>\n",
       "      <td>100</td>\n",
       "      <td>[('Rated 4.0', 'RATED\\n  Good Location. Small ...</td>\n",
       "      <td>[]</td>\n",
       "      <td>Delivery</td>\n",
       "      <td>Banashankari</td>\n",
       "    </tr>\n",
       "    <tr>\n",
       "      <th>90</th>\n",
       "      <td>90</td>\n",
       "      <td>https://www.zomato.com/bangalore/me-and-my-cak...</td>\n",
       "      <td>BDA Shopping Complex, 24th Cross Road, Siddann...</td>\n",
       "      <td>Me And My Cake</td>\n",
       "      <td>No</td>\n",
       "      <td>No</td>\n",
       "      <td>NaN</td>\n",
       "      <td>0</td>\n",
       "      <td>+91 9036070410</td>\n",
       "      <td>Banashankari</td>\n",
       "      <td>Delivery</td>\n",
       "      <td>None</td>\n",
       "      <td>Bakery, Desserts</td>\n",
       "      <td>500</td>\n",
       "      <td>[('Rated 1.0', 'RATED\\n  Do not order anything...</td>\n",
       "      <td>[]</td>\n",
       "      <td>Delivery</td>\n",
       "      <td>Banashankari</td>\n",
       "    </tr>\n",
       "    <tr>\n",
       "      <th>91</th>\n",
       "      <td>91</td>\n",
       "      <td>https://www.zomato.com/bangalore/sunsadm-banas...</td>\n",
       "      <td>Shop 18 , 3rd cross road,Markandeya Layout, Ba...</td>\n",
       "      <td>Sunsadm</td>\n",
       "      <td>No</td>\n",
       "      <td>No</td>\n",
       "      <td>NaN</td>\n",
       "      <td>0</td>\n",
       "      <td>+91 7829290358</td>\n",
       "      <td>Banashankari</td>\n",
       "      <td>Takeaway, Delivery</td>\n",
       "      <td>None</td>\n",
       "      <td>South Indian</td>\n",
       "      <td>400</td>\n",
       "      <td>[]</td>\n",
       "      <td>[]</td>\n",
       "      <td>Delivery</td>\n",
       "      <td>Banashankari</td>\n",
       "    </tr>\n",
       "    <tr>\n",
       "      <th>...</th>\n",
       "      <td>...</td>\n",
       "      <td>...</td>\n",
       "      <td>...</td>\n",
       "      <td>...</td>\n",
       "      <td>...</td>\n",
       "      <td>...</td>\n",
       "      <td>...</td>\n",
       "      <td>...</td>\n",
       "      <td>...</td>\n",
       "      <td>...</td>\n",
       "      <td>...</td>\n",
       "      <td>...</td>\n",
       "      <td>...</td>\n",
       "      <td>...</td>\n",
       "      <td>...</td>\n",
       "      <td>...</td>\n",
       "      <td>...</td>\n",
       "      <td>...</td>\n",
       "    </tr>\n",
       "    <tr>\n",
       "      <th>51644</th>\n",
       "      <td>51644</td>\n",
       "      <td>https://www.zomato.com/bangalore/punjabi-thadk...</td>\n",
       "      <td>7/3, ASK Tower, Kundanahalli Gate, Next to Bat...</td>\n",
       "      <td>Punjabi Thadka</td>\n",
       "      <td>No</td>\n",
       "      <td>No</td>\n",
       "      <td>NaN</td>\n",
       "      <td>0</td>\n",
       "      <td>+91 7338330336\\n+91 9591568221</td>\n",
       "      <td>Brookefield</td>\n",
       "      <td>Quick Bites</td>\n",
       "      <td>None</td>\n",
       "      <td>North Indian</td>\n",
       "      <td>400</td>\n",
       "      <td>[]</td>\n",
       "      <td>[]</td>\n",
       "      <td>Dine-out</td>\n",
       "      <td>Whitefield</td>\n",
       "    </tr>\n",
       "    <tr>\n",
       "      <th>51675</th>\n",
       "      <td>51675</td>\n",
       "      <td>https://www.zomato.com/bangalore/topsy-turvey-...</td>\n",
       "      <td>2E2, 4th Cross Road, Devasandra Industrial Est...</td>\n",
       "      <td>Topsy Turvey</td>\n",
       "      <td>No</td>\n",
       "      <td>No</td>\n",
       "      <td>NaN</td>\n",
       "      <td>0</td>\n",
       "      <td>+91 9148155994</td>\n",
       "      <td>Whitefield</td>\n",
       "      <td>Bar</td>\n",
       "      <td>None</td>\n",
       "      <td>Finger Food</td>\n",
       "      <td>900</td>\n",
       "      <td>[('Rated 4.0', \"RATED\\n  A divine joint for Fl...</td>\n",
       "      <td>[]</td>\n",
       "      <td>Drinks &amp; nightlife</td>\n",
       "      <td>Whitefield</td>\n",
       "    </tr>\n",
       "    <tr>\n",
       "      <th>51710</th>\n",
       "      <td>51710</td>\n",
       "      <td>https://www.zomato.com/bangalore/topsy-turvey-...</td>\n",
       "      <td>2E2, 4th Cross Road, Devasandra Industrial Est...</td>\n",
       "      <td>Topsy Turvey</td>\n",
       "      <td>No</td>\n",
       "      <td>No</td>\n",
       "      <td>NaN</td>\n",
       "      <td>0</td>\n",
       "      <td>+91 9148155994</td>\n",
       "      <td>Whitefield</td>\n",
       "      <td>Bar</td>\n",
       "      <td>None</td>\n",
       "      <td>Finger Food</td>\n",
       "      <td>900</td>\n",
       "      <td>[('Rated 4.0', \"RATED\\n  A divine joint for Fl...</td>\n",
       "      <td>[]</td>\n",
       "      <td>Pubs and bars</td>\n",
       "      <td>Whitefield</td>\n",
       "    </tr>\n",
       "    <tr>\n",
       "      <th>51713</th>\n",
       "      <td>51713</td>\n",
       "      <td>https://www.zomato.com/bangalore/vinod-bar-and...</td>\n",
       "      <td>Number 10, Garudachar Palya, Mahadevapura, Whi...</td>\n",
       "      <td>Vinod Bar And Restaurant</td>\n",
       "      <td>No</td>\n",
       "      <td>No</td>\n",
       "      <td>NaN</td>\n",
       "      <td>0</td>\n",
       "      <td>+91 8197675843</td>\n",
       "      <td>Whitefield</td>\n",
       "      <td>Bar</td>\n",
       "      <td>None</td>\n",
       "      <td>Finger Food</td>\n",
       "      <td>600</td>\n",
       "      <td>[]</td>\n",
       "      <td>[]</td>\n",
       "      <td>Pubs and bars</td>\n",
       "      <td>Whitefield</td>\n",
       "    </tr>\n",
       "    <tr>\n",
       "      <th>51714</th>\n",
       "      <td>51714</td>\n",
       "      <td>https://www.zomato.com/bangalore/plunge-sherat...</td>\n",
       "      <td>Sheraton Grand Bengaluru Whitefield Hotel &amp; Co...</td>\n",
       "      <td>Plunge - Sheraton Grand Bengaluru Whitefield H...</td>\n",
       "      <td>No</td>\n",
       "      <td>No</td>\n",
       "      <td>NaN</td>\n",
       "      <td>0</td>\n",
       "      <td>None</td>\n",
       "      <td>Whitefield</td>\n",
       "      <td>Bar</td>\n",
       "      <td>None</td>\n",
       "      <td>Finger Food</td>\n",
       "      <td>2000</td>\n",
       "      <td>[]</td>\n",
       "      <td>[]</td>\n",
       "      <td>Pubs and bars</td>\n",
       "      <td>Whitefield</td>\n",
       "    </tr>\n",
       "  </tbody>\n",
       "</table>\n",
       "<p>10052 rows × 18 columns</p>\n",
       "</div>"
      ],
      "text/plain": [
       "       index                                                url  \\\n",
       "72        72  https://www.zomato.com/bangalore/spicy-tandoor...   \n",
       "75        75  https://www.zomato.com/bangalore/om-sri-vinaya...   \n",
       "84        84  https://www.zomato.com/bangalore/chill-out-ban...   \n",
       "90        90  https://www.zomato.com/bangalore/me-and-my-cak...   \n",
       "91        91  https://www.zomato.com/bangalore/sunsadm-banas...   \n",
       "...      ...                                                ...   \n",
       "51644  51644  https://www.zomato.com/bangalore/punjabi-thadk...   \n",
       "51675  51675  https://www.zomato.com/bangalore/topsy-turvey-...   \n",
       "51710  51710  https://www.zomato.com/bangalore/topsy-turvey-...   \n",
       "51713  51713  https://www.zomato.com/bangalore/vinod-bar-and...   \n",
       "51714  51714  https://www.zomato.com/bangalore/plunge-sherat...   \n",
       "\n",
       "                                                 address  \\\n",
       "72     Opposite ICICi Bank, Hanuman Nagar, Banashanka...   \n",
       "75     39, S B M Colony, Near-Sita Circle, 1st Stage,...   \n",
       "84     161/C, 6th Main, 80 Feet Road, Bhuvaneshwari N...   \n",
       "90     BDA Shopping Complex, 24th Cross Road, Siddann...   \n",
       "91     Shop 18 , 3rd cross road,Markandeya Layout, Ba...   \n",
       "...                                                  ...   \n",
       "51644  7/3, ASK Tower, Kundanahalli Gate, Next to Bat...   \n",
       "51675  2E2, 4th Cross Road, Devasandra Industrial Est...   \n",
       "51710  2E2, 4th Cross Road, Devasandra Industrial Est...   \n",
       "51713  Number 10, Garudachar Palya, Mahadevapura, Whi...   \n",
       "51714  Sheraton Grand Bengaluru Whitefield Hotel & Co...   \n",
       "\n",
       "                                                    name online_order  \\\n",
       "72                                         Spicy Tandoor           No   \n",
       "75                                 Om Sri Vinayaka Chats           No   \n",
       "84                                             Chill Out           No   \n",
       "90                                        Me And My Cake           No   \n",
       "91                                               Sunsadm           No   \n",
       "...                                                  ...          ...   \n",
       "51644                                     Punjabi Thadka           No   \n",
       "51675                                       Topsy Turvey           No   \n",
       "51710                                       Topsy Turvey           No   \n",
       "51713                           Vinod Bar And Restaurant           No   \n",
       "51714  Plunge - Sheraton Grand Bengaluru Whitefield H...           No   \n",
       "\n",
       "      book_table  rate  votes                           phone      location  \\\n",
       "72            No   NaN      0                  +91 8050884222  Banashankari   \n",
       "75            No   NaN      0                  +91 8553206035  Banashankari   \n",
       "84            No   NaN      0                  +91 9341215167  Banashankari   \n",
       "90            No   NaN      0                  +91 9036070410  Banashankari   \n",
       "91            No   NaN      0                  +91 7829290358  Banashankari   \n",
       "...          ...   ...    ...                             ...           ...   \n",
       "51644         No   NaN      0  +91 7338330336\\n+91 9591568221   Brookefield   \n",
       "51675         No   NaN      0                  +91 9148155994    Whitefield   \n",
       "51710         No   NaN      0                  +91 9148155994    Whitefield   \n",
       "51713         No   NaN      0                  +91 8197675843    Whitefield   \n",
       "51714         No   NaN      0                            None    Whitefield   \n",
       "\n",
       "                rest_type dish_liked                cuisines  \\\n",
       "72            Quick Bites       None            North Indian   \n",
       "75     Takeaway, Delivery       None  Street Food, Fast Food   \n",
       "84            Quick Bites       None   South Indian, Chinese   \n",
       "90               Delivery       None        Bakery, Desserts   \n",
       "91     Takeaway, Delivery       None            South Indian   \n",
       "...                   ...        ...                     ...   \n",
       "51644         Quick Bites       None            North Indian   \n",
       "51675                 Bar       None             Finger Food   \n",
       "51710                 Bar       None             Finger Food   \n",
       "51713                 Bar       None             Finger Food   \n",
       "51714                 Bar       None             Finger Food   \n",
       "\n",
       "      approx_cost(for two people)  \\\n",
       "72                            150   \n",
       "75                            500   \n",
       "84                            100   \n",
       "90                            500   \n",
       "91                            400   \n",
       "...                           ...   \n",
       "51644                         400   \n",
       "51675                         900   \n",
       "51710                         900   \n",
       "51713                         600   \n",
       "51714                        2000   \n",
       "\n",
       "                                            reviews_list menu_item  \\\n",
       "72     [('Rated 4.0', 'RATED\\n  cost for chicken roll...        []   \n",
       "75                                                    []        []   \n",
       "84     [('Rated 4.0', 'RATED\\n  Good Location. Small ...        []   \n",
       "90     [('Rated 1.0', 'RATED\\n  Do not order anything...        []   \n",
       "91                                                    []        []   \n",
       "...                                                  ...       ...   \n",
       "51644                                                 []        []   \n",
       "51675  [('Rated 4.0', \"RATED\\n  A divine joint for Fl...        []   \n",
       "51710  [('Rated 4.0', \"RATED\\n  A divine joint for Fl...        []   \n",
       "51713                                                 []        []   \n",
       "51714                                                 []        []   \n",
       "\n",
       "          listed_in(type) listed_in(city)  \n",
       "72               Delivery    Banashankari  \n",
       "75               Delivery    Banashankari  \n",
       "84               Delivery    Banashankari  \n",
       "90               Delivery    Banashankari  \n",
       "91               Delivery    Banashankari  \n",
       "...                   ...             ...  \n",
       "51644            Dine-out      Whitefield  \n",
       "51675  Drinks & nightlife      Whitefield  \n",
       "51710       Pubs and bars      Whitefield  \n",
       "51713       Pubs and bars      Whitefield  \n",
       "51714       Pubs and bars      Whitefield  \n",
       "\n",
       "[10052 rows x 18 columns]"
      ]
     },
     "execution_count": 47,
     "metadata": {},
     "output_type": "execute_result"
    }
   ],
   "source": [
    "df[df['rate'].isnull()] ## rows in which 'rate' have missing value .."
   ]
  },
  {
   "cell_type": "code",
   "execution_count": 48,
   "id": "a0ee8902",
   "metadata": {},
   "outputs": [
    {
     "data": {
      "text/plain": [
       "Index([   72,    75,    84,    90,    91,    92,   107,   110,   113,   114,\n",
       "       ...\n",
       "       51636, 51638, 51639, 51642, 51643, 51644, 51675, 51710, 51713, 51714],\n",
       "      dtype='int64', length=10052)"
      ]
     },
     "execution_count": 48,
     "metadata": {},
     "output_type": "execute_result"
    }
   ],
   "source": [
    "df[df['rate'].isnull()].index ## indexes at which 'rate' have missing value .."
   ]
  },
  {
   "cell_type": "code",
   "execution_count": 49,
   "id": "e91d1e88",
   "metadata": {},
   "outputs": [
    {
     "data": {
      "text/plain": [
       "nan"
      ]
     },
     "execution_count": 49,
     "metadata": {},
     "output_type": "execute_result"
    }
   ],
   "source": [
    "df['rate'][72] ## as at 72 index we have Nan(missing value) in 'rate'"
   ]
  },
  {
   "cell_type": "code",
   "execution_count": 50,
   "id": "fffe2269",
   "metadata": {},
   "outputs": [
    {
     "data": {
      "text/plain": [
       "\"[('Rated 4.0', 'RATED\\\\n  cost for chicken rolls is very high but fine taste by pandey and is crew. pls deduct the cost of rolls and great variety of food is been served'), ('Rated 5.0', 'RATED\\\\n  Awesome taste, feel rich taste of food, cleanness is very good, very friendly nature by the hotel person, totally awesome, all the best gud luck')]\""
      ]
     },
     "execution_count": 50,
     "metadata": {},
     "output_type": "execute_result"
    }
   ],
   "source": [
    "df['reviews_list'][72]"
   ]
  },
  {
   "cell_type": "code",
   "execution_count": 51,
   "id": "fdd711bf",
   "metadata": {},
   "outputs": [
    {
     "data": {
      "text/plain": [
       "str"
      ]
     },
     "execution_count": 51,
     "metadata": {},
     "output_type": "execute_result"
    }
   ],
   "source": [
    "type(df['reviews_list'][72])"
   ]
  },
  {
   "cell_type": "code",
   "execution_count": 52,
   "id": "639befe2",
   "metadata": {},
   "outputs": [],
   "source": [
    "import ast ## inbuilt module ast (abstract syntax trees)"
   ]
  },
  {
   "cell_type": "code",
   "execution_count": 53,
   "id": "a9e9a3dd",
   "metadata": {},
   "outputs": [
    {
     "data": {
      "text/plain": [
       "[('Rated 4.0',\n",
       "  'RATED\\n  cost for chicken rolls is very high but fine taste by pandey and is crew. pls deduct the cost of rolls and great variety of food is been served'),\n",
       " ('Rated 5.0',\n",
       "  'RATED\\n  Awesome taste, feel rich taste of food, cleanness is very good, very friendly nature by the hotel person, totally awesome, all the best gud luck')]"
      ]
     },
     "execution_count": 53,
     "metadata": {},
     "output_type": "execute_result"
    }
   ],
   "source": [
    "ast.literal_eval(df['reviews_list'][72]) # return \"a list of tuples\""
   ]
  },
  {
   "cell_type": "code",
   "execution_count": 54,
   "id": "aed06316",
   "metadata": {},
   "outputs": [],
   "source": [
    "\n",
    "first_input = ast.literal_eval(df['reviews_list'][72])[0]"
   ]
  },
  {
   "cell_type": "code",
   "execution_count": 55,
   "id": "eacc83ae",
   "metadata": {},
   "outputs": [
    {
     "data": {
      "text/plain": [
       "('Rated 4.0',\n",
       " 'RATED\\n  cost for chicken rolls is very high but fine taste by pandey and is crew. pls deduct the cost of rolls and great variety of food is been served')"
      ]
     },
     "execution_count": 55,
     "metadata": {},
     "output_type": "execute_result"
    }
   ],
   "source": [
    "first_input"
   ]
  },
  {
   "cell_type": "code",
   "execution_count": 62,
   "id": "5b52a41d",
   "metadata": {},
   "outputs": [
    {
     "data": {
      "text/plain": [
       "4.0"
      ]
     },
     "execution_count": 62,
     "metadata": {},
     "output_type": "execute_result"
    }
   ],
   "source": [
    "[i.replace('Rated' , '').strip() for i in first_input] ## remove \"Rated\" !\n",
    "\n",
    "[i.replace('Rated' , '').strip() for i in first_input][0] ## remove \"Rated\" !\n",
    "\n",
    "[i.replace('Rated' , '').strip() for i in first_input][0]\n",
    "\n",
    "type([i.replace('Rated' , '').strip() for i in first_input][0])\n",
    "float([i.replace('Rated' , '').strip() for i in first_input][0]) ## convert string value into float..\n",
    "\n",
    "\n"
   ]
  },
  {
   "cell_type": "code",
   "execution_count": 57,
   "id": "7f95417e",
   "metadata": {},
   "outputs": [],
   "source": [
    "def get_Rate(x):\n",
    "    list_of_reviews = ast.literal_eval(x)\n",
    "    \n",
    "    if list_of_reviews is None or len(list_of_reviews)<=1:\n",
    "        return None\n",
    "    else:\n",
    "        first_input = list_of_reviews[0]\n",
    "        rate = float([i.replace('Rated' , '').strip() for i in first_input][0])\n",
    "        return rate"
   ]
  },
  {
   "cell_type": "code",
   "execution_count": 61,
   "id": "3d6dcc02",
   "metadata": {},
   "outputs": [
    {
     "data": {
      "text/plain": [
       "4.0"
      ]
     },
     "execution_count": 61,
     "metadata": {},
     "output_type": "execute_result"
    }
   ],
   "source": [
    "df['rate_from_reviews_list'] = df['reviews_list'].apply(get_Rate) ## applying function\n",
    "get_Rate(df['reviews_list'][72])\n"
   ]
  },
  {
   "cell_type": "code",
   "execution_count": 65,
   "id": "cf96e4f5",
   "metadata": {},
   "outputs": [
    {
     "data": {
      "text/plain": [
       "0        4.0\n",
       "1        4.0\n",
       "2        3.0\n",
       "3        4.0\n",
       "4        4.0\n",
       "        ... \n",
       "51712    5.0\n",
       "51713    NaN\n",
       "51714    NaN\n",
       "51715    4.0\n",
       "51716    5.0\n",
       "Name: rate_from_reviews_list, Length: 51717, dtype: float64"
      ]
     },
     "execution_count": 65,
     "metadata": {},
     "output_type": "execute_result"
    }
   ],
   "source": [
    "df['rate_from_reviews_list']"
   ]
  },
  {
   "cell_type": "code",
   "execution_count": 66,
   "id": "29ae5203",
   "metadata": {},
   "outputs": [
    {
     "data": {
      "text/plain": [
       "4.0"
      ]
     },
     "execution_count": 66,
     "metadata": {},
     "output_type": "execute_result"
    }
   ],
   "source": [
    "df['rate_from_reviews_list'][72]"
   ]
  },
  {
   "cell_type": "code",
   "execution_count": 67,
   "id": "f342104e",
   "metadata": {},
   "outputs": [
    {
     "data": {
      "text/plain": [
       "4.0"
      ]
     },
     "execution_count": 67,
     "metadata": {},
     "output_type": "execute_result"
    }
   ],
   "source": [
    "df['rate'][72]"
   ]
  },
  {
   "cell_type": "code",
   "execution_count": 68,
   "id": "f36fda63",
   "metadata": {},
   "outputs": [
    {
     "name": "stderr",
     "output_type": "stream",
     "text": [
      "C:\\Users\\shrev\\AppData\\Local\\Temp\\ipykernel_3760\\3757822831.py:1: SettingWithCopyWarning: \n",
      "A value is trying to be set on a copy of a slice from a DataFrame\n",
      "\n",
      "See the caveats in the documentation: https://pandas.pydata.org/pandas-docs/stable/user_guide/indexing.html#returning-a-view-versus-a-copy\n",
      "  df['rate'][72] = df['rate_from_reviews_list'][72]\n"
     ]
    }
   ],
   "source": [
    "df['rate'][72] = df['rate_from_reviews_list'][72]"
   ]
  },
  {
   "cell_type": "code",
   "execution_count": 69,
   "id": "47f48af6",
   "metadata": {},
   "outputs": [],
   "source": [
    "## use warnings to get rid of any warning !\n",
    "import warnings\n",
    "from warnings import filterwarnings\n",
    "filterwarnings('ignore')"
   ]
  },
  {
   "cell_type": "code",
   "execution_count": 70,
   "id": "8c18bf53",
   "metadata": {},
   "outputs": [
    {
     "data": {
      "text/plain": [
       "4.0"
      ]
     },
     "execution_count": 70,
     "metadata": {},
     "output_type": "execute_result"
    }
   ],
   "source": [
    "df['rate'][72]"
   ]
  },
  {
   "cell_type": "code",
   "execution_count": 71,
   "id": "366de93c",
   "metadata": {},
   "outputs": [
    {
     "data": {
      "text/plain": [
       "0        False\n",
       "1        False\n",
       "2        False\n",
       "3        False\n",
       "4        False\n",
       "         ...  \n",
       "51712    False\n",
       "51713     True\n",
       "51714     True\n",
       "51715    False\n",
       "51716    False\n",
       "Name: rate, Length: 51717, dtype: bool"
      ]
     },
     "execution_count": 71,
     "metadata": {},
     "output_type": "execute_result"
    }
   ],
   "source": [
    "df['rate'].isnull()"
   ]
  },
  {
   "cell_type": "code",
   "execution_count": 72,
   "id": "b7b8c1bb",
   "metadata": {},
   "outputs": [
    {
     "data": {
      "text/html": [
       "<div>\n",
       "<style scoped>\n",
       "    .dataframe tbody tr th:only-of-type {\n",
       "        vertical-align: middle;\n",
       "    }\n",
       "\n",
       "    .dataframe tbody tr th {\n",
       "        vertical-align: top;\n",
       "    }\n",
       "\n",
       "    .dataframe thead th {\n",
       "        text-align: right;\n",
       "    }\n",
       "</style>\n",
       "<table border=\"1\" class=\"dataframe\">\n",
       "  <thead>\n",
       "    <tr style=\"text-align: right;\">\n",
       "      <th></th>\n",
       "      <th>index</th>\n",
       "      <th>url</th>\n",
       "      <th>address</th>\n",
       "      <th>name</th>\n",
       "      <th>online_order</th>\n",
       "      <th>book_table</th>\n",
       "      <th>rate</th>\n",
       "      <th>votes</th>\n",
       "      <th>phone</th>\n",
       "      <th>location</th>\n",
       "      <th>rest_type</th>\n",
       "      <th>dish_liked</th>\n",
       "      <th>cuisines</th>\n",
       "      <th>approx_cost(for two people)</th>\n",
       "      <th>reviews_list</th>\n",
       "      <th>menu_item</th>\n",
       "      <th>listed_in(type)</th>\n",
       "      <th>listed_in(city)</th>\n",
       "      <th>rate_from_reviews_list</th>\n",
       "    </tr>\n",
       "  </thead>\n",
       "  <tbody>\n",
       "    <tr>\n",
       "      <th>75</th>\n",
       "      <td>75</td>\n",
       "      <td>https://www.zomato.com/bangalore/om-sri-vinaya...</td>\n",
       "      <td>39, S B M Colony, Near-Sita Circle, 1st Stage,...</td>\n",
       "      <td>Om Sri Vinayaka Chats</td>\n",
       "      <td>No</td>\n",
       "      <td>No</td>\n",
       "      <td>NaN</td>\n",
       "      <td>0</td>\n",
       "      <td>+91 8553206035</td>\n",
       "      <td>Banashankari</td>\n",
       "      <td>Takeaway, Delivery</td>\n",
       "      <td>None</td>\n",
       "      <td>Street Food, Fast Food</td>\n",
       "      <td>500</td>\n",
       "      <td>[]</td>\n",
       "      <td>[]</td>\n",
       "      <td>Delivery</td>\n",
       "      <td>Banashankari</td>\n",
       "      <td>NaN</td>\n",
       "    </tr>\n",
       "    <tr>\n",
       "      <th>84</th>\n",
       "      <td>84</td>\n",
       "      <td>https://www.zomato.com/bangalore/chill-out-ban...</td>\n",
       "      <td>161/C, 6th Main, 80 Feet Road, Bhuvaneshwari N...</td>\n",
       "      <td>Chill Out</td>\n",
       "      <td>No</td>\n",
       "      <td>No</td>\n",
       "      <td>NaN</td>\n",
       "      <td>0</td>\n",
       "      <td>+91 9341215167</td>\n",
       "      <td>Banashankari</td>\n",
       "      <td>Quick Bites</td>\n",
       "      <td>None</td>\n",
       "      <td>South Indian, Chinese</td>\n",
       "      <td>100</td>\n",
       "      <td>[('Rated 4.0', 'RATED\\n  Good Location. Small ...</td>\n",
       "      <td>[]</td>\n",
       "      <td>Delivery</td>\n",
       "      <td>Banashankari</td>\n",
       "      <td>NaN</td>\n",
       "    </tr>\n",
       "    <tr>\n",
       "      <th>90</th>\n",
       "      <td>90</td>\n",
       "      <td>https://www.zomato.com/bangalore/me-and-my-cak...</td>\n",
       "      <td>BDA Shopping Complex, 24th Cross Road, Siddann...</td>\n",
       "      <td>Me And My Cake</td>\n",
       "      <td>No</td>\n",
       "      <td>No</td>\n",
       "      <td>NaN</td>\n",
       "      <td>0</td>\n",
       "      <td>+91 9036070410</td>\n",
       "      <td>Banashankari</td>\n",
       "      <td>Delivery</td>\n",
       "      <td>None</td>\n",
       "      <td>Bakery, Desserts</td>\n",
       "      <td>500</td>\n",
       "      <td>[('Rated 1.0', 'RATED\\n  Do not order anything...</td>\n",
       "      <td>[]</td>\n",
       "      <td>Delivery</td>\n",
       "      <td>Banashankari</td>\n",
       "      <td>1.0</td>\n",
       "    </tr>\n",
       "    <tr>\n",
       "      <th>91</th>\n",
       "      <td>91</td>\n",
       "      <td>https://www.zomato.com/bangalore/sunsadm-banas...</td>\n",
       "      <td>Shop 18 , 3rd cross road,Markandeya Layout, Ba...</td>\n",
       "      <td>Sunsadm</td>\n",
       "      <td>No</td>\n",
       "      <td>No</td>\n",
       "      <td>NaN</td>\n",
       "      <td>0</td>\n",
       "      <td>+91 7829290358</td>\n",
       "      <td>Banashankari</td>\n",
       "      <td>Takeaway, Delivery</td>\n",
       "      <td>None</td>\n",
       "      <td>South Indian</td>\n",
       "      <td>400</td>\n",
       "      <td>[]</td>\n",
       "      <td>[]</td>\n",
       "      <td>Delivery</td>\n",
       "      <td>Banashankari</td>\n",
       "      <td>NaN</td>\n",
       "    </tr>\n",
       "    <tr>\n",
       "      <th>92</th>\n",
       "      <td>92</td>\n",
       "      <td>https://www.zomato.com/bangalore/annapooranesh...</td>\n",
       "      <td>625, 5th Cross Road, Hanumanthnagar, Banashank...</td>\n",
       "      <td>Annapooraneshwari Mess</td>\n",
       "      <td>No</td>\n",
       "      <td>No</td>\n",
       "      <td>NaN</td>\n",
       "      <td>0</td>\n",
       "      <td>+91 9742009518</td>\n",
       "      <td>Banashankari</td>\n",
       "      <td>Mess</td>\n",
       "      <td>None</td>\n",
       "      <td>South Indian</td>\n",
       "      <td>200</td>\n",
       "      <td>[]</td>\n",
       "      <td>[]</td>\n",
       "      <td>Delivery</td>\n",
       "      <td>Banashankari</td>\n",
       "      <td>NaN</td>\n",
       "    </tr>\n",
       "    <tr>\n",
       "      <th>...</th>\n",
       "      <td>...</td>\n",
       "      <td>...</td>\n",
       "      <td>...</td>\n",
       "      <td>...</td>\n",
       "      <td>...</td>\n",
       "      <td>...</td>\n",
       "      <td>...</td>\n",
       "      <td>...</td>\n",
       "      <td>...</td>\n",
       "      <td>...</td>\n",
       "      <td>...</td>\n",
       "      <td>...</td>\n",
       "      <td>...</td>\n",
       "      <td>...</td>\n",
       "      <td>...</td>\n",
       "      <td>...</td>\n",
       "      <td>...</td>\n",
       "      <td>...</td>\n",
       "      <td>...</td>\n",
       "    </tr>\n",
       "    <tr>\n",
       "      <th>51644</th>\n",
       "      <td>51644</td>\n",
       "      <td>https://www.zomato.com/bangalore/punjabi-thadk...</td>\n",
       "      <td>7/3, ASK Tower, Kundanahalli Gate, Next to Bat...</td>\n",
       "      <td>Punjabi Thadka</td>\n",
       "      <td>No</td>\n",
       "      <td>No</td>\n",
       "      <td>NaN</td>\n",
       "      <td>0</td>\n",
       "      <td>+91 7338330336\\n+91 9591568221</td>\n",
       "      <td>Brookefield</td>\n",
       "      <td>Quick Bites</td>\n",
       "      <td>None</td>\n",
       "      <td>North Indian</td>\n",
       "      <td>400</td>\n",
       "      <td>[]</td>\n",
       "      <td>[]</td>\n",
       "      <td>Dine-out</td>\n",
       "      <td>Whitefield</td>\n",
       "      <td>NaN</td>\n",
       "    </tr>\n",
       "    <tr>\n",
       "      <th>51675</th>\n",
       "      <td>51675</td>\n",
       "      <td>https://www.zomato.com/bangalore/topsy-turvey-...</td>\n",
       "      <td>2E2, 4th Cross Road, Devasandra Industrial Est...</td>\n",
       "      <td>Topsy Turvey</td>\n",
       "      <td>No</td>\n",
       "      <td>No</td>\n",
       "      <td>NaN</td>\n",
       "      <td>0</td>\n",
       "      <td>+91 9148155994</td>\n",
       "      <td>Whitefield</td>\n",
       "      <td>Bar</td>\n",
       "      <td>None</td>\n",
       "      <td>Finger Food</td>\n",
       "      <td>900</td>\n",
       "      <td>[('Rated 4.0', \"RATED\\n  A divine joint for Fl...</td>\n",
       "      <td>[]</td>\n",
       "      <td>Drinks &amp; nightlife</td>\n",
       "      <td>Whitefield</td>\n",
       "      <td>NaN</td>\n",
       "    </tr>\n",
       "    <tr>\n",
       "      <th>51710</th>\n",
       "      <td>51710</td>\n",
       "      <td>https://www.zomato.com/bangalore/topsy-turvey-...</td>\n",
       "      <td>2E2, 4th Cross Road, Devasandra Industrial Est...</td>\n",
       "      <td>Topsy Turvey</td>\n",
       "      <td>No</td>\n",
       "      <td>No</td>\n",
       "      <td>NaN</td>\n",
       "      <td>0</td>\n",
       "      <td>+91 9148155994</td>\n",
       "      <td>Whitefield</td>\n",
       "      <td>Bar</td>\n",
       "      <td>None</td>\n",
       "      <td>Finger Food</td>\n",
       "      <td>900</td>\n",
       "      <td>[('Rated 4.0', \"RATED\\n  A divine joint for Fl...</td>\n",
       "      <td>[]</td>\n",
       "      <td>Pubs and bars</td>\n",
       "      <td>Whitefield</td>\n",
       "      <td>NaN</td>\n",
       "    </tr>\n",
       "    <tr>\n",
       "      <th>51713</th>\n",
       "      <td>51713</td>\n",
       "      <td>https://www.zomato.com/bangalore/vinod-bar-and...</td>\n",
       "      <td>Number 10, Garudachar Palya, Mahadevapura, Whi...</td>\n",
       "      <td>Vinod Bar And Restaurant</td>\n",
       "      <td>No</td>\n",
       "      <td>No</td>\n",
       "      <td>NaN</td>\n",
       "      <td>0</td>\n",
       "      <td>+91 8197675843</td>\n",
       "      <td>Whitefield</td>\n",
       "      <td>Bar</td>\n",
       "      <td>None</td>\n",
       "      <td>Finger Food</td>\n",
       "      <td>600</td>\n",
       "      <td>[]</td>\n",
       "      <td>[]</td>\n",
       "      <td>Pubs and bars</td>\n",
       "      <td>Whitefield</td>\n",
       "      <td>NaN</td>\n",
       "    </tr>\n",
       "    <tr>\n",
       "      <th>51714</th>\n",
       "      <td>51714</td>\n",
       "      <td>https://www.zomato.com/bangalore/plunge-sherat...</td>\n",
       "      <td>Sheraton Grand Bengaluru Whitefield Hotel &amp; Co...</td>\n",
       "      <td>Plunge - Sheraton Grand Bengaluru Whitefield H...</td>\n",
       "      <td>No</td>\n",
       "      <td>No</td>\n",
       "      <td>NaN</td>\n",
       "      <td>0</td>\n",
       "      <td>None</td>\n",
       "      <td>Whitefield</td>\n",
       "      <td>Bar</td>\n",
       "      <td>None</td>\n",
       "      <td>Finger Food</td>\n",
       "      <td>2000</td>\n",
       "      <td>[]</td>\n",
       "      <td>[]</td>\n",
       "      <td>Pubs and bars</td>\n",
       "      <td>Whitefield</td>\n",
       "      <td>NaN</td>\n",
       "    </tr>\n",
       "  </tbody>\n",
       "</table>\n",
       "<p>10051 rows × 19 columns</p>\n",
       "</div>"
      ],
      "text/plain": [
       "       index                                                url  \\\n",
       "75        75  https://www.zomato.com/bangalore/om-sri-vinaya...   \n",
       "84        84  https://www.zomato.com/bangalore/chill-out-ban...   \n",
       "90        90  https://www.zomato.com/bangalore/me-and-my-cak...   \n",
       "91        91  https://www.zomato.com/bangalore/sunsadm-banas...   \n",
       "92        92  https://www.zomato.com/bangalore/annapooranesh...   \n",
       "...      ...                                                ...   \n",
       "51644  51644  https://www.zomato.com/bangalore/punjabi-thadk...   \n",
       "51675  51675  https://www.zomato.com/bangalore/topsy-turvey-...   \n",
       "51710  51710  https://www.zomato.com/bangalore/topsy-turvey-...   \n",
       "51713  51713  https://www.zomato.com/bangalore/vinod-bar-and...   \n",
       "51714  51714  https://www.zomato.com/bangalore/plunge-sherat...   \n",
       "\n",
       "                                                 address  \\\n",
       "75     39, S B M Colony, Near-Sita Circle, 1st Stage,...   \n",
       "84     161/C, 6th Main, 80 Feet Road, Bhuvaneshwari N...   \n",
       "90     BDA Shopping Complex, 24th Cross Road, Siddann...   \n",
       "91     Shop 18 , 3rd cross road,Markandeya Layout, Ba...   \n",
       "92     625, 5th Cross Road, Hanumanthnagar, Banashank...   \n",
       "...                                                  ...   \n",
       "51644  7/3, ASK Tower, Kundanahalli Gate, Next to Bat...   \n",
       "51675  2E2, 4th Cross Road, Devasandra Industrial Est...   \n",
       "51710  2E2, 4th Cross Road, Devasandra Industrial Est...   \n",
       "51713  Number 10, Garudachar Palya, Mahadevapura, Whi...   \n",
       "51714  Sheraton Grand Bengaluru Whitefield Hotel & Co...   \n",
       "\n",
       "                                                    name online_order  \\\n",
       "75                                 Om Sri Vinayaka Chats           No   \n",
       "84                                             Chill Out           No   \n",
       "90                                        Me And My Cake           No   \n",
       "91                                               Sunsadm           No   \n",
       "92                                Annapooraneshwari Mess           No   \n",
       "...                                                  ...          ...   \n",
       "51644                                     Punjabi Thadka           No   \n",
       "51675                                       Topsy Turvey           No   \n",
       "51710                                       Topsy Turvey           No   \n",
       "51713                           Vinod Bar And Restaurant           No   \n",
       "51714  Plunge - Sheraton Grand Bengaluru Whitefield H...           No   \n",
       "\n",
       "      book_table  rate  votes                           phone      location  \\\n",
       "75            No   NaN      0                  +91 8553206035  Banashankari   \n",
       "84            No   NaN      0                  +91 9341215167  Banashankari   \n",
       "90            No   NaN      0                  +91 9036070410  Banashankari   \n",
       "91            No   NaN      0                  +91 7829290358  Banashankari   \n",
       "92            No   NaN      0                  +91 9742009518  Banashankari   \n",
       "...          ...   ...    ...                             ...           ...   \n",
       "51644         No   NaN      0  +91 7338330336\\n+91 9591568221   Brookefield   \n",
       "51675         No   NaN      0                  +91 9148155994    Whitefield   \n",
       "51710         No   NaN      0                  +91 9148155994    Whitefield   \n",
       "51713         No   NaN      0                  +91 8197675843    Whitefield   \n",
       "51714         No   NaN      0                            None    Whitefield   \n",
       "\n",
       "                rest_type dish_liked                cuisines  \\\n",
       "75     Takeaway, Delivery       None  Street Food, Fast Food   \n",
       "84            Quick Bites       None   South Indian, Chinese   \n",
       "90               Delivery       None        Bakery, Desserts   \n",
       "91     Takeaway, Delivery       None            South Indian   \n",
       "92                   Mess       None            South Indian   \n",
       "...                   ...        ...                     ...   \n",
       "51644         Quick Bites       None            North Indian   \n",
       "51675                 Bar       None             Finger Food   \n",
       "51710                 Bar       None             Finger Food   \n",
       "51713                 Bar       None             Finger Food   \n",
       "51714                 Bar       None             Finger Food   \n",
       "\n",
       "      approx_cost(for two people)  \\\n",
       "75                            500   \n",
       "84                            100   \n",
       "90                            500   \n",
       "91                            400   \n",
       "92                            200   \n",
       "...                           ...   \n",
       "51644                         400   \n",
       "51675                         900   \n",
       "51710                         900   \n",
       "51713                         600   \n",
       "51714                        2000   \n",
       "\n",
       "                                            reviews_list menu_item  \\\n",
       "75                                                    []        []   \n",
       "84     [('Rated 4.0', 'RATED\\n  Good Location. Small ...        []   \n",
       "90     [('Rated 1.0', 'RATED\\n  Do not order anything...        []   \n",
       "91                                                    []        []   \n",
       "92                                                    []        []   \n",
       "...                                                  ...       ...   \n",
       "51644                                                 []        []   \n",
       "51675  [('Rated 4.0', \"RATED\\n  A divine joint for Fl...        []   \n",
       "51710  [('Rated 4.0', \"RATED\\n  A divine joint for Fl...        []   \n",
       "51713                                                 []        []   \n",
       "51714                                                 []        []   \n",
       "\n",
       "          listed_in(type) listed_in(city)  rate_from_reviews_list  \n",
       "75               Delivery    Banashankari                     NaN  \n",
       "84               Delivery    Banashankari                     NaN  \n",
       "90               Delivery    Banashankari                     1.0  \n",
       "91               Delivery    Banashankari                     NaN  \n",
       "92               Delivery    Banashankari                     NaN  \n",
       "...                   ...             ...                     ...  \n",
       "51644            Dine-out      Whitefield                     NaN  \n",
       "51675  Drinks & nightlife      Whitefield                     NaN  \n",
       "51710       Pubs and bars      Whitefield                     NaN  \n",
       "51713       Pubs and bars      Whitefield                     NaN  \n",
       "51714       Pubs and bars      Whitefield                     NaN  \n",
       "\n",
       "[10051 rows x 19 columns]"
      ]
     },
     "execution_count": 72,
     "metadata": {},
     "output_type": "execute_result"
    }
   ],
   "source": [
    "df[df['rate'].isnull()]"
   ]
  },
  {
   "cell_type": "code",
   "execution_count": 73,
   "id": "ab88e932",
   "metadata": {},
   "outputs": [],
   "source": [
    "nan_index = df[df['rate'].isnull()].index"
   ]
  },
  {
   "cell_type": "code",
   "execution_count": 74,
   "id": "3f910395",
   "metadata": {},
   "outputs": [
    {
     "data": {
      "text/plain": [
       "Index([   75,    84,    90,    91,    92,   107,   110,   113,   114,   115,\n",
       "       ...\n",
       "       51636, 51638, 51639, 51642, 51643, 51644, 51675, 51710, 51713, 51714],\n",
       "      dtype='int64', length=10051)"
      ]
     },
     "execution_count": 74,
     "metadata": {},
     "output_type": "execute_result"
    }
   ],
   "source": [
    "nan_index"
   ]
  },
  {
   "cell_type": "code",
   "execution_count": 75,
   "id": "e76a0747",
   "metadata": {},
   "outputs": [],
   "source": [
    "for index in nan_index:\n",
    "    df['rate'][index] = df['rate_from_reviews_list'][index]"
   ]
  },
  {
   "cell_type": "code",
   "execution_count": 76,
   "id": "a1d69fe1",
   "metadata": {},
   "outputs": [
    {
     "data": {
      "text/plain": [
       "Index(['index', 'url', 'address', 'name', 'online_order', 'book_table', 'rate',\n",
       "       'votes', 'phone', 'location', 'rest_type', 'dish_liked', 'cuisines',\n",
       "       'approx_cost(for two people)', 'reviews_list', 'menu_item',\n",
       "       'listed_in(type)', 'listed_in(city)', 'rate_from_reviews_list'],\n",
       "      dtype='object')"
      ]
     },
     "execution_count": 76,
     "metadata": {},
     "output_type": "execute_result"
    }
   ],
   "source": [
    "df.columns"
   ]
  },
  {
   "cell_type": "code",
   "execution_count": 77,
   "id": "7efd636e",
   "metadata": {},
   "outputs": [
    {
     "data": {
      "text/plain": [
       "index                              0\n",
       "url                                0\n",
       "address                            0\n",
       "name                               0\n",
       "online_order                       0\n",
       "book_table                         0\n",
       "rate                            8542\n",
       "votes                              0\n",
       "phone                           1208\n",
       "location                          21\n",
       "rest_type                        227\n",
       "dish_liked                     28078\n",
       "cuisines                          45\n",
       "approx_cost(for two people)      346\n",
       "reviews_list                       0\n",
       "menu_item                          0\n",
       "listed_in(type)                    0\n",
       "listed_in(city)                    0\n",
       "rate_from_reviews_list         16120\n",
       "dtype: int64"
      ]
     },
     "execution_count": 77,
     "metadata": {},
     "output_type": "execute_result"
    }
   ],
   "source": [
    "df.isnull().sum()"
   ]
  },
  {
   "cell_type": "code",
   "execution_count": 78,
   "id": "e805ba17",
   "metadata": {},
   "outputs": [],
   "source": [
    "dataframe = df.drop(['dish_liked' , 'rate_from_reviews_list'] , axis=1)"
   ]
  },
  {
   "cell_type": "code",
   "execution_count": 79,
   "id": "5773e2a5",
   "metadata": {},
   "outputs": [
    {
     "data": {
      "text/html": [
       "<div>\n",
       "<style scoped>\n",
       "    .dataframe tbody tr th:only-of-type {\n",
       "        vertical-align: middle;\n",
       "    }\n",
       "\n",
       "    .dataframe tbody tr th {\n",
       "        vertical-align: top;\n",
       "    }\n",
       "\n",
       "    .dataframe thead th {\n",
       "        text-align: right;\n",
       "    }\n",
       "</style>\n",
       "<table border=\"1\" class=\"dataframe\">\n",
       "  <thead>\n",
       "    <tr style=\"text-align: right;\">\n",
       "      <th></th>\n",
       "      <th>index</th>\n",
       "      <th>url</th>\n",
       "      <th>address</th>\n",
       "      <th>name</th>\n",
       "      <th>online_order</th>\n",
       "      <th>book_table</th>\n",
       "      <th>rate</th>\n",
       "      <th>votes</th>\n",
       "      <th>phone</th>\n",
       "      <th>location</th>\n",
       "      <th>rest_type</th>\n",
       "      <th>cuisines</th>\n",
       "      <th>approx_cost(for two people)</th>\n",
       "      <th>reviews_list</th>\n",
       "      <th>menu_item</th>\n",
       "      <th>listed_in(type)</th>\n",
       "      <th>listed_in(city)</th>\n",
       "    </tr>\n",
       "  </thead>\n",
       "  <tbody>\n",
       "    <tr>\n",
       "      <th>0</th>\n",
       "      <td>0</td>\n",
       "      <td>https://www.zomato.com/bangalore/jalsa-banasha...</td>\n",
       "      <td>942, 21st Main Road, 2nd Stage, Banashankari, ...</td>\n",
       "      <td>Jalsa</td>\n",
       "      <td>Yes</td>\n",
       "      <td>Yes</td>\n",
       "      <td>4.1</td>\n",
       "      <td>775</td>\n",
       "      <td>080 42297555\\r\\n+91 9743772233</td>\n",
       "      <td>Banashankari</td>\n",
       "      <td>Casual Dining</td>\n",
       "      <td>North Indian, Mughlai, Chinese</td>\n",
       "      <td>800</td>\n",
       "      <td>[('Rated 4.0', 'RATED\\n  A beautiful place to ...</td>\n",
       "      <td>[]</td>\n",
       "      <td>Buffet</td>\n",
       "      <td>Banashankari</td>\n",
       "    </tr>\n",
       "    <tr>\n",
       "      <th>1</th>\n",
       "      <td>1</td>\n",
       "      <td>https://www.zomato.com/bangalore/spice-elephan...</td>\n",
       "      <td>2nd Floor, 80 Feet Road, Near Big Bazaar, 6th ...</td>\n",
       "      <td>Spice Elephant</td>\n",
       "      <td>Yes</td>\n",
       "      <td>No</td>\n",
       "      <td>4.1</td>\n",
       "      <td>787</td>\n",
       "      <td>080 41714161</td>\n",
       "      <td>Banashankari</td>\n",
       "      <td>Casual Dining</td>\n",
       "      <td>Chinese, North Indian, Thai</td>\n",
       "      <td>800</td>\n",
       "      <td>[('Rated 4.0', 'RATED\\n  Had been here for din...</td>\n",
       "      <td>[]</td>\n",
       "      <td>Buffet</td>\n",
       "      <td>Banashankari</td>\n",
       "    </tr>\n",
       "    <tr>\n",
       "      <th>2</th>\n",
       "      <td>2</td>\n",
       "      <td>https://www.zomato.com/SanchurroBangalore?cont...</td>\n",
       "      <td>1112, Next to KIMS Medical College, 17th Cross...</td>\n",
       "      <td>San Churro Cafe</td>\n",
       "      <td>Yes</td>\n",
       "      <td>No</td>\n",
       "      <td>3.8</td>\n",
       "      <td>918</td>\n",
       "      <td>+91 9663487993</td>\n",
       "      <td>Banashankari</td>\n",
       "      <td>Cafe, Casual Dining</td>\n",
       "      <td>Cafe, Mexican, Italian</td>\n",
       "      <td>800</td>\n",
       "      <td>[('Rated 3.0', \"RATED\\n  Ambience is not that ...</td>\n",
       "      <td>[]</td>\n",
       "      <td>Buffet</td>\n",
       "      <td>Banashankari</td>\n",
       "    </tr>\n",
       "  </tbody>\n",
       "</table>\n",
       "</div>"
      ],
      "text/plain": [
       "   index                                                url  \\\n",
       "0      0  https://www.zomato.com/bangalore/jalsa-banasha...   \n",
       "1      1  https://www.zomato.com/bangalore/spice-elephan...   \n",
       "2      2  https://www.zomato.com/SanchurroBangalore?cont...   \n",
       "\n",
       "                                             address             name  \\\n",
       "0  942, 21st Main Road, 2nd Stage, Banashankari, ...            Jalsa   \n",
       "1  2nd Floor, 80 Feet Road, Near Big Bazaar, 6th ...   Spice Elephant   \n",
       "2  1112, Next to KIMS Medical College, 17th Cross...  San Churro Cafe   \n",
       "\n",
       "  online_order book_table  rate  votes                           phone  \\\n",
       "0          Yes        Yes   4.1    775  080 42297555\\r\\n+91 9743772233   \n",
       "1          Yes         No   4.1    787                    080 41714161   \n",
       "2          Yes         No   3.8    918                  +91 9663487993   \n",
       "\n",
       "       location            rest_type                        cuisines  \\\n",
       "0  Banashankari        Casual Dining  North Indian, Mughlai, Chinese   \n",
       "1  Banashankari        Casual Dining     Chinese, North Indian, Thai   \n",
       "2  Banashankari  Cafe, Casual Dining          Cafe, Mexican, Italian   \n",
       "\n",
       "  approx_cost(for two people)  \\\n",
       "0                         800   \n",
       "1                         800   \n",
       "2                         800   \n",
       "\n",
       "                                        reviews_list menu_item  \\\n",
       "0  [('Rated 4.0', 'RATED\\n  A beautiful place to ...        []   \n",
       "1  [('Rated 4.0', 'RATED\\n  Had been here for din...        []   \n",
       "2  [('Rated 3.0', \"RATED\\n  Ambience is not that ...        []   \n",
       "\n",
       "  listed_in(type) listed_in(city)  \n",
       "0          Buffet    Banashankari  \n",
       "1          Buffet    Banashankari  \n",
       "2          Buffet    Banashankari  "
      ]
     },
     "execution_count": 79,
     "metadata": {},
     "output_type": "execute_result"
    }
   ],
   "source": [
    "dataframe.head(3)"
   ]
  },
  {
   "cell_type": "code",
   "execution_count": 80,
   "id": "3a527272",
   "metadata": {},
   "outputs": [
    {
     "data": {
      "text/plain": [
       "0                North Indian, Mughlai, Chinese\n",
       "1                   Chinese, North Indian, Thai\n",
       "2                        Cafe, Mexican, Italian\n",
       "3                    South Indian, North Indian\n",
       "4                      North Indian, Rajasthani\n",
       "                          ...                  \n",
       "51712                               Continental\n",
       "51713                               Finger Food\n",
       "51714                               Finger Food\n",
       "51715                               Finger Food\n",
       "51716    Finger Food, North Indian, Continental\n",
       "Name: cuisines, Length: 51717, dtype: object"
      ]
     },
     "execution_count": 80,
     "metadata": {},
     "output_type": "execute_result"
    }
   ],
   "source": [
    "dataframe['cuisines']"
   ]
  },
  {
   "cell_type": "code",
   "execution_count": 81,
   "id": "c25d82ff",
   "metadata": {},
   "outputs": [
    {
     "data": {
      "text/plain": [
       "'North Indian, Mughlai, Chinese'"
      ]
     },
     "execution_count": 81,
     "metadata": {},
     "output_type": "execute_result"
    }
   ],
   "source": [
    "dataframe['cuisines'][0]"
   ]
  },
  {
   "cell_type": "code",
   "execution_count": 82,
   "id": "1c25e1da",
   "metadata": {},
   "outputs": [
    {
     "data": {
      "text/plain": [
       "str"
      ]
     },
     "execution_count": 82,
     "metadata": {},
     "output_type": "execute_result"
    }
   ],
   "source": [
    "type(dataframe['cuisines'][0])"
   ]
  },
  {
   "cell_type": "code",
   "execution_count": 83,
   "id": "2856aef9",
   "metadata": {},
   "outputs": [
    {
     "data": {
      "text/plain": [
       "['North Indian', ' Mughlai', ' Chinese']"
      ]
     },
     "execution_count": 83,
     "metadata": {},
     "output_type": "execute_result"
    }
   ],
   "source": [
    "dataframe['cuisines'][0].split(',')"
   ]
  },
  {
   "cell_type": "code",
   "execution_count": 84,
   "id": "92ebc30d",
   "metadata": {},
   "outputs": [
    {
     "data": {
      "text/plain": [
       "3"
      ]
     },
     "execution_count": 84,
     "metadata": {},
     "output_type": "execute_result"
    }
   ],
   "source": [
    "len(dataframe['cuisines'][0].split(',')) ## ie we have total 3 cuisines at 0th index.."
   ]
  },
  {
   "cell_type": "code",
   "execution_count": 85,
   "id": "1829038c",
   "metadata": {},
   "outputs": [],
   "source": [
    "def count(row):\n",
    "    return len(row.split(','))"
   ]
  },
  {
   "cell_type": "code",
   "execution_count": 86,
   "id": "cebfc03f",
   "metadata": {},
   "outputs": [],
   "source": [
    "dataframe['total_cuisines'] = dataframe['cuisines'].astype(str).apply(count)\n",
    "dataframe['multiple_types'] = dataframe['rest_type'].astype(str).apply(count)"
   ]
  },
  {
   "cell_type": "code",
   "execution_count": 87,
   "id": "fe3218dc",
   "metadata": {},
   "outputs": [
    {
     "data": {
      "text/html": [
       "<div>\n",
       "<style scoped>\n",
       "    .dataframe tbody tr th:only-of-type {\n",
       "        vertical-align: middle;\n",
       "    }\n",
       "\n",
       "    .dataframe tbody tr th {\n",
       "        vertical-align: top;\n",
       "    }\n",
       "\n",
       "    .dataframe thead th {\n",
       "        text-align: right;\n",
       "    }\n",
       "</style>\n",
       "<table border=\"1\" class=\"dataframe\">\n",
       "  <thead>\n",
       "    <tr style=\"text-align: right;\">\n",
       "      <th></th>\n",
       "      <th>index</th>\n",
       "      <th>url</th>\n",
       "      <th>address</th>\n",
       "      <th>name</th>\n",
       "      <th>online_order</th>\n",
       "      <th>book_table</th>\n",
       "      <th>rate</th>\n",
       "      <th>votes</th>\n",
       "      <th>phone</th>\n",
       "      <th>location</th>\n",
       "      <th>rest_type</th>\n",
       "      <th>cuisines</th>\n",
       "      <th>approx_cost(for two people)</th>\n",
       "      <th>reviews_list</th>\n",
       "      <th>menu_item</th>\n",
       "      <th>listed_in(type)</th>\n",
       "      <th>listed_in(city)</th>\n",
       "      <th>total_cuisines</th>\n",
       "      <th>multiple_types</th>\n",
       "    </tr>\n",
       "  </thead>\n",
       "  <tbody>\n",
       "    <tr>\n",
       "      <th>0</th>\n",
       "      <td>0</td>\n",
       "      <td>https://www.zomato.com/bangalore/jalsa-banasha...</td>\n",
       "      <td>942, 21st Main Road, 2nd Stage, Banashankari, ...</td>\n",
       "      <td>Jalsa</td>\n",
       "      <td>Yes</td>\n",
       "      <td>Yes</td>\n",
       "      <td>4.1</td>\n",
       "      <td>775</td>\n",
       "      <td>080 42297555\\r\\n+91 9743772233</td>\n",
       "      <td>Banashankari</td>\n",
       "      <td>Casual Dining</td>\n",
       "      <td>North Indian, Mughlai, Chinese</td>\n",
       "      <td>800</td>\n",
       "      <td>[('Rated 4.0', 'RATED\\n  A beautiful place to ...</td>\n",
       "      <td>[]</td>\n",
       "      <td>Buffet</td>\n",
       "      <td>Banashankari</td>\n",
       "      <td>3</td>\n",
       "      <td>1</td>\n",
       "    </tr>\n",
       "    <tr>\n",
       "      <th>1</th>\n",
       "      <td>1</td>\n",
       "      <td>https://www.zomato.com/bangalore/spice-elephan...</td>\n",
       "      <td>2nd Floor, 80 Feet Road, Near Big Bazaar, 6th ...</td>\n",
       "      <td>Spice Elephant</td>\n",
       "      <td>Yes</td>\n",
       "      <td>No</td>\n",
       "      <td>4.1</td>\n",
       "      <td>787</td>\n",
       "      <td>080 41714161</td>\n",
       "      <td>Banashankari</td>\n",
       "      <td>Casual Dining</td>\n",
       "      <td>Chinese, North Indian, Thai</td>\n",
       "      <td>800</td>\n",
       "      <td>[('Rated 4.0', 'RATED\\n  Had been here for din...</td>\n",
       "      <td>[]</td>\n",
       "      <td>Buffet</td>\n",
       "      <td>Banashankari</td>\n",
       "      <td>3</td>\n",
       "      <td>1</td>\n",
       "    </tr>\n",
       "  </tbody>\n",
       "</table>\n",
       "</div>"
      ],
      "text/plain": [
       "   index                                                url  \\\n",
       "0      0  https://www.zomato.com/bangalore/jalsa-banasha...   \n",
       "1      1  https://www.zomato.com/bangalore/spice-elephan...   \n",
       "\n",
       "                                             address            name  \\\n",
       "0  942, 21st Main Road, 2nd Stage, Banashankari, ...           Jalsa   \n",
       "1  2nd Floor, 80 Feet Road, Near Big Bazaar, 6th ...  Spice Elephant   \n",
       "\n",
       "  online_order book_table  rate  votes                           phone  \\\n",
       "0          Yes        Yes   4.1    775  080 42297555\\r\\n+91 9743772233   \n",
       "1          Yes         No   4.1    787                    080 41714161   \n",
       "\n",
       "       location      rest_type                        cuisines  \\\n",
       "0  Banashankari  Casual Dining  North Indian, Mughlai, Chinese   \n",
       "1  Banashankari  Casual Dining     Chinese, North Indian, Thai   \n",
       "\n",
       "  approx_cost(for two people)  \\\n",
       "0                         800   \n",
       "1                         800   \n",
       "\n",
       "                                        reviews_list menu_item  \\\n",
       "0  [('Rated 4.0', 'RATED\\n  A beautiful place to ...        []   \n",
       "1  [('Rated 4.0', 'RATED\\n  Had been here for din...        []   \n",
       "\n",
       "  listed_in(type) listed_in(city)  total_cuisines  multiple_types  \n",
       "0          Buffet    Banashankari               3               1  \n",
       "1          Buffet    Banashankari               3               1  "
      ]
     },
     "execution_count": 87,
     "metadata": {},
     "output_type": "execute_result"
    }
   ],
   "source": [
    "dataframe.head(2)"
   ]
  },
  {
   "cell_type": "code",
   "execution_count": 88,
   "id": "fb8ca612",
   "metadata": {},
   "outputs": [],
   "source": [
    "# Defining a custom threshold for splitting restaurants into good and bad\n",
    "\n",
    "threshold = 3.80\n",
    "dataframe['target'] = dataframe['rate'].apply(lambda x : 1 if x >= threshold else 0 )"
   ]
  },
  {
   "cell_type": "code",
   "execution_count": 89,
   "id": "6a96903c",
   "metadata": {},
   "outputs": [
    {
     "data": {
      "text/html": [
       "<div>\n",
       "<style scoped>\n",
       "    .dataframe tbody tr th:only-of-type {\n",
       "        vertical-align: middle;\n",
       "    }\n",
       "\n",
       "    .dataframe tbody tr th {\n",
       "        vertical-align: top;\n",
       "    }\n",
       "\n",
       "    .dataframe thead th {\n",
       "        text-align: right;\n",
       "    }\n",
       "</style>\n",
       "<table border=\"1\" class=\"dataframe\">\n",
       "  <thead>\n",
       "    <tr style=\"text-align: right;\">\n",
       "      <th></th>\n",
       "      <th>index</th>\n",
       "      <th>url</th>\n",
       "      <th>address</th>\n",
       "      <th>name</th>\n",
       "      <th>online_order</th>\n",
       "      <th>book_table</th>\n",
       "      <th>rate</th>\n",
       "      <th>votes</th>\n",
       "      <th>phone</th>\n",
       "      <th>location</th>\n",
       "      <th>rest_type</th>\n",
       "      <th>cuisines</th>\n",
       "      <th>approx_cost(for two people)</th>\n",
       "      <th>reviews_list</th>\n",
       "      <th>menu_item</th>\n",
       "      <th>listed_in(type)</th>\n",
       "      <th>listed_in(city)</th>\n",
       "      <th>total_cuisines</th>\n",
       "      <th>multiple_types</th>\n",
       "      <th>target</th>\n",
       "    </tr>\n",
       "  </thead>\n",
       "  <tbody>\n",
       "    <tr>\n",
       "      <th>0</th>\n",
       "      <td>0</td>\n",
       "      <td>https://www.zomato.com/bangalore/jalsa-banasha...</td>\n",
       "      <td>942, 21st Main Road, 2nd Stage, Banashankari, ...</td>\n",
       "      <td>Jalsa</td>\n",
       "      <td>Yes</td>\n",
       "      <td>Yes</td>\n",
       "      <td>4.1</td>\n",
       "      <td>775</td>\n",
       "      <td>080 42297555\\r\\n+91 9743772233</td>\n",
       "      <td>Banashankari</td>\n",
       "      <td>Casual Dining</td>\n",
       "      <td>North Indian, Mughlai, Chinese</td>\n",
       "      <td>800</td>\n",
       "      <td>[('Rated 4.0', 'RATED\\n  A beautiful place to ...</td>\n",
       "      <td>[]</td>\n",
       "      <td>Buffet</td>\n",
       "      <td>Banashankari</td>\n",
       "      <td>3</td>\n",
       "      <td>1</td>\n",
       "      <td>1</td>\n",
       "    </tr>\n",
       "    <tr>\n",
       "      <th>1</th>\n",
       "      <td>1</td>\n",
       "      <td>https://www.zomato.com/bangalore/spice-elephan...</td>\n",
       "      <td>2nd Floor, 80 Feet Road, Near Big Bazaar, 6th ...</td>\n",
       "      <td>Spice Elephant</td>\n",
       "      <td>Yes</td>\n",
       "      <td>No</td>\n",
       "      <td>4.1</td>\n",
       "      <td>787</td>\n",
       "      <td>080 41714161</td>\n",
       "      <td>Banashankari</td>\n",
       "      <td>Casual Dining</td>\n",
       "      <td>Chinese, North Indian, Thai</td>\n",
       "      <td>800</td>\n",
       "      <td>[('Rated 4.0', 'RATED\\n  Had been here for din...</td>\n",
       "      <td>[]</td>\n",
       "      <td>Buffet</td>\n",
       "      <td>Banashankari</td>\n",
       "      <td>3</td>\n",
       "      <td>1</td>\n",
       "      <td>1</td>\n",
       "    </tr>\n",
       "    <tr>\n",
       "      <th>2</th>\n",
       "      <td>2</td>\n",
       "      <td>https://www.zomato.com/SanchurroBangalore?cont...</td>\n",
       "      <td>1112, Next to KIMS Medical College, 17th Cross...</td>\n",
       "      <td>San Churro Cafe</td>\n",
       "      <td>Yes</td>\n",
       "      <td>No</td>\n",
       "      <td>3.8</td>\n",
       "      <td>918</td>\n",
       "      <td>+91 9663487993</td>\n",
       "      <td>Banashankari</td>\n",
       "      <td>Cafe, Casual Dining</td>\n",
       "      <td>Cafe, Mexican, Italian</td>\n",
       "      <td>800</td>\n",
       "      <td>[('Rated 3.0', \"RATED\\n  Ambience is not that ...</td>\n",
       "      <td>[]</td>\n",
       "      <td>Buffet</td>\n",
       "      <td>Banashankari</td>\n",
       "      <td>3</td>\n",
       "      <td>2</td>\n",
       "      <td>1</td>\n",
       "    </tr>\n",
       "    <tr>\n",
       "      <th>3</th>\n",
       "      <td>3</td>\n",
       "      <td>https://www.zomato.com/bangalore/addhuri-udupi...</td>\n",
       "      <td>1st Floor, Annakuteera, 3rd Stage, Banashankar...</td>\n",
       "      <td>Addhuri Udupi Bhojana</td>\n",
       "      <td>No</td>\n",
       "      <td>No</td>\n",
       "      <td>3.7</td>\n",
       "      <td>88</td>\n",
       "      <td>+91 9620009302</td>\n",
       "      <td>Banashankari</td>\n",
       "      <td>Quick Bites</td>\n",
       "      <td>South Indian, North Indian</td>\n",
       "      <td>300</td>\n",
       "      <td>[('Rated 4.0', \"RATED\\n  Great food and proper...</td>\n",
       "      <td>[]</td>\n",
       "      <td>Buffet</td>\n",
       "      <td>Banashankari</td>\n",
       "      <td>2</td>\n",
       "      <td>1</td>\n",
       "      <td>0</td>\n",
       "    </tr>\n",
       "  </tbody>\n",
       "</table>\n",
       "</div>"
      ],
      "text/plain": [
       "   index                                                url  \\\n",
       "0      0  https://www.zomato.com/bangalore/jalsa-banasha...   \n",
       "1      1  https://www.zomato.com/bangalore/spice-elephan...   \n",
       "2      2  https://www.zomato.com/SanchurroBangalore?cont...   \n",
       "3      3  https://www.zomato.com/bangalore/addhuri-udupi...   \n",
       "\n",
       "                                             address                   name  \\\n",
       "0  942, 21st Main Road, 2nd Stage, Banashankari, ...                  Jalsa   \n",
       "1  2nd Floor, 80 Feet Road, Near Big Bazaar, 6th ...         Spice Elephant   \n",
       "2  1112, Next to KIMS Medical College, 17th Cross...        San Churro Cafe   \n",
       "3  1st Floor, Annakuteera, 3rd Stage, Banashankar...  Addhuri Udupi Bhojana   \n",
       "\n",
       "  online_order book_table  rate  votes                           phone  \\\n",
       "0          Yes        Yes   4.1    775  080 42297555\\r\\n+91 9743772233   \n",
       "1          Yes         No   4.1    787                    080 41714161   \n",
       "2          Yes         No   3.8    918                  +91 9663487993   \n",
       "3           No         No   3.7     88                  +91 9620009302   \n",
       "\n",
       "       location            rest_type                        cuisines  \\\n",
       "0  Banashankari        Casual Dining  North Indian, Mughlai, Chinese   \n",
       "1  Banashankari        Casual Dining     Chinese, North Indian, Thai   \n",
       "2  Banashankari  Cafe, Casual Dining          Cafe, Mexican, Italian   \n",
       "3  Banashankari          Quick Bites      South Indian, North Indian   \n",
       "\n",
       "  approx_cost(for two people)  \\\n",
       "0                         800   \n",
       "1                         800   \n",
       "2                         800   \n",
       "3                         300   \n",
       "\n",
       "                                        reviews_list menu_item  \\\n",
       "0  [('Rated 4.0', 'RATED\\n  A beautiful place to ...        []   \n",
       "1  [('Rated 4.0', 'RATED\\n  Had been here for din...        []   \n",
       "2  [('Rated 3.0', \"RATED\\n  Ambience is not that ...        []   \n",
       "3  [('Rated 4.0', \"RATED\\n  Great food and proper...        []   \n",
       "\n",
       "  listed_in(type) listed_in(city)  total_cuisines  multiple_types  target  \n",
       "0          Buffet    Banashankari               3               1       1  \n",
       "1          Buffet    Banashankari               3               1       1  \n",
       "2          Buffet    Banashankari               3               2       1  \n",
       "3          Buffet    Banashankari               2               1       0  "
      ]
     },
     "execution_count": 89,
     "metadata": {},
     "output_type": "execute_result"
    }
   ],
   "source": [
    "dataframe.head(4)"
   ]
  },
  {
   "cell_type": "code",
   "execution_count": 90,
   "id": "6ec585bb",
   "metadata": {},
   "outputs": [
    {
     "data": {
      "text/plain": [
       "0        False\n",
       "1        False\n",
       "2        False\n",
       "3         True\n",
       "4        False\n",
       "         ...  \n",
       "51712     True\n",
       "51713     True\n",
       "51714     True\n",
       "51715    False\n",
       "51716     True\n",
       "Name: target, Length: 51717, dtype: bool"
      ]
     },
     "execution_count": 90,
     "metadata": {},
     "output_type": "execute_result"
    }
   ],
   "source": [
    "dataframe['target']==0"
   ]
  },
  {
   "cell_type": "code",
   "execution_count": 91,
   "id": "732c6782",
   "metadata": {},
   "outputs": [
    {
     "data": {
      "text/plain": [
       "<matplotlib.legend.Legend at 0x14eae8192a0>"
      ]
     },
     "execution_count": 91,
     "metadata": {},
     "output_type": "execute_result"
    },
    {
     "data": {
      "image/png": "[encoded data removed]",
      "text/plain": [
       "<Figure size 640x480 with 1 Axes>"
      ]
     },
     "metadata": {},
     "output_type": "display_data"
    }
   ],
   "source": [
    "sns.distplot(dataframe[dataframe['target']==0]['total_cuisines'] , hist=False , label='0')\n",
    "sns.distplot(dataframe[dataframe['target']==1]['total_cuisines'] , hist=False , label='1')\n",
    "plt.legend()"
   ]
  },
  {
   "cell_type": "code",
   "execution_count": 92,
   "id": "172a7359",
   "metadata": {},
   "outputs": [
    {
     "data": {
      "text/plain": [
       "Index(['index', 'url', 'address', 'name', 'online_order', 'book_table', 'rate',\n",
       "       'votes', 'phone', 'location', 'rest_type', 'cuisines',\n",
       "       'approx_cost(for two people)', 'reviews_list', 'menu_item',\n",
       "       'listed_in(type)', 'listed_in(city)', 'total_cuisines',\n",
       "       'multiple_types', 'target'],\n",
       "      dtype='object')"
      ]
     },
     "execution_count": 92,
     "metadata": {},
     "output_type": "execute_result"
    }
   ],
   "source": [
    "dataframe.columns"
   ]
  },
  {
   "cell_type": "code",
   "execution_count": 93,
   "id": "686a524b",
   "metadata": {},
   "outputs": [
    {
     "data": {
      "text/plain": [
       "<matplotlib.legend.Legend at 0x14ea0a9e950>"
      ]
     },
     "execution_count": 93,
     "metadata": {},
     "output_type": "execute_result"
    },
    {
     "data": {
      "image/png": "[encoded data removed]",
      "text/plain": [
       "<Figure size 640x480 with 1 Axes>"
      ]
     },
     "metadata": {},
     "output_type": "display_data"
    }
   ],
   "source": [
    "sns.distplot(dataframe[dataframe['target']==0]['multiple_types'] , hist=False , label='0')\n",
    "sns.distplot(dataframe[dataframe['target']==1]['multiple_types'] , hist=False , label='1')\n",
    "plt.legend()"
   ]
  },
  {
   "cell_type": "code",
   "execution_count": 94,
   "id": "5277ba54",
   "metadata": {},
   "outputs": [
    {
     "data": {
      "text/plain": [
       "<matplotlib.legend.Legend at 0x14eb2028160>"
      ]
     },
     "execution_count": 94,
     "metadata": {},
     "output_type": "execute_result"
    },
    {
     "data": {
      "image/png": "[encoded data removed]",
      "text/plain": [
       "<Figure size 640x480 with 1 Axes>"
      ]
     },
     "metadata": {},
     "output_type": "display_data"
    }
   ],
   "source": [
    "sns.distplot(dataframe[dataframe['target']==0]['approx_cost(for two people)'] , hist=False , label='0')\n",
    "sns.distplot(dataframe[dataframe['target']==1]['approx_cost(for two people)'] , hist=False , label='1')\n",
    "plt.legend()"
   ]
  },
  {
   "cell_type": "code",
   "execution_count": 95,
   "id": "2cf6e953",
   "metadata": {},
   "outputs": [
    {
     "data": {
      "text/plain": [
       "<matplotlib.legend.Legend at 0x14eaa261510>"
      ]
     },
     "execution_count": 95,
     "metadata": {},
     "output_type": "execute_result"
    },
    {
     "data": {
      "image/png": "[encoded data removed]",
      "text/plain": [
       "<Figure size 640x480 with 1 Axes>"
      ]
     },
     "metadata": {},
     "output_type": "display_data"
    }
   ],
   "source": [
    "sns.distplot(dataframe[dataframe['target']==0]['votes'] , hist=False , label='0')\n",
    "sns.distplot(dataframe[dataframe['target']==1]['votes'] , hist=False , label='1')\n",
    "plt.legend()"
   ]
  },
  {
   "cell_type": "code",
   "execution_count": 97,
   "id": "45adc5cd",
   "metadata": {},
   "outputs": [
    {
     "data": {
      "text/plain": [
       "0        Yes\n",
       "1        Yes\n",
       "2        Yes\n",
       "3         No\n",
       "4         No\n",
       "        ... \n",
       "51712     No\n",
       "51713     No\n",
       "51714     No\n",
       "51715     No\n",
       "51716     No\n",
       "Name: online_order, Length: 51717, dtype: object"
      ]
     },
     "execution_count": 97,
     "metadata": {},
     "output_type": "execute_result"
    }
   ],
   "source": [
    "dataframe['online_order']"
   ]
  },
  {
   "cell_type": "code",
   "execution_count": 98,
   "id": "8df75c75",
   "metadata": {},
   "outputs": [
    {
     "data": {
      "text/plain": [
       "Index(['index', 'url', 'address', 'name', 'online_order', 'book_table', 'rate',\n",
       "       'votes', 'phone', 'location', 'rest_type', 'cuisines',\n",
       "       'approx_cost(for two people)', 'reviews_list', 'menu_item',\n",
       "       'listed_in(type)', 'listed_in(city)', 'total_cuisines',\n",
       "       'multiple_types', 'target'],\n",
       "      dtype='object')"
      ]
     },
     "execution_count": 98,
     "metadata": {},
     "output_type": "execute_result"
    }
   ],
   "source": [
    "dataframe.columns"
   ]
  },
  {
   "cell_type": "code",
   "execution_count": 99,
   "id": "7716a061",
   "metadata": {},
   "outputs": [],
   "source": [
    "dataframe = dataframe.dropna()"
   ]
  },
  {
   "cell_type": "code",
   "execution_count": 100,
   "id": "840526a1",
   "metadata": {},
   "outputs": [
    {
     "data": {
      "text/plain": [
       "Index(['index', 'url', 'address', 'name', 'online_order', 'book_table', 'rate',\n",
       "       'votes', 'phone', 'location', 'rest_type', 'cuisines',\n",
       "       'approx_cost(for two people)', 'reviews_list', 'menu_item',\n",
       "       'listed_in(type)', 'listed_in(city)', 'total_cuisines',\n",
       "       'multiple_types', 'target'],\n",
       "      dtype='object')"
      ]
     },
     "execution_count": 100,
     "metadata": {},
     "output_type": "execute_result"
    }
   ],
   "source": [
    "dataframe.columns"
   ]
  },
  {
   "cell_type": "code",
   "execution_count": 101,
   "id": "3a621f72",
   "metadata": {},
   "outputs": [],
   "source": [
    "imp_features = ['online_order', 'book_table',\n",
    "       'votes',  'location', 'rest_type', \n",
    "       'approx_cost(for two people)', \n",
    "       'listed_in(type)', 'listed_in(city)', 'target']"
   ]
  },
  {
   "cell_type": "code",
   "execution_count": 102,
   "id": "82666302",
   "metadata": {},
   "outputs": [],
   "source": [
    "data = dataframe[imp_features]"
   ]
  },
  {
   "cell_type": "code",
   "execution_count": 103,
   "id": "9fce5a96",
   "metadata": {},
   "outputs": [
    {
     "data": {
      "text/plain": [
       "(42144, 9)"
      ]
     },
     "execution_count": 103,
     "metadata": {},
     "output_type": "execute_result"
    }
   ],
   "source": [
    "data.shape"
   ]
  },
  {
   "cell_type": "code",
   "execution_count": 104,
   "id": "86da65da",
   "metadata": {},
   "outputs": [],
   "source": [
    "cat_features = [col for col in data.columns if data[col].dtype=='O']"
   ]
  },
  {
   "cell_type": "code",
   "execution_count": 105,
   "id": "ae2dedb1",
   "metadata": {},
   "outputs": [],
   "source": [
    "num_features = [col for col in data.columns if data[col].dtype!='O']"
   ]
  },
  {
   "cell_type": "code",
   "execution_count": 106,
   "id": "b1dec73c",
   "metadata": {},
   "outputs": [
    {
     "data": {
      "text/plain": [
       "2"
      ]
     },
     "execution_count": 106,
     "metadata": {},
     "output_type": "execute_result"
    }
   ],
   "source": [
    "data['online_order'].nunique()"
   ]
  },
  {
   "cell_type": "code",
   "execution_count": 107,
   "id": "55d601eb",
   "metadata": {},
   "outputs": [
    {
     "name": "stdout",
     "output_type": "stream",
     "text": [
      "online_order has total 2 unique features\n",
      "book_table has total 2 unique features\n",
      "location has total 92 unique features\n",
      "rest_type has total 87 unique features\n",
      "approx_cost(for two people) has total 63 unique features\n",
      "listed_in(type) has total 7 unique features\n",
      "listed_in(city) has total 30 unique features\n"
     ]
    }
   ],
   "source": [
    "for feature in cat_features:\n",
    "    print('{} has total {} unique features'.format(feature , data[feature].nunique()))"
   ]
  },
  {
   "cell_type": "code",
   "execution_count": 108,
   "id": "b6d636ca",
   "metadata": {},
   "outputs": [
    {
     "data": {
      "text/plain": [
       "0              Casual Dining\n",
       "1              Casual Dining\n",
       "2        Cafe, Casual Dining\n",
       "3                Quick Bites\n",
       "4              Casual Dining\n",
       "                ...         \n",
       "51709     Casual Dining, Bar\n",
       "51711     Casual Dining, Bar\n",
       "51712                    Bar\n",
       "51715                    Bar\n",
       "51716     Bar, Casual Dining\n",
       "Name: rest_type, Length: 42144, dtype: object"
      ]
     },
     "execution_count": 108,
     "metadata": {},
     "output_type": "execute_result"
    }
   ],
   "source": [
    "data['rest_type']"
   ]
  },
  {
   "cell_type": "code",
   "execution_count": 109,
   "id": "7b6e6f1a",
   "metadata": {},
   "outputs": [],
   "source": [
    "freq_cat = data['rest_type'].value_counts()[0:5]/len(data)*100"
   ]
  },
  {
   "cell_type": "code",
   "execution_count": 110,
   "id": "f9ac3009",
   "metadata": {},
   "outputs": [
    {
     "data": {
      "text/plain": [
       "rest_type\n",
       "Quick Bites       33.857726\n",
       "Casual Dining     23.156321\n",
       "Cafe               7.984529\n",
       "Dessert Parlor     4.477506\n",
       "Delivery           4.057517\n",
       "Name: count, dtype: float64"
      ]
     },
     "execution_count": 110,
     "metadata": {},
     "output_type": "execute_result"
    }
   ],
   "source": [
    "freq_cat"
   ]
  },
  {
   "cell_type": "code",
   "execution_count": 111,
   "id": "27f34eeb",
   "metadata": {},
   "outputs": [
    {
     "data": {
      "text/plain": [
       "Index(['Quick Bites', 'Casual Dining', 'Cafe', 'Dessert Parlor', 'Delivery'], dtype='object', name='rest_type')"
      ]
     },
     "execution_count": 111,
     "metadata": {},
     "output_type": "execute_result"
    }
   ],
   "source": [
    "freq_cat.index ## these are most frequent values in 'rest_type' feature.."
   ]
  },
  {
   "cell_type": "code",
   "execution_count": 112,
   "id": "d78e98d1",
   "metadata": {},
   "outputs": [
    {
     "data": {
      "text/plain": [
       "0         True\n",
       "1         True\n",
       "2        False\n",
       "3         True\n",
       "4         True\n",
       "         ...  \n",
       "51709    False\n",
       "51711    False\n",
       "51712    False\n",
       "51715    False\n",
       "51716    False\n",
       "Name: rest_type, Length: 42144, dtype: bool"
      ]
     },
     "execution_count": 112,
     "metadata": {},
     "output_type": "execute_result"
    }
   ],
   "source": [
    "data['rest_type'].isin(freq_cat.index)"
   ]
  },
  {
   "cell_type": "code",
   "execution_count": 113,
   "id": "9005a349",
   "metadata": {},
   "outputs": [
    {
     "data": {
      "text/html": [
       "<div>\n",
       "<style scoped>\n",
       "    .dataframe tbody tr th:only-of-type {\n",
       "        vertical-align: middle;\n",
       "    }\n",
       "\n",
       "    .dataframe tbody tr th {\n",
       "        vertical-align: top;\n",
       "    }\n",
       "\n",
       "    .dataframe thead th {\n",
       "        text-align: right;\n",
       "    }\n",
       "</style>\n",
       "<table border=\"1\" class=\"dataframe\">\n",
       "  <thead>\n",
       "    <tr style=\"text-align: right;\">\n",
       "      <th></th>\n",
       "      <th>online_order</th>\n",
       "      <th>book_table</th>\n",
       "      <th>votes</th>\n",
       "      <th>location</th>\n",
       "      <th>rest_type</th>\n",
       "      <th>approx_cost(for two people)</th>\n",
       "      <th>listed_in(type)</th>\n",
       "      <th>listed_in(city)</th>\n",
       "      <th>target</th>\n",
       "    </tr>\n",
       "  </thead>\n",
       "  <tbody>\n",
       "    <tr>\n",
       "      <th>0</th>\n",
       "      <td>Yes</td>\n",
       "      <td>Yes</td>\n",
       "      <td>775</td>\n",
       "      <td>Banashankari</td>\n",
       "      <td>Casual Dining</td>\n",
       "      <td>800</td>\n",
       "      <td>Buffet</td>\n",
       "      <td>Banashankari</td>\n",
       "      <td>1</td>\n",
       "    </tr>\n",
       "    <tr>\n",
       "      <th>1</th>\n",
       "      <td>Yes</td>\n",
       "      <td>No</td>\n",
       "      <td>787</td>\n",
       "      <td>Banashankari</td>\n",
       "      <td>Casual Dining</td>\n",
       "      <td>800</td>\n",
       "      <td>Buffet</td>\n",
       "      <td>Banashankari</td>\n",
       "      <td>1</td>\n",
       "    </tr>\n",
       "    <tr>\n",
       "      <th>3</th>\n",
       "      <td>No</td>\n",
       "      <td>No</td>\n",
       "      <td>88</td>\n",
       "      <td>Banashankari</td>\n",
       "      <td>Quick Bites</td>\n",
       "      <td>300</td>\n",
       "      <td>Buffet</td>\n",
       "      <td>Banashankari</td>\n",
       "      <td>0</td>\n",
       "    </tr>\n",
       "    <tr>\n",
       "      <th>4</th>\n",
       "      <td>No</td>\n",
       "      <td>No</td>\n",
       "      <td>166</td>\n",
       "      <td>Basavanagudi</td>\n",
       "      <td>Casual Dining</td>\n",
       "      <td>600</td>\n",
       "      <td>Buffet</td>\n",
       "      <td>Banashankari</td>\n",
       "      <td>1</td>\n",
       "    </tr>\n",
       "    <tr>\n",
       "      <th>5</th>\n",
       "      <td>Yes</td>\n",
       "      <td>No</td>\n",
       "      <td>286</td>\n",
       "      <td>Basavanagudi</td>\n",
       "      <td>Casual Dining</td>\n",
       "      <td>600</td>\n",
       "      <td>Buffet</td>\n",
       "      <td>Banashankari</td>\n",
       "      <td>1</td>\n",
       "    </tr>\n",
       "    <tr>\n",
       "      <th>...</th>\n",
       "      <td>...</td>\n",
       "      <td>...</td>\n",
       "      <td>...</td>\n",
       "      <td>...</td>\n",
       "      <td>...</td>\n",
       "      <td>...</td>\n",
       "      <td>...</td>\n",
       "      <td>...</td>\n",
       "      <td>...</td>\n",
       "    </tr>\n",
       "    <tr>\n",
       "      <th>51632</th>\n",
       "      <td>No</td>\n",
       "      <td>No</td>\n",
       "      <td>4</td>\n",
       "      <td>KR Puram</td>\n",
       "      <td>Quick Bites</td>\n",
       "      <td>350</td>\n",
       "      <td>Dine-out</td>\n",
       "      <td>Whitefield</td>\n",
       "      <td>0</td>\n",
       "    </tr>\n",
       "    <tr>\n",
       "      <th>51634</th>\n",
       "      <td>No</td>\n",
       "      <td>No</td>\n",
       "      <td>34</td>\n",
       "      <td>Brookefield</td>\n",
       "      <td>Quick Bites</td>\n",
       "      <td>200</td>\n",
       "      <td>Dine-out</td>\n",
       "      <td>Whitefield</td>\n",
       "      <td>0</td>\n",
       "    </tr>\n",
       "    <tr>\n",
       "      <th>51635</th>\n",
       "      <td>No</td>\n",
       "      <td>No</td>\n",
       "      <td>7</td>\n",
       "      <td>KR Puram</td>\n",
       "      <td>Quick Bites</td>\n",
       "      <td>400</td>\n",
       "      <td>Dine-out</td>\n",
       "      <td>Whitefield</td>\n",
       "      <td>0</td>\n",
       "    </tr>\n",
       "    <tr>\n",
       "      <th>51640</th>\n",
       "      <td>No</td>\n",
       "      <td>No</td>\n",
       "      <td>31</td>\n",
       "      <td>KR Puram</td>\n",
       "      <td>Quick Bites</td>\n",
       "      <td>400</td>\n",
       "      <td>Dine-out</td>\n",
       "      <td>Whitefield</td>\n",
       "      <td>0</td>\n",
       "    </tr>\n",
       "    <tr>\n",
       "      <th>51645</th>\n",
       "      <td>Yes</td>\n",
       "      <td>No</td>\n",
       "      <td>49</td>\n",
       "      <td>Brookefield</td>\n",
       "      <td>Quick Bites</td>\n",
       "      <td>300</td>\n",
       "      <td>Dine-out</td>\n",
       "      <td>Whitefield</td>\n",
       "      <td>0</td>\n",
       "    </tr>\n",
       "  </tbody>\n",
       "</table>\n",
       "<p>30990 rows × 9 columns</p>\n",
       "</div>"
      ],
      "text/plain": [
       "      online_order book_table  votes      location      rest_type  \\\n",
       "0              Yes        Yes    775  Banashankari  Casual Dining   \n",
       "1              Yes         No    787  Banashankari  Casual Dining   \n",
       "3               No         No     88  Banashankari    Quick Bites   \n",
       "4               No         No    166  Basavanagudi  Casual Dining   \n",
       "5              Yes         No    286  Basavanagudi  Casual Dining   \n",
       "...            ...        ...    ...           ...            ...   \n",
       "51632           No         No      4      KR Puram    Quick Bites   \n",
       "51634           No         No     34   Brookefield    Quick Bites   \n",
       "51635           No         No      7      KR Puram    Quick Bites   \n",
       "51640           No         No     31      KR Puram    Quick Bites   \n",
       "51645          Yes         No     49   Brookefield    Quick Bites   \n",
       "\n",
       "      approx_cost(for two people) listed_in(type) listed_in(city)  target  \n",
       "0                             800          Buffet    Banashankari       1  \n",
       "1                             800          Buffet    Banashankari       1  \n",
       "3                             300          Buffet    Banashankari       0  \n",
       "4                             600          Buffet    Banashankari       1  \n",
       "5                             600          Buffet    Banashankari       1  \n",
       "...                           ...             ...             ...     ...  \n",
       "51632                         350        Dine-out      Whitefield       0  \n",
       "51634                         200        Dine-out      Whitefield       0  \n",
       "51635                         400        Dine-out      Whitefield       0  \n",
       "51640                         400        Dine-out      Whitefield       0  \n",
       "51645                         300        Dine-out      Whitefield       0  \n",
       "\n",
       "[30990 rows x 9 columns]"
      ]
     },
     "execution_count": 113,
     "metadata": {},
     "output_type": "execute_result"
    }
   ],
   "source": [
    "data[data['rest_type'].isin(freq_cat.index)]"
   ]
  },
  {
   "cell_type": "code",
   "execution_count": 114,
   "id": "aa09d92a",
   "metadata": {},
   "outputs": [],
   "source": [
    "data['rest_type'] = data['rest_type'].apply(lambda x : 'other' if x not in freq_cat.index else x)\n"
   ]
  },
  {
   "cell_type": "code",
   "execution_count": 115,
   "id": "6703c7aa",
   "metadata": {},
   "outputs": [
    {
     "data": {
      "text/plain": [
       "0        Casual Dining\n",
       "1        Casual Dining\n",
       "2                other\n",
       "3          Quick Bites\n",
       "4        Casual Dining\n",
       "             ...      \n",
       "51709            other\n",
       "51711            other\n",
       "51712            other\n",
       "51715            other\n",
       "51716            other\n",
       "Name: rest_type, Length: 42144, dtype: object"
      ]
     },
     "execution_count": 115,
     "metadata": {},
     "output_type": "execute_result"
    }
   ],
   "source": [
    "data['rest_type']"
   ]
  },
  {
   "cell_type": "code",
   "execution_count": 116,
   "id": "3fd877cc",
   "metadata": {},
   "outputs": [
    {
     "data": {
      "text/plain": [
       "listed_in(city)\n",
       "BTM                      6.304575\n",
       "Koramangala 7th Block    5.682897\n",
       "Koramangala 5th Block    5.464598\n",
       "Koramangala 4th Block    5.455106\n",
       "Koramangala 6th Block    5.108675\n",
       "Jayanagar                4.683941\n",
       "JP Nagar                 4.002942\n",
       "Indiranagar              3.734814\n",
       "Church Street            3.673121\n",
       "MG Road                  3.644647\n",
       "Brigade Road             3.571090\n",
       "Lavelle Road             3.485668\n",
       "HSR                      3.246014\n",
       "Residency Road           3.219913\n",
       "Marathahalli             3.113136\n",
       "Bannerghatta Road        2.987377\n",
       "Whitefield               2.920938\n",
       "Old Airport Road         2.821279\n",
       "Brookefield              2.783314\n",
       "Basavanagudi             2.565015\n",
       "Kammanahalli             2.484339\n",
       "Sarjapur Road            2.446374\n",
       "Kalyan Nagar             2.432137\n",
       "Bellandur                2.337225\n",
       "Frazer Town              2.318242\n",
       "Malleshwaram             2.242312\n",
       "Electronic City          2.080961\n",
       "Rajajinagar              2.078588\n",
       "Banashankari             1.744021\n",
       "New BEL Road             1.366743\n",
       "Name: count, dtype: float64"
      ]
     },
     "execution_count": 116,
     "metadata": {},
     "output_type": "execute_result"
    }
   ],
   "source": [
    "data['listed_in(city)'].value_counts()/len(data)*100\n"
   ]
  },
  {
   "cell_type": "code",
   "execution_count": 117,
   "id": "559bbacd",
   "metadata": {},
   "outputs": [
    {
     "data": {
      "text/plain": [
       "location\n",
       "BTM                      9.586181\n",
       "Koramangala 5th Block    5.457479\n",
       "HSR                      4.857156\n",
       "Indiranagar              4.325645\n",
       "JP Nagar                 4.235478\n",
       "                           ...   \n",
       "Yelahanka                0.009491\n",
       "West Bangalore           0.009491\n",
       "Rajarajeshwari Nagar     0.004746\n",
       "Nagarbhavi               0.002373\n",
       "Peenya                   0.002373\n",
       "Name: count, Length: 92, dtype: float64"
      ]
     },
     "execution_count": 117,
     "metadata": {},
     "output_type": "execute_result"
    }
   ],
   "source": [
    "data['location'].value_counts()/len(data)*100 "
   ]
  },
  {
   "cell_type": "code",
   "execution_count": 118,
   "id": "23397bbd",
   "metadata": {},
   "outputs": [
    {
     "data": {
      "text/plain": [
       "['online_order',\n",
       " 'book_table',\n",
       " 'location',\n",
       " 'rest_type',\n",
       " 'approx_cost(for two people)',\n",
       " 'listed_in(type)',\n",
       " 'listed_in(city)']"
      ]
     },
     "execution_count": 118,
     "metadata": {},
     "output_type": "execute_result"
    }
   ],
   "source": [
    "cat_features"
   ]
  },
  {
   "cell_type": "code",
   "execution_count": 119,
   "id": "c169e9d4",
   "metadata": {},
   "outputs": [
    {
     "data": {
      "text/html": [
       "<div>\n",
       "<style scoped>\n",
       "    .dataframe tbody tr th:only-of-type {\n",
       "        vertical-align: middle;\n",
       "    }\n",
       "\n",
       "    .dataframe tbody tr th {\n",
       "        vertical-align: top;\n",
       "    }\n",
       "\n",
       "    .dataframe thead th {\n",
       "        text-align: right;\n",
       "    }\n",
       "</style>\n",
       "<table border=\"1\" class=\"dataframe\">\n",
       "  <thead>\n",
       "    <tr style=\"text-align: right;\">\n",
       "      <th></th>\n",
       "      <th>online_order_Yes</th>\n",
       "    </tr>\n",
       "  </thead>\n",
       "  <tbody>\n",
       "    <tr>\n",
       "      <th>0</th>\n",
       "      <td>True</td>\n",
       "    </tr>\n",
       "    <tr>\n",
       "      <th>1</th>\n",
       "      <td>True</td>\n",
       "    </tr>\n",
       "    <tr>\n",
       "      <th>2</th>\n",
       "      <td>True</td>\n",
       "    </tr>\n",
       "    <tr>\n",
       "      <th>3</th>\n",
       "      <td>False</td>\n",
       "    </tr>\n",
       "    <tr>\n",
       "      <th>4</th>\n",
       "      <td>False</td>\n",
       "    </tr>\n",
       "    <tr>\n",
       "      <th>...</th>\n",
       "      <td>...</td>\n",
       "    </tr>\n",
       "    <tr>\n",
       "      <th>51709</th>\n",
       "      <td>False</td>\n",
       "    </tr>\n",
       "    <tr>\n",
       "      <th>51711</th>\n",
       "      <td>False</td>\n",
       "    </tr>\n",
       "    <tr>\n",
       "      <th>51712</th>\n",
       "      <td>False</td>\n",
       "    </tr>\n",
       "    <tr>\n",
       "      <th>51715</th>\n",
       "      <td>False</td>\n",
       "    </tr>\n",
       "    <tr>\n",
       "      <th>51716</th>\n",
       "      <td>False</td>\n",
       "    </tr>\n",
       "  </tbody>\n",
       "</table>\n",
       "<p>42144 rows × 1 columns</p>\n",
       "</div>"
      ],
      "text/plain": [
       "       online_order_Yes\n",
       "0                  True\n",
       "1                  True\n",
       "2                  True\n",
       "3                 False\n",
       "4                 False\n",
       "...                 ...\n",
       "51709             False\n",
       "51711             False\n",
       "51712             False\n",
       "51715             False\n",
       "51716             False\n",
       "\n",
       "[42144 rows x 1 columns]"
      ]
     },
     "execution_count": 119,
     "metadata": {},
     "output_type": "execute_result"
    }
   ],
   "source": [
    "pd.get_dummies(data['online_order'] , prefix='online_order' , drop_first=True) ## Applying one-hot on \"online_order\" feature"
   ]
  },
  {
   "cell_type": "code",
   "execution_count": 120,
   "id": "58657373",
   "metadata": {},
   "outputs": [],
   "source": [
    "## Applying one-hot on ['online_order', 'book_table', 'rest_type', 'listed_in(type)']\n",
    "\n",
    "for col in ['online_order', 'book_table', 'rest_type', 'listed_in(type)']:\n",
    "    col_encoded = pd.get_dummies(data[col] , prefix=col , drop_first=True)\n",
    "    data = pd.concat([data , col_encoded] , axis=1)"
   ]
  },
  {
   "cell_type": "code",
   "execution_count": 121,
   "id": "687fb6b6",
   "metadata": {},
   "outputs": [
    {
     "data": {
      "text/html": [
       "<div>\n",
       "<style scoped>\n",
       "    .dataframe tbody tr th:only-of-type {\n",
       "        vertical-align: middle;\n",
       "    }\n",
       "\n",
       "    .dataframe tbody tr th {\n",
       "        vertical-align: top;\n",
       "    }\n",
       "\n",
       "    .dataframe thead th {\n",
       "        text-align: right;\n",
       "    }\n",
       "</style>\n",
       "<table border=\"1\" class=\"dataframe\">\n",
       "  <thead>\n",
       "    <tr style=\"text-align: right;\">\n",
       "      <th></th>\n",
       "      <th>online_order</th>\n",
       "      <th>book_table</th>\n",
       "      <th>votes</th>\n",
       "      <th>location</th>\n",
       "      <th>rest_type</th>\n",
       "      <th>approx_cost(for two people)</th>\n",
       "      <th>listed_in(type)</th>\n",
       "      <th>listed_in(city)</th>\n",
       "      <th>target</th>\n",
       "      <th>online_order_Yes</th>\n",
       "      <th>...</th>\n",
       "      <th>rest_type_Delivery</th>\n",
       "      <th>rest_type_Dessert Parlor</th>\n",
       "      <th>rest_type_Quick Bites</th>\n",
       "      <th>rest_type_other</th>\n",
       "      <th>listed_in(type)_Cafes</th>\n",
       "      <th>listed_in(type)_Delivery</th>\n",
       "      <th>listed_in(type)_Desserts</th>\n",
       "      <th>listed_in(type)_Dine-out</th>\n",
       "      <th>listed_in(type)_Drinks &amp; nightlife</th>\n",
       "      <th>listed_in(type)_Pubs and bars</th>\n",
       "    </tr>\n",
       "  </thead>\n",
       "  <tbody>\n",
       "    <tr>\n",
       "      <th>0</th>\n",
       "      <td>Yes</td>\n",
       "      <td>Yes</td>\n",
       "      <td>775</td>\n",
       "      <td>Banashankari</td>\n",
       "      <td>Casual Dining</td>\n",
       "      <td>800</td>\n",
       "      <td>Buffet</td>\n",
       "      <td>Banashankari</td>\n",
       "      <td>1</td>\n",
       "      <td>True</td>\n",
       "      <td>...</td>\n",
       "      <td>False</td>\n",
       "      <td>False</td>\n",
       "      <td>False</td>\n",
       "      <td>False</td>\n",
       "      <td>False</td>\n",
       "      <td>False</td>\n",
       "      <td>False</td>\n",
       "      <td>False</td>\n",
       "      <td>False</td>\n",
       "      <td>False</td>\n",
       "    </tr>\n",
       "    <tr>\n",
       "      <th>1</th>\n",
       "      <td>Yes</td>\n",
       "      <td>No</td>\n",
       "      <td>787</td>\n",
       "      <td>Banashankari</td>\n",
       "      <td>Casual Dining</td>\n",
       "      <td>800</td>\n",
       "      <td>Buffet</td>\n",
       "      <td>Banashankari</td>\n",
       "      <td>1</td>\n",
       "      <td>True</td>\n",
       "      <td>...</td>\n",
       "      <td>False</td>\n",
       "      <td>False</td>\n",
       "      <td>False</td>\n",
       "      <td>False</td>\n",
       "      <td>False</td>\n",
       "      <td>False</td>\n",
       "      <td>False</td>\n",
       "      <td>False</td>\n",
       "      <td>False</td>\n",
       "      <td>False</td>\n",
       "    </tr>\n",
       "    <tr>\n",
       "      <th>2</th>\n",
       "      <td>Yes</td>\n",
       "      <td>No</td>\n",
       "      <td>918</td>\n",
       "      <td>Banashankari</td>\n",
       "      <td>other</td>\n",
       "      <td>800</td>\n",
       "      <td>Buffet</td>\n",
       "      <td>Banashankari</td>\n",
       "      <td>1</td>\n",
       "      <td>True</td>\n",
       "      <td>...</td>\n",
       "      <td>False</td>\n",
       "      <td>False</td>\n",
       "      <td>False</td>\n",
       "      <td>True</td>\n",
       "      <td>False</td>\n",
       "      <td>False</td>\n",
       "      <td>False</td>\n",
       "      <td>False</td>\n",
       "      <td>False</td>\n",
       "      <td>False</td>\n",
       "    </tr>\n",
       "    <tr>\n",
       "      <th>3</th>\n",
       "      <td>No</td>\n",
       "      <td>No</td>\n",
       "      <td>88</td>\n",
       "      <td>Banashankari</td>\n",
       "      <td>Quick Bites</td>\n",
       "      <td>300</td>\n",
       "      <td>Buffet</td>\n",
       "      <td>Banashankari</td>\n",
       "      <td>0</td>\n",
       "      <td>False</td>\n",
       "      <td>...</td>\n",
       "      <td>False</td>\n",
       "      <td>False</td>\n",
       "      <td>True</td>\n",
       "      <td>False</td>\n",
       "      <td>False</td>\n",
       "      <td>False</td>\n",
       "      <td>False</td>\n",
       "      <td>False</td>\n",
       "      <td>False</td>\n",
       "      <td>False</td>\n",
       "    </tr>\n",
       "  </tbody>\n",
       "</table>\n",
       "<p>4 rows × 22 columns</p>\n",
       "</div>"
      ],
      "text/plain": [
       "  online_order book_table  votes      location      rest_type  \\\n",
       "0          Yes        Yes    775  Banashankari  Casual Dining   \n",
       "1          Yes         No    787  Banashankari  Casual Dining   \n",
       "2          Yes         No    918  Banashankari          other   \n",
       "3           No         No     88  Banashankari    Quick Bites   \n",
       "\n",
       "  approx_cost(for two people) listed_in(type) listed_in(city)  target  \\\n",
       "0                         800          Buffet    Banashankari       1   \n",
       "1                         800          Buffet    Banashankari       1   \n",
       "2                         800          Buffet    Banashankari       1   \n",
       "3                         300          Buffet    Banashankari       0   \n",
       "\n",
       "   online_order_Yes  ...  rest_type_Delivery  rest_type_Dessert Parlor  \\\n",
       "0              True  ...               False                     False   \n",
       "1              True  ...               False                     False   \n",
       "2              True  ...               False                     False   \n",
       "3             False  ...               False                     False   \n",
       "\n",
       "   rest_type_Quick Bites  rest_type_other  listed_in(type)_Cafes  \\\n",
       "0                  False            False                  False   \n",
       "1                  False            False                  False   \n",
       "2                  False             True                  False   \n",
       "3                   True            False                  False   \n",
       "\n",
       "   listed_in(type)_Delivery  listed_in(type)_Desserts  \\\n",
       "0                     False                     False   \n",
       "1                     False                     False   \n",
       "2                     False                     False   \n",
       "3                     False                     False   \n",
       "\n",
       "   listed_in(type)_Dine-out  listed_in(type)_Drinks & nightlife  \\\n",
       "0                     False                               False   \n",
       "1                     False                               False   \n",
       "2                     False                               False   \n",
       "3                     False                               False   \n",
       "\n",
       "   listed_in(type)_Pubs and bars  \n",
       "0                          False  \n",
       "1                          False  \n",
       "2                          False  \n",
       "3                          False  \n",
       "\n",
       "[4 rows x 22 columns]"
      ]
     },
     "execution_count": 121,
     "metadata": {},
     "output_type": "execute_result"
    }
   ],
   "source": [
    "data.head(4)"
   ]
  },
  {
   "cell_type": "code",
   "execution_count": 122,
   "id": "14144df7",
   "metadata": {},
   "outputs": [
    {
     "data": {
      "text/html": [
       "<div>\n",
       "<style scoped>\n",
       "    .dataframe tbody tr th:only-of-type {\n",
       "        vertical-align: middle;\n",
       "    }\n",
       "\n",
       "    .dataframe tbody tr th {\n",
       "        vertical-align: top;\n",
       "    }\n",
       "\n",
       "    .dataframe thead th {\n",
       "        text-align: right;\n",
       "    }\n",
       "</style>\n",
       "<table border=\"1\" class=\"dataframe\">\n",
       "  <thead>\n",
       "    <tr style=\"text-align: right;\">\n",
       "      <th></th>\n",
       "      <th>location</th>\n",
       "      <th>listed_in(city)</th>\n",
       "    </tr>\n",
       "  </thead>\n",
       "  <tbody>\n",
       "    <tr>\n",
       "      <th>0</th>\n",
       "      <td>Banashankari</td>\n",
       "      <td>Banashankari</td>\n",
       "    </tr>\n",
       "    <tr>\n",
       "      <th>1</th>\n",
       "      <td>Banashankari</td>\n",
       "      <td>Banashankari</td>\n",
       "    </tr>\n",
       "    <tr>\n",
       "      <th>2</th>\n",
       "      <td>Banashankari</td>\n",
       "      <td>Banashankari</td>\n",
       "    </tr>\n",
       "    <tr>\n",
       "      <th>3</th>\n",
       "      <td>Banashankari</td>\n",
       "      <td>Banashankari</td>\n",
       "    </tr>\n",
       "    <tr>\n",
       "      <th>4</th>\n",
       "      <td>Basavanagudi</td>\n",
       "      <td>Banashankari</td>\n",
       "    </tr>\n",
       "    <tr>\n",
       "      <th>...</th>\n",
       "      <td>...</td>\n",
       "      <td>...</td>\n",
       "    </tr>\n",
       "    <tr>\n",
       "      <th>51709</th>\n",
       "      <td>Whitefield</td>\n",
       "      <td>Whitefield</td>\n",
       "    </tr>\n",
       "    <tr>\n",
       "      <th>51711</th>\n",
       "      <td>Whitefield</td>\n",
       "      <td>Whitefield</td>\n",
       "    </tr>\n",
       "    <tr>\n",
       "      <th>51712</th>\n",
       "      <td>Whitefield</td>\n",
       "      <td>Whitefield</td>\n",
       "    </tr>\n",
       "    <tr>\n",
       "      <th>51715</th>\n",
       "      <td>ITPL Main Road, Whitefield</td>\n",
       "      <td>Whitefield</td>\n",
       "    </tr>\n",
       "    <tr>\n",
       "      <th>51716</th>\n",
       "      <td>ITPL Main Road, Whitefield</td>\n",
       "      <td>Whitefield</td>\n",
       "    </tr>\n",
       "  </tbody>\n",
       "</table>\n",
       "<p>42144 rows × 2 columns</p>\n",
       "</div>"
      ],
      "text/plain": [
       "                         location listed_in(city)\n",
       "0                    Banashankari    Banashankari\n",
       "1                    Banashankari    Banashankari\n",
       "2                    Banashankari    Banashankari\n",
       "3                    Banashankari    Banashankari\n",
       "4                    Basavanagudi    Banashankari\n",
       "...                           ...             ...\n",
       "51709                  Whitefield      Whitefield\n",
       "51711                  Whitefield      Whitefield\n",
       "51712                  Whitefield      Whitefield\n",
       "51715  ITPL Main Road, Whitefield      Whitefield\n",
       "51716  ITPL Main Road, Whitefield      Whitefield\n",
       "\n",
       "[42144 rows x 2 columns]"
      ]
     },
     "execution_count": 122,
     "metadata": {},
     "output_type": "execute_result"
    }
   ],
   "source": [
    "data[['location' , 'listed_in(city)']]"
   ]
  },
  {
   "cell_type": "code",
   "execution_count": 123,
   "id": "cd75d5f3",
   "metadata": {},
   "outputs": [
    {
     "data": {
      "text/plain": [
       "location\n",
       "BTM                  0.329703\n",
       "Banashankari         0.477124\n",
       "Banaswadi            0.259494\n",
       "Bannerghatta Road    0.305071\n",
       "Basavanagudi         0.523333\n",
       "                       ...   \n",
       "West Bangalore       0.250000\n",
       "Whitefield           0.404599\n",
       "Wilson Garden        0.286458\n",
       "Yelahanka            0.500000\n",
       "Yeshwantpur          0.223214\n",
       "Name: target, Length: 92, dtype: float64"
      ]
     },
     "execution_count": 123,
     "metadata": {},
     "output_type": "execute_result"
    }
   ],
   "source": [
    "data.groupby(['location'])['target'].mean()"
   ]
  },
  {
   "cell_type": "code",
   "execution_count": 124,
   "id": "1ead7157",
   "metadata": {},
   "outputs": [],
   "source": [
    "dict_mean_location  = data.groupby(['location'])['target'].mean().to_dict()"
   ]
  },
  {
   "cell_type": "code",
   "execution_count": 125,
   "id": "3f29ce0c",
   "metadata": {},
   "outputs": [
    {
     "data": {
      "text/plain": [
       "0                      Banashankari\n",
       "1                      Banashankari\n",
       "2                      Banashankari\n",
       "3                      Banashankari\n",
       "4                      Basavanagudi\n",
       "                    ...            \n",
       "51709                    Whitefield\n",
       "51711                    Whitefield\n",
       "51712                    Whitefield\n",
       "51715    ITPL Main Road, Whitefield\n",
       "51716    ITPL Main Road, Whitefield\n",
       "Name: location, Length: 42144, dtype: object"
      ]
     },
     "execution_count": 125,
     "metadata": {},
     "output_type": "execute_result"
    }
   ],
   "source": [
    "data['location']"
   ]
  },
  {
   "cell_type": "code",
   "execution_count": 126,
   "id": "de9fff77",
   "metadata": {},
   "outputs": [],
   "source": [
    "data['location'] = data['location'].map(dict_mean_location) ## lets map \"dict_mean_location\" on top of \"location\" feature"
   ]
  },
  {
   "cell_type": "code",
   "execution_count": 127,
   "id": "7f905008",
   "metadata": {},
   "outputs": [
    {
     "data": {
      "text/plain": [
       "0        0.477124\n",
       "1        0.477124\n",
       "2        0.477124\n",
       "3        0.477124\n",
       "4        0.523333\n",
       "           ...   \n",
       "51709    0.404599\n",
       "51711    0.404599\n",
       "51712    0.404599\n",
       "51715    0.329670\n",
       "51716    0.329670\n",
       "Name: location, Length: 42144, dtype: float64"
      ]
     },
     "execution_count": 127,
     "metadata": {},
     "output_type": "execute_result"
    }
   ],
   "source": [
    "data['location']"
   ]
  },
  {
   "cell_type": "code",
   "execution_count": 128,
   "id": "b06202a6",
   "metadata": {},
   "outputs": [],
   "source": [
    "dict_mean_city = data.groupby(['listed_in(city)'])['target'].mean().to_dict()\n"
   ]
  },
  {
   "cell_type": "code",
   "execution_count": 129,
   "id": "b58076b2",
   "metadata": {},
   "outputs": [],
   "source": [
    "data['listed_in(city)'] = data['listed_in(city)'].map(dict_mean_location)"
   ]
  },
  {
   "cell_type": "code",
   "execution_count": 130,
   "id": "492b492e",
   "metadata": {},
   "outputs": [
    {
     "data": {
      "text/plain": [
       "0        0.477124\n",
       "1        0.477124\n",
       "2        0.477124\n",
       "3        0.477124\n",
       "4        0.477124\n",
       "           ...   \n",
       "51709    0.404599\n",
       "51711    0.404599\n",
       "51712    0.404599\n",
       "51715    0.404599\n",
       "51716    0.404599\n",
       "Name: listed_in(city), Length: 42144, dtype: float64"
      ]
     },
     "execution_count": 130,
     "metadata": {},
     "output_type": "execute_result"
    }
   ],
   "source": [
    "data['listed_in(city)']"
   ]
  },
  {
   "cell_type": "code",
   "execution_count": 131,
   "id": "20fff4c0",
   "metadata": {},
   "outputs": [
    {
     "data": {
      "text/plain": [
       "Index(['online_order', 'book_table', 'votes', 'location', 'rest_type',\n",
       "       'approx_cost(for two people)', 'listed_in(type)', 'listed_in(city)',\n",
       "       'target', 'online_order_Yes', 'book_table_Yes',\n",
       "       'rest_type_Casual Dining', 'rest_type_Delivery',\n",
       "       'rest_type_Dessert Parlor', 'rest_type_Quick Bites', 'rest_type_other',\n",
       "       'listed_in(type)_Cafes', 'listed_in(type)_Delivery',\n",
       "       'listed_in(type)_Desserts', 'listed_in(type)_Dine-out',\n",
       "       'listed_in(type)_Drinks & nightlife', 'listed_in(type)_Pubs and bars'],\n",
       "      dtype='object')"
      ]
     },
     "execution_count": 131,
     "metadata": {},
     "output_type": "execute_result"
    }
   ],
   "source": [
    "data.columns"
   ]
  },
  {
   "cell_type": "code",
   "execution_count": 132,
   "id": "27489ef5",
   "metadata": {},
   "outputs": [],
   "source": [
    "\n",
    "data.drop(['online_order', 'book_table' , 'rest_type' , 'listed_in(type)'] , axis=1 , inplace=True)\n"
   ]
  },
  {
   "cell_type": "code",
   "execution_count": 133,
   "id": "3cd4b155",
   "metadata": {},
   "outputs": [
    {
     "data": {
      "text/html": [
       "<div>\n",
       "<style scoped>\n",
       "    .dataframe tbody tr th:only-of-type {\n",
       "        vertical-align: middle;\n",
       "    }\n",
       "\n",
       "    .dataframe tbody tr th {\n",
       "        vertical-align: top;\n",
       "    }\n",
       "\n",
       "    .dataframe thead th {\n",
       "        text-align: right;\n",
       "    }\n",
       "</style>\n",
       "<table border=\"1\" class=\"dataframe\">\n",
       "  <thead>\n",
       "    <tr style=\"text-align: right;\">\n",
       "      <th></th>\n",
       "      <th>votes</th>\n",
       "      <th>location</th>\n",
       "      <th>approx_cost(for two people)</th>\n",
       "      <th>listed_in(city)</th>\n",
       "      <th>target</th>\n",
       "      <th>online_order_Yes</th>\n",
       "      <th>book_table_Yes</th>\n",
       "      <th>rest_type_Casual Dining</th>\n",
       "      <th>rest_type_Delivery</th>\n",
       "      <th>rest_type_Dessert Parlor</th>\n",
       "      <th>rest_type_Quick Bites</th>\n",
       "      <th>rest_type_other</th>\n",
       "      <th>listed_in(type)_Cafes</th>\n",
       "      <th>listed_in(type)_Delivery</th>\n",
       "      <th>listed_in(type)_Desserts</th>\n",
       "      <th>listed_in(type)_Dine-out</th>\n",
       "      <th>listed_in(type)_Drinks &amp; nightlife</th>\n",
       "      <th>listed_in(type)_Pubs and bars</th>\n",
       "    </tr>\n",
       "  </thead>\n",
       "  <tbody>\n",
       "    <tr>\n",
       "      <th>0</th>\n",
       "      <td>775</td>\n",
       "      <td>0.477124</td>\n",
       "      <td>800</td>\n",
       "      <td>0.477124</td>\n",
       "      <td>1</td>\n",
       "      <td>True</td>\n",
       "      <td>True</td>\n",
       "      <td>True</td>\n",
       "      <td>False</td>\n",
       "      <td>False</td>\n",
       "      <td>False</td>\n",
       "      <td>False</td>\n",
       "      <td>False</td>\n",
       "      <td>False</td>\n",
       "      <td>False</td>\n",
       "      <td>False</td>\n",
       "      <td>False</td>\n",
       "      <td>False</td>\n",
       "    </tr>\n",
       "    <tr>\n",
       "      <th>1</th>\n",
       "      <td>787</td>\n",
       "      <td>0.477124</td>\n",
       "      <td>800</td>\n",
       "      <td>0.477124</td>\n",
       "      <td>1</td>\n",
       "      <td>True</td>\n",
       "      <td>False</td>\n",
       "      <td>True</td>\n",
       "      <td>False</td>\n",
       "      <td>False</td>\n",
       "      <td>False</td>\n",
       "      <td>False</td>\n",
       "      <td>False</td>\n",
       "      <td>False</td>\n",
       "      <td>False</td>\n",
       "      <td>False</td>\n",
       "      <td>False</td>\n",
       "      <td>False</td>\n",
       "    </tr>\n",
       "  </tbody>\n",
       "</table>\n",
       "</div>"
      ],
      "text/plain": [
       "   votes  location approx_cost(for two people)  listed_in(city)  target  \\\n",
       "0    775  0.477124                         800         0.477124       1   \n",
       "1    787  0.477124                         800         0.477124       1   \n",
       "\n",
       "   online_order_Yes  book_table_Yes  rest_type_Casual Dining  \\\n",
       "0              True            True                     True   \n",
       "1              True           False                     True   \n",
       "\n",
       "   rest_type_Delivery  rest_type_Dessert Parlor  rest_type_Quick Bites  \\\n",
       "0               False                     False                  False   \n",
       "1               False                     False                  False   \n",
       "\n",
       "   rest_type_other  listed_in(type)_Cafes  listed_in(type)_Delivery  \\\n",
       "0            False                  False                     False   \n",
       "1            False                  False                     False   \n",
       "\n",
       "   listed_in(type)_Desserts  listed_in(type)_Dine-out  \\\n",
       "0                     False                     False   \n",
       "1                     False                     False   \n",
       "\n",
       "   listed_in(type)_Drinks & nightlife  listed_in(type)_Pubs and bars  \n",
       "0                               False                          False  \n",
       "1                               False                          False  "
      ]
     },
     "execution_count": 133,
     "metadata": {},
     "output_type": "execute_result"
    }
   ],
   "source": [
    "data.head(2)"
   ]
  },
  {
   "cell_type": "code",
   "execution_count": 134,
   "id": "58a2f938",
   "metadata": {},
   "outputs": [
    {
     "data": {
      "text/plain": [
       "0"
      ]
     },
     "execution_count": 134,
     "metadata": {},
     "output_type": "execute_result"
    }
   ],
   "source": [
    "data['votes'].min()"
   ]
  },
  {
   "cell_type": "code",
   "execution_count": 135,
   "id": "84db9e69",
   "metadata": {},
   "outputs": [
    {
     "data": {
      "text/plain": [
       "16832"
      ]
     },
     "execution_count": 135,
     "metadata": {},
     "output_type": "execute_result"
    }
   ],
   "source": [
    "data['votes'].max()"
   ]
  },
  {
   "cell_type": "code",
   "execution_count": 137,
   "id": "9a0a2a42",
   "metadata": {},
   "outputs": [],
   "source": [
    "from IPython.display import Image\n",
    "from scipy import stats"
   ]
  },
  {
   "cell_type": "code",
   "execution_count": 139,
   "id": "4bfdd5ab",
   "metadata": {},
   "outputs": [
    {
     "data": {
      "image/png": "[encoded data removed]",
      "text/plain": [
       "<Figure size 640x480 with 1 Axes>"
      ]
     },
     "metadata": {},
     "output_type": "display_data"
    }
   ],
   "source": [
    "import seaborn as sns\n",
    "import matplotlib.pyplot as plt\n",
    "from scipy import stats\n",
    "\n",
    "data['approx_cost(for two people)'] = data['approx_cost(for two people)'].str.replace(',', '', regex=True).astype(float)\n",
    "\n",
    "plt.subplot(414)\n",
    "stats.probplot(data['approx_cost(for two people)'], plot=plt)\n",
    "plt.show()"
   ]
  },
  {
   "cell_type": "code",
   "execution_count": 140,
   "id": "82bfabe3",
   "metadata": {},
   "outputs": [
    {
     "data": {
      "image/png": "[encoded data removed]",
      "text/plain": [
       "<Figure size 1200x800 with 4 Axes>"
      ]
     },
     "metadata": {},
     "output_type": "display_data"
    }
   ],
   "source": [
    "plt.figure(figsize=(12,8))\n",
    "\n",
    "plt.subplot(411)\n",
    "sns.histplot(data['approx_cost(for two people)'])\n",
    "\n",
    "plt.subplot(412)\n",
    "sns.boxplot(data['approx_cost(for two people)'])\n",
    "\n",
    "plt.subplot(413)\n",
    "sns.distplot(data['approx_cost(for two people)'])\n",
    "\n",
    "\n",
    "plt.subplot(414)\n",
    "stats.probplot(data['approx_cost(for two people)'] , plot=plt)\n",
    "\n",
    "plt.show()"
   ]
  },
  {
   "cell_type": "code",
   "execution_count": 141,
   "id": "330e5aa9",
   "metadata": {},
   "outputs": [
    {
     "data": {
      "text/plain": [
       "<Axes: xlabel='approx_cost(for two people)', ylabel='Density'>"
      ]
     },
     "execution_count": 141,
     "metadata": {},
     "output_type": "execute_result"
    },
    {
     "data": {
      "image/png": "[encoded data removed]",
      "text/plain": [
       "<Figure size 640x480 with 1 Axes>"
      ]
     },
     "metadata": {},
     "output_type": "display_data"
    }
   ],
   "source": [
    "sns.distplot(data['approx_cost(for two people)'])\n"
   ]
  },
  {
   "cell_type": "code",
   "execution_count": 142,
   "id": "38ee51c8",
   "metadata": {},
   "outputs": [
    {
     "data": {
      "text/plain": [
       "0        6.685861\n",
       "1        6.685861\n",
       "2        6.685861\n",
       "3        5.707110\n",
       "4        6.398595\n",
       "           ...   \n",
       "51709    6.685861\n",
       "51711    6.685861\n",
       "51712    7.313887\n",
       "51715    7.824446\n",
       "51716    7.313887\n",
       "Name: approx_cost(for two people), Length: 42144, dtype: float64"
      ]
     },
     "execution_count": 142,
     "metadata": {},
     "output_type": "execute_result"
    }
   ],
   "source": [
    "np.log1p(data['approx_cost(for two people)'])"
   ]
  },
  {
   "cell_type": "code",
   "execution_count": 143,
   "id": "10461420",
   "metadata": {},
   "outputs": [
    {
     "data": {
      "text/plain": [
       "<Axes: xlabel='approx_cost(for two people)', ylabel='Density'>"
      ]
     },
     "execution_count": 143,
     "metadata": {},
     "output_type": "execute_result"
    },
    {
     "data": {
      "image/png": "[encoded data removed]",
      "text/plain": [
       "<Figure size 640x480 with 1 Axes>"
      ]
     },
     "metadata": {},
     "output_type": "display_data"
    }
   ],
   "source": [
    "sns.distplot(np.log1p(data['approx_cost(for two people)']))"
   ]
  },
  {
   "cell_type": "code",
   "execution_count": 144,
   "id": "67dd4a8f",
   "metadata": {},
   "outputs": [],
   "source": [
    "data['approx_cost(for two people)'] = np.log1p(data['approx_cost(for two people)'])"
   ]
  },
  {
   "cell_type": "code",
   "execution_count": 145,
   "id": "98b56c36",
   "metadata": {},
   "outputs": [
    {
     "data": {
      "text/plain": [
       "0        6.685861\n",
       "1        6.685861\n",
       "2        6.685861\n",
       "3        5.707110\n",
       "4        6.398595\n",
       "           ...   \n",
       "51709    6.685861\n",
       "51711    6.685861\n",
       "51712    7.313887\n",
       "51715    7.824446\n",
       "51716    7.313887\n",
       "Name: approx_cost(for two people), Length: 42144, dtype: float64"
      ]
     },
     "execution_count": 145,
     "metadata": {},
     "output_type": "execute_result"
    }
   ],
   "source": [
    "data['approx_cost(for two people)']"
   ]
  },
  {
   "cell_type": "code",
   "execution_count": 146,
   "id": "c22f8bbf",
   "metadata": {},
   "outputs": [
    {
     "data": {
      "image/png": "[encoded data removed]",
      "text/plain": [
       "<Figure size 1200x800 with 4 Axes>"
      ]
     },
     "metadata": {},
     "output_type": "display_data"
    }
   ],
   "source": [
    "plt.figure(figsize=(12,8))\n",
    "\n",
    "plt.subplot(411)\n",
    "sns.histplot(data['approx_cost(for two people)'])\n",
    "\n",
    "plt.subplot(412)\n",
    "sns.boxplot(data['approx_cost(for two people)'])\n",
    "\n",
    "plt.subplot(413)\n",
    "sns.distplot(data['approx_cost(for two people)'])\n",
    "\n",
    "\n",
    "plt.subplot(414)\n",
    "stats.probplot(data['approx_cost(for two people)'] , plot=plt)\n",
    "\n",
    "plt.show()"
   ]
  },
  {
   "cell_type": "code",
   "execution_count": 147,
   "id": "a436fdb0",
   "metadata": {},
   "outputs": [
    {
     "data": {
      "text/plain": [
       "Index(['votes', 'location', 'approx_cost(for two people)', 'listed_in(city)',\n",
       "       'target', 'online_order_Yes', 'book_table_Yes',\n",
       "       'rest_type_Casual Dining', 'rest_type_Delivery',\n",
       "       'rest_type_Dessert Parlor', 'rest_type_Quick Bites', 'rest_type_other',\n",
       "       'listed_in(type)_Cafes', 'listed_in(type)_Delivery',\n",
       "       'listed_in(type)_Desserts', 'listed_in(type)_Dine-out',\n",
       "       'listed_in(type)_Drinks & nightlife', 'listed_in(type)_Pubs and bars'],\n",
       "      dtype='object')"
      ]
     },
     "execution_count": 147,
     "metadata": {},
     "output_type": "execute_result"
    }
   ],
   "source": [
    "data.columns"
   ]
  },
  {
   "cell_type": "code",
   "execution_count": 148,
   "id": "04b204a4",
   "metadata": {},
   "outputs": [
    {
     "data": {
      "image/png": "[encoded data removed]",
      "text/plain": [
       "<Figure size 1200x800 with 4 Axes>"
      ]
     },
     "metadata": {},
     "output_type": "display_data"
    }
   ],
   "source": [
    "plt.figure(figsize=(12,8))\n",
    "\n",
    "plt.subplot(411)\n",
    "sns.histplot(data['votes'])\n",
    "\n",
    "plt.subplot(412)\n",
    "sns.boxplot(data['votes'])\n",
    "\n",
    "plt.subplot(413)\n",
    "sns.distplot(data['votes'])\n",
    "\n",
    "\n",
    "plt.subplot(414)\n",
    "stats.probplot(data['votes'] , plot=plt)\n",
    "\n",
    "plt.show()"
   ]
  },
  {
   "cell_type": "code",
   "execution_count": 149,
   "id": "c26f100b",
   "metadata": {},
   "outputs": [],
   "source": [
    "data['votes'] = np.log1p(data['votes'])"
   ]
  },
  {
   "cell_type": "code",
   "execution_count": 150,
   "id": "977c1dc1",
   "metadata": {},
   "outputs": [
    {
     "data": {
      "image/png": "[encoded data removed]",
      "text/plain": [
       "<Figure size 1200x800 with 4 Axes>"
      ]
     },
     "metadata": {},
     "output_type": "display_data"
    }
   ],
   "source": [
    "plt.figure(figsize=(12,8))\n",
    "\n",
    "plt.subplot(411)\n",
    "sns.histplot(data['votes'])\n",
    "\n",
    "plt.subplot(412)\n",
    "sns.boxplot(data['votes'])\n",
    "\n",
    "plt.subplot(413)\n",
    "sns.distplot(data['votes'])\n",
    "\n",
    "\n",
    "plt.subplot(414)\n",
    "stats.probplot(data['votes'] , plot=plt)\n",
    "\n",
    "plt.show()"
   ]
  },
  {
   "cell_type": "code",
   "execution_count": 151,
   "id": "21dbb9e0",
   "metadata": {},
   "outputs": [
    {
     "data": {
      "text/plain": [
       "votes                                 float64\n",
       "location                              float64\n",
       "approx_cost(for two people)           float64\n",
       "listed_in(city)                       float64\n",
       "target                                  int64\n",
       "online_order_Yes                         bool\n",
       "book_table_Yes                           bool\n",
       "rest_type_Casual Dining                  bool\n",
       "rest_type_Delivery                       bool\n",
       "rest_type_Dessert Parlor                 bool\n",
       "rest_type_Quick Bites                    bool\n",
       "rest_type_other                          bool\n",
       "listed_in(type)_Cafes                    bool\n",
       "listed_in(type)_Delivery                 bool\n",
       "listed_in(type)_Desserts                 bool\n",
       "listed_in(type)_Dine-out                 bool\n",
       "listed_in(type)_Drinks & nightlife       bool\n",
       "listed_in(type)_Pubs and bars            bool\n",
       "dtype: object"
      ]
     },
     "execution_count": 151,
     "metadata": {},
     "output_type": "execute_result"
    }
   ],
   "source": [
    "data.dtypes"
   ]
  },
  {
   "cell_type": "code",
   "execution_count": 152,
   "id": "c152eedf",
   "metadata": {},
   "outputs": [],
   "source": [
    "X = data.drop('target' , axis=1) ## independent data"
   ]
  },
  {
   "cell_type": "code",
   "execution_count": 153,
   "id": "f3fcc730",
   "metadata": {},
   "outputs": [],
   "source": [
    "y = data['target'] ## Dependent or Target data "
   ]
  },
  {
   "cell_type": "code",
   "execution_count": 154,
   "id": "dab2c872",
   "metadata": {},
   "outputs": [
    {
     "data": {
      "text/html": [
       "<div>\n",
       "<style scoped>\n",
       "    .dataframe tbody tr th:only-of-type {\n",
       "        vertical-align: middle;\n",
       "    }\n",
       "\n",
       "    .dataframe tbody tr th {\n",
       "        vertical-align: top;\n",
       "    }\n",
       "\n",
       "    .dataframe thead th {\n",
       "        text-align: right;\n",
       "    }\n",
       "</style>\n",
       "<table border=\"1\" class=\"dataframe\">\n",
       "  <thead>\n",
       "    <tr style=\"text-align: right;\">\n",
       "      <th></th>\n",
       "      <th>votes</th>\n",
       "      <th>location</th>\n",
       "      <th>approx_cost(for two people)</th>\n",
       "      <th>listed_in(city)</th>\n",
       "      <th>target</th>\n",
       "      <th>online_order_Yes</th>\n",
       "      <th>book_table_Yes</th>\n",
       "      <th>rest_type_Casual Dining</th>\n",
       "      <th>rest_type_Delivery</th>\n",
       "      <th>rest_type_Dessert Parlor</th>\n",
       "      <th>rest_type_Quick Bites</th>\n",
       "      <th>rest_type_other</th>\n",
       "      <th>listed_in(type)_Cafes</th>\n",
       "      <th>listed_in(type)_Delivery</th>\n",
       "      <th>listed_in(type)_Desserts</th>\n",
       "      <th>listed_in(type)_Dine-out</th>\n",
       "      <th>listed_in(type)_Drinks &amp; nightlife</th>\n",
       "      <th>listed_in(type)_Pubs and bars</th>\n",
       "    </tr>\n",
       "  </thead>\n",
       "  <tbody>\n",
       "    <tr>\n",
       "      <th>0</th>\n",
       "      <td>6.654153</td>\n",
       "      <td>0.477124</td>\n",
       "      <td>6.685861</td>\n",
       "      <td>0.477124</td>\n",
       "      <td>1</td>\n",
       "      <td>True</td>\n",
       "      <td>True</td>\n",
       "      <td>True</td>\n",
       "      <td>False</td>\n",
       "      <td>False</td>\n",
       "      <td>False</td>\n",
       "      <td>False</td>\n",
       "      <td>False</td>\n",
       "      <td>False</td>\n",
       "      <td>False</td>\n",
       "      <td>False</td>\n",
       "      <td>False</td>\n",
       "      <td>False</td>\n",
       "    </tr>\n",
       "    <tr>\n",
       "      <th>1</th>\n",
       "      <td>6.669498</td>\n",
       "      <td>0.477124</td>\n",
       "      <td>6.685861</td>\n",
       "      <td>0.477124</td>\n",
       "      <td>1</td>\n",
       "      <td>True</td>\n",
       "      <td>False</td>\n",
       "      <td>True</td>\n",
       "      <td>False</td>\n",
       "      <td>False</td>\n",
       "      <td>False</td>\n",
       "      <td>False</td>\n",
       "      <td>False</td>\n",
       "      <td>False</td>\n",
       "      <td>False</td>\n",
       "      <td>False</td>\n",
       "      <td>False</td>\n",
       "      <td>False</td>\n",
       "    </tr>\n",
       "    <tr>\n",
       "      <th>2</th>\n",
       "      <td>6.823286</td>\n",
       "      <td>0.477124</td>\n",
       "      <td>6.685861</td>\n",
       "      <td>0.477124</td>\n",
       "      <td>1</td>\n",
       "      <td>True</td>\n",
       "      <td>False</td>\n",
       "      <td>False</td>\n",
       "      <td>False</td>\n",
       "      <td>False</td>\n",
       "      <td>False</td>\n",
       "      <td>True</td>\n",
       "      <td>False</td>\n",
       "      <td>False</td>\n",
       "      <td>False</td>\n",
       "      <td>False</td>\n",
       "      <td>False</td>\n",
       "      <td>False</td>\n",
       "    </tr>\n",
       "    <tr>\n",
       "      <th>3</th>\n",
       "      <td>4.488636</td>\n",
       "      <td>0.477124</td>\n",
       "      <td>5.707110</td>\n",
       "      <td>0.477124</td>\n",
       "      <td>0</td>\n",
       "      <td>False</td>\n",
       "      <td>False</td>\n",
       "      <td>False</td>\n",
       "      <td>False</td>\n",
       "      <td>False</td>\n",
       "      <td>True</td>\n",
       "      <td>False</td>\n",
       "      <td>False</td>\n",
       "      <td>False</td>\n",
       "      <td>False</td>\n",
       "      <td>False</td>\n",
       "      <td>False</td>\n",
       "      <td>False</td>\n",
       "    </tr>\n",
       "    <tr>\n",
       "      <th>4</th>\n",
       "      <td>5.117994</td>\n",
       "      <td>0.523333</td>\n",
       "      <td>6.398595</td>\n",
       "      <td>0.477124</td>\n",
       "      <td>1</td>\n",
       "      <td>False</td>\n",
       "      <td>False</td>\n",
       "      <td>True</td>\n",
       "      <td>False</td>\n",
       "      <td>False</td>\n",
       "      <td>False</td>\n",
       "      <td>False</td>\n",
       "      <td>False</td>\n",
       "      <td>False</td>\n",
       "      <td>False</td>\n",
       "      <td>False</td>\n",
       "      <td>False</td>\n",
       "      <td>False</td>\n",
       "    </tr>\n",
       "    <tr>\n",
       "      <th>...</th>\n",
       "      <td>...</td>\n",
       "      <td>...</td>\n",
       "      <td>...</td>\n",
       "      <td>...</td>\n",
       "      <td>...</td>\n",
       "      <td>...</td>\n",
       "      <td>...</td>\n",
       "      <td>...</td>\n",
       "      <td>...</td>\n",
       "      <td>...</td>\n",
       "      <td>...</td>\n",
       "      <td>...</td>\n",
       "      <td>...</td>\n",
       "      <td>...</td>\n",
       "      <td>...</td>\n",
       "      <td>...</td>\n",
       "      <td>...</td>\n",
       "      <td>...</td>\n",
       "    </tr>\n",
       "    <tr>\n",
       "      <th>51709</th>\n",
       "      <td>3.555348</td>\n",
       "      <td>0.404599</td>\n",
       "      <td>6.685861</td>\n",
       "      <td>0.404599</td>\n",
       "      <td>0</td>\n",
       "      <td>False</td>\n",
       "      <td>False</td>\n",
       "      <td>False</td>\n",
       "      <td>False</td>\n",
       "      <td>False</td>\n",
       "      <td>False</td>\n",
       "      <td>True</td>\n",
       "      <td>False</td>\n",
       "      <td>False</td>\n",
       "      <td>False</td>\n",
       "      <td>False</td>\n",
       "      <td>False</td>\n",
       "      <td>True</td>\n",
       "    </tr>\n",
       "    <tr>\n",
       "      <th>51711</th>\n",
       "      <td>4.406719</td>\n",
       "      <td>0.404599</td>\n",
       "      <td>6.685861</td>\n",
       "      <td>0.404599</td>\n",
       "      <td>0</td>\n",
       "      <td>False</td>\n",
       "      <td>False</td>\n",
       "      <td>False</td>\n",
       "      <td>False</td>\n",
       "      <td>False</td>\n",
       "      <td>False</td>\n",
       "      <td>True</td>\n",
       "      <td>False</td>\n",
       "      <td>False</td>\n",
       "      <td>False</td>\n",
       "      <td>False</td>\n",
       "      <td>False</td>\n",
       "      <td>True</td>\n",
       "    </tr>\n",
       "    <tr>\n",
       "      <th>51712</th>\n",
       "      <td>3.332205</td>\n",
       "      <td>0.404599</td>\n",
       "      <td>7.313887</td>\n",
       "      <td>0.404599</td>\n",
       "      <td>0</td>\n",
       "      <td>False</td>\n",
       "      <td>False</td>\n",
       "      <td>False</td>\n",
       "      <td>False</td>\n",
       "      <td>False</td>\n",
       "      <td>False</td>\n",
       "      <td>True</td>\n",
       "      <td>False</td>\n",
       "      <td>False</td>\n",
       "      <td>False</td>\n",
       "      <td>False</td>\n",
       "      <td>False</td>\n",
       "      <td>True</td>\n",
       "    </tr>\n",
       "    <tr>\n",
       "      <th>51715</th>\n",
       "      <td>5.468060</td>\n",
       "      <td>0.329670</td>\n",
       "      <td>7.824446</td>\n",
       "      <td>0.404599</td>\n",
       "      <td>1</td>\n",
       "      <td>False</td>\n",
       "      <td>True</td>\n",
       "      <td>False</td>\n",
       "      <td>False</td>\n",
       "      <td>False</td>\n",
       "      <td>False</td>\n",
       "      <td>True</td>\n",
       "      <td>False</td>\n",
       "      <td>False</td>\n",
       "      <td>False</td>\n",
       "      <td>False</td>\n",
       "      <td>False</td>\n",
       "      <td>True</td>\n",
       "    </tr>\n",
       "    <tr>\n",
       "      <th>51716</th>\n",
       "      <td>2.639057</td>\n",
       "      <td>0.329670</td>\n",
       "      <td>7.313887</td>\n",
       "      <td>0.404599</td>\n",
       "      <td>0</td>\n",
       "      <td>False</td>\n",
       "      <td>False</td>\n",
       "      <td>False</td>\n",
       "      <td>False</td>\n",
       "      <td>False</td>\n",
       "      <td>False</td>\n",
       "      <td>True</td>\n",
       "      <td>False</td>\n",
       "      <td>False</td>\n",
       "      <td>False</td>\n",
       "      <td>False</td>\n",
       "      <td>False</td>\n",
       "      <td>True</td>\n",
       "    </tr>\n",
       "  </tbody>\n",
       "</table>\n",
       "<p>42144 rows × 18 columns</p>\n",
       "</div>"
      ],
      "text/plain": [
       "          votes  location  approx_cost(for two people)  listed_in(city)  \\\n",
       "0      6.654153  0.477124                     6.685861         0.477124   \n",
       "1      6.669498  0.477124                     6.685861         0.477124   \n",
       "2      6.823286  0.477124                     6.685861         0.477124   \n",
       "3      4.488636  0.477124                     5.707110         0.477124   \n",
       "4      5.117994  0.523333                     6.398595         0.477124   \n",
       "...         ...       ...                          ...              ...   \n",
       "51709  3.555348  0.404599                     6.685861         0.404599   \n",
       "51711  4.406719  0.404599                     6.685861         0.404599   \n",
       "51712  3.332205  0.404599                     7.313887         0.404599   \n",
       "51715  5.468060  0.329670                     7.824446         0.404599   \n",
       "51716  2.639057  0.329670                     7.313887         0.404599   \n",
       "\n",
       "       target  online_order_Yes  book_table_Yes  rest_type_Casual Dining  \\\n",
       "0           1              True            True                     True   \n",
       "1           1              True           False                     True   \n",
       "2           1              True           False                    False   \n",
       "3           0             False           False                    False   \n",
       "4           1             False           False                     True   \n",
       "...       ...               ...             ...                      ...   \n",
       "51709       0             False           False                    False   \n",
       "51711       0             False           False                    False   \n",
       "51712       0             False           False                    False   \n",
       "51715       1             False            True                    False   \n",
       "51716       0             False           False                    False   \n",
       "\n",
       "       rest_type_Delivery  rest_type_Dessert Parlor  rest_type_Quick Bites  \\\n",
       "0                   False                     False                  False   \n",
       "1                   False                     False                  False   \n",
       "2                   False                     False                  False   \n",
       "3                   False                     False                   True   \n",
       "4                   False                     False                  False   \n",
       "...                   ...                       ...                    ...   \n",
       "51709               False                     False                  False   \n",
       "51711               False                     False                  False   \n",
       "51712               False                     False                  False   \n",
       "51715               False                     False                  False   \n",
       "51716               False                     False                  False   \n",
       "\n",
       "       rest_type_other  listed_in(type)_Cafes  listed_in(type)_Delivery  \\\n",
       "0                False                  False                     False   \n",
       "1                False                  False                     False   \n",
       "2                 True                  False                     False   \n",
       "3                False                  False                     False   \n",
       "4                False                  False                     False   \n",
       "...                ...                    ...                       ...   \n",
       "51709             True                  False                     False   \n",
       "51711             True                  False                     False   \n",
       "51712             True                  False                     False   \n",
       "51715             True                  False                     False   \n",
       "51716             True                  False                     False   \n",
       "\n",
       "       listed_in(type)_Desserts  listed_in(type)_Dine-out  \\\n",
       "0                         False                     False   \n",
       "1                         False                     False   \n",
       "2                         False                     False   \n",
       "3                         False                     False   \n",
       "4                         False                     False   \n",
       "...                         ...                       ...   \n",
       "51709                     False                     False   \n",
       "51711                     False                     False   \n",
       "51712                     False                     False   \n",
       "51715                     False                     False   \n",
       "51716                     False                     False   \n",
       "\n",
       "       listed_in(type)_Drinks & nightlife  listed_in(type)_Pubs and bars  \n",
       "0                                   False                          False  \n",
       "1                                   False                          False  \n",
       "2                                   False                          False  \n",
       "3                                   False                          False  \n",
       "4                                   False                          False  \n",
       "...                                   ...                            ...  \n",
       "51709                               False                           True  \n",
       "51711                               False                           True  \n",
       "51712                               False                           True  \n",
       "51715                               False                           True  \n",
       "51716                               False                           True  \n",
       "\n",
       "[42144 rows x 18 columns]"
      ]
     },
     "execution_count": 154,
     "metadata": {},
     "output_type": "execute_result"
    }
   ],
   "source": [
    "data"
   ]
  },
  {
   "cell_type": "code",
   "execution_count": 155,
   "id": "13fa407c",
   "metadata": {},
   "outputs": [],
   "source": [
    "from sklearn.model_selection import train_test_split"
   ]
  },
  {
   "cell_type": "code",
   "execution_count": 156,
   "id": "57f39d32",
   "metadata": {},
   "outputs": [],
   "source": [
    "X_train, X_test, y_train, y_test = train_test_split(X, y, test_size=0.25, random_state=42)"
   ]
  },
  {
   "cell_type": "code",
   "execution_count": 157,
   "id": "6e2f1d4c",
   "metadata": {},
   "outputs": [
    {
     "data": {
      "text/plain": [
       "(31608, 17)"
      ]
     },
     "execution_count": 157,
     "metadata": {},
     "output_type": "execute_result"
    }
   ],
   "source": [
    "X_train.shape"
   ]
  },
  {
   "cell_type": "code",
   "execution_count": 158,
   "id": "0b3c46b0",
   "metadata": {},
   "outputs": [
    {
     "data": {
      "text/plain": [
       "(42144, 18)"
      ]
     },
     "execution_count": 158,
     "metadata": {},
     "output_type": "execute_result"
    }
   ],
   "source": [
    "data.shape"
   ]
  },
  {
   "cell_type": "code",
   "execution_count": 159,
   "id": "817e64f1",
   "metadata": {},
   "outputs": [],
   "source": [
    "from sklearn.ensemble import RandomForestClassifier"
   ]
  },
  {
   "cell_type": "code",
   "execution_count": 160,
   "id": "481f3f89",
   "metadata": {},
   "outputs": [],
   "source": [
    "rf_model = RandomForestClassifier()"
   ]
  },
  {
   "cell_type": "code",
   "execution_count": 161,
   "id": "092f2c52",
   "metadata": {},
   "outputs": [
    {
     "data": {
      "text/html": [
       "<style>#sk-container-id-1 {color: black;}#sk-container-id-1 pre{padding: 0;}#sk-container-id-1 div.sk-toggleable {background-color: white;}#sk-container-id-1 label.sk-toggleable__label {cursor: pointer;display: block;width: 100%;margin-bottom: 0;padding: 0.3em;box-sizing: border-box;text-align: center;}#sk-container-id-1 label.sk-toggleable__label-arrow:before {content: \"▸\";float: left;margin-right: 0.25em;color: #696969;}#sk-container-id-1 label.sk-toggleable__label-arrow:hover:before {color: black;}#sk-container-id-1 div.sk-estimator:hover label.sk-toggleable__label-arrow:before {color: black;}#sk-container-id-1 div.sk-toggleable__content {max-height: 0;max-width: 0;overflow: hidden;text-align: left;background-color: #f0f8ff;}#sk-container-id-1 div.sk-toggleable__content pre {margin: 0.2em;color: black;border-radius: 0.25em;background-color: #f0f8ff;}#sk-container-id-1 input.sk-toggleable__control:checked~div.sk-toggleable__content {max-height: 200px;max-width: 100%;overflow: auto;}#sk-container-id-1 input.sk-toggleable__control:checked~label.sk-toggleable__label-arrow:before {content: \"▾\";}#sk-container-id-1 div.sk-estimator input.sk-toggleable__control:checked~label.sk-toggleable__label {background-color: #d4ebff;}#sk-container-id-1 div.sk-label input.sk-toggleable__control:checked~label.sk-toggleable__label {background-color: #d4ebff;}#sk-container-id-1 input.sk-hidden--visually {border: 0;clip: rect(1px 1px 1px 1px);clip: rect(1px, 1px, 1px, 1px);height: 1px;margin: -1px;overflow: hidden;padding: 0;position: absolute;width: 1px;}#sk-container-id-1 div.sk-estimator {font-family: monospace;background-color: #f0f8ff;border: 1px dotted black;border-radius: 0.25em;box-sizing: border-box;margin-bottom: 0.5em;}#sk-container-id-1 div.sk-estimator:hover {background-color: #d4ebff;}#sk-container-id-1 div.sk-parallel-item::after {content: \"\";width: 100%;border-bottom: 1px solid gray;flex-grow: 1;}#sk-container-id-1 div.sk-label:hover label.sk-toggleable__label {background-color: #d4ebff;}#sk-container-id-1 div.sk-serial::before {content: \"\";position: absolute;border-left: 1px solid gray;box-sizing: border-box;top: 0;bottom: 0;left: 50%;z-index: 0;}#sk-container-id-1 div.sk-serial {display: flex;flex-direction: column;align-items: center;background-color: white;padding-right: 0.2em;padding-left: 0.2em;position: relative;}#sk-container-id-1 div.sk-item {position: relative;z-index: 1;}#sk-container-id-1 div.sk-parallel {display: flex;align-items: stretch;justify-content: center;background-color: white;position: relative;}#sk-container-id-1 div.sk-item::before, #sk-container-id-1 div.sk-parallel-item::before {content: \"\";position: absolute;border-left: 1px solid gray;box-sizing: border-box;top: 0;bottom: 0;left: 50%;z-index: -1;}#sk-container-id-1 div.sk-parallel-item {display: flex;flex-direction: column;z-index: 1;position: relative;background-color: white;}#sk-container-id-1 div.sk-parallel-item:first-child::after {align-self: flex-end;width: 50%;}#sk-container-id-1 div.sk-parallel-item:last-child::after {align-self: flex-start;width: 50%;}#sk-container-id-1 div.sk-parallel-item:only-child::after {width: 0;}#sk-container-id-1 div.sk-dashed-wrapped {border: 1px dashed gray;margin: 0 0.4em 0.5em 0.4em;box-sizing: border-box;padding-bottom: 0.4em;background-color: white;}#sk-container-id-1 div.sk-label label {font-family: monospace;font-weight: bold;display: inline-block;line-height: 1.2em;}#sk-container-id-1 div.sk-label-container {text-align: center;}#sk-container-id-1 div.sk-container {/* jupyter's `normalize.less` sets `[hidden] { display: none; }` but bootstrap.min.css set `[hidden] { display: none !important; }` so we also need the `!important` here to be able to override the default hidden behavior on the sphinx rendered scikit-learn.org. See: https://github.com/scikit-learn/scikit-learn/issues/21755 */display: inline-block !important;position: relative;}#sk-container-id-1 div.sk-text-repr-fallback {display: none;}</style><div id=\"sk-container-id-1\" class=\"sk-top-container\"><div class=\"sk-text-repr-fallback\"><pre>RandomForestClassifier()</pre><b>In a Jupyter environment, please rerun this cell to show the HTML representation or trust the notebook. <br />On GitHub, the HTML representation is unable to render, please try loading this page with nbviewer.org.</b></div><div class=\"sk-container\" hidden><div class=\"sk-item\"><div class=\"sk-estimator sk-toggleable\"><input class=\"sk-toggleable__control sk-hidden--visually\" id=\"sk-estimator-id-1\" type=\"checkbox\" checked><label for=\"sk-estimator-id-1\" class=\"sk-toggleable__label sk-toggleable__label-arrow\">RandomForestClassifier</label><div class=\"sk-toggleable__content\"><pre>RandomForestClassifier()</pre></div></div></div></div></div>"
      ],
      "text/plain": [
       "RandomForestClassifier()"
      ]
     },
     "execution_count": 161,
     "metadata": {},
     "output_type": "execute_result"
    }
   ],
   "source": [
    "rf_model.fit(X_train , y_train)"
   ]
  },
  {
   "cell_type": "code",
   "execution_count": 162,
   "id": "0252bdab",
   "metadata": {},
   "outputs": [],
   "source": [
    "predictions = rf_model.predict(X_test)"
   ]
  },
  {
   "cell_type": "code",
   "execution_count": 163,
   "id": "d1dea020",
   "metadata": {},
   "outputs": [
    {
     "data": {
      "text/plain": [
       "array([0, 1, 1, ..., 0, 0, 1], dtype=int64)"
      ]
     },
     "execution_count": 163,
     "metadata": {},
     "output_type": "execute_result"
    }
   ],
   "source": [
    "predictions"
   ]
  },
  {
   "cell_type": "code",
   "execution_count": 164,
   "id": "e34434de",
   "metadata": {},
   "outputs": [],
   "source": [
    "from sklearn.metrics import accuracy_score , confusion_matrix"
   ]
  },
  {
   "cell_type": "code",
   "execution_count": 165,
   "id": "8364d832",
   "metadata": {},
   "outputs": [
    {
     "data": {
      "text/plain": [
       "0.9067957479119211"
      ]
     },
     "execution_count": 165,
     "metadata": {},
     "output_type": "execute_result"
    }
   ],
   "source": [
    "accuracy_score(predictions , y_test)"
   ]
  },
  {
   "cell_type": "code",
   "execution_count": 166,
   "id": "849b0d83",
   "metadata": {},
   "outputs": [
    {
     "data": {
      "text/plain": [
       "array([[4934,  509],\n",
       "       [ 473, 4620]], dtype=int64)"
      ]
     },
     "execution_count": 166,
     "metadata": {},
     "output_type": "execute_result"
    }
   ],
   "source": [
    "confusion_matrix(predictions , y_test)"
   ]
  },
  {
   "cell_type": "code",
   "execution_count": 167,
   "id": "b626e0de",
   "metadata": {},
   "outputs": [],
   "source": [
    "# Number of trees in random forest\n",
    "n_estimators = [int(x) for x in np.linspace(100 , 1200 , num=3)] \n",
    "\n",
    "# Number of features to consider at every split\n",
    "max_features = [\"auto\", \"sqrt\"]\n",
    "\n",
    "# Maximum number of levels in tree\n",
    "max_depth = [int(x) for x in np.linspace(5 ,30 , num=3)]\n",
    "\n",
    "# Minimum number of samples required to split a node\n",
    "min_samples_split= [5 , 10 , 100]"
   ]
  },
  {
   "cell_type": "code",
   "execution_count": 168,
   "id": "35c4fc19",
   "metadata": {},
   "outputs": [],
   "source": [
    "\n",
    "# Create the random grid or hyper-parameter space\n",
    "\n",
    "random_grid = {\n",
    "    'n_estimators':n_estimators , \n",
    "    'max_features' : max_features , \n",
    "    'max_depth' : max_depth , \n",
    "    'min_samples_split' : min_samples_split\n",
    "}"
   ]
  },
  {
   "cell_type": "code",
   "execution_count": 169,
   "id": "efc8d3b8",
   "metadata": {},
   "outputs": [
    {
     "data": {
      "text/plain": [
       "{'n_estimators': [100, 650, 1200],\n",
       " 'max_features': ['auto', 'sqrt'],\n",
       " 'max_depth': [5, 17, 30],\n",
       " 'min_samples_split': [5, 10, 100]}"
      ]
     },
     "execution_count": 169,
     "metadata": {},
     "output_type": "execute_result"
    }
   ],
   "source": [
    "random_grid"
   ]
  },
  {
   "cell_type": "code",
   "execution_count": 170,
   "id": "b7d947d7",
   "metadata": {},
   "outputs": [
    {
     "data": {
      "text/plain": [
       "108"
      ]
     },
     "execution_count": 170,
     "metadata": {},
     "output_type": "execute_result"
    }
   ],
   "source": [
    "3*2*3*3 *2"
   ]
  },
  {
   "cell_type": "code",
   "execution_count": 171,
   "id": "2b49294b",
   "metadata": {},
   "outputs": [],
   "source": [
    "from sklearn.model_selection import RandomizedSearchCV"
   ]
  },
  {
   "cell_type": "code",
   "execution_count": 172,
   "id": "34985bcf",
   "metadata": {},
   "outputs": [],
   "source": [
    "estimator = RandomForestClassifier() ### initialise your estimator"
   ]
  },
  {
   "cell_type": "code",
   "execution_count": 173,
   "id": "1cc5c708",
   "metadata": {},
   "outputs": [],
   "source": [
    "rf_random = RandomizedSearchCV(estimator = estimator , param_distributions= random_grid , cv=2 , verbose=2 , n_jobs=-1)"
   ]
  },
  {
   "cell_type": "code",
   "execution_count": 174,
   "id": "3cdde4d4",
   "metadata": {},
   "outputs": [
    {
     "name": "stdout",
     "output_type": "stream",
     "text": [
      "Fitting 2 folds for each of 10 candidates, totalling 20 fits\n"
     ]
    },
    {
     "data": {
      "text/html": [
       "<style>#sk-container-id-2 {color: black;}#sk-container-id-2 pre{padding: 0;}#sk-container-id-2 div.sk-toggleable {background-color: white;}#sk-container-id-2 label.sk-toggleable__label {cursor: pointer;display: block;width: 100%;margin-bottom: 0;padding: 0.3em;box-sizing: border-box;text-align: center;}#sk-container-id-2 label.sk-toggleable__label-arrow:before {content: \"▸\";float: left;margin-right: 0.25em;color: #696969;}#sk-container-id-2 label.sk-toggleable__label-arrow:hover:before {color: black;}#sk-container-id-2 div.sk-estimator:hover label.sk-toggleable__label-arrow:before {color: black;}#sk-container-id-2 div.sk-toggleable__content {max-height: 0;max-width: 0;overflow: hidden;text-align: left;background-color: #f0f8ff;}#sk-container-id-2 div.sk-toggleable__content pre {margin: 0.2em;color: black;border-radius: 0.25em;background-color: #f0f8ff;}#sk-container-id-2 input.sk-toggleable__control:checked~div.sk-toggleable__content {max-height: 200px;max-width: 100%;overflow: auto;}#sk-container-id-2 input.sk-toggleable__control:checked~label.sk-toggleable__label-arrow:before {content: \"▾\";}#sk-container-id-2 div.sk-estimator input.sk-toggleable__control:checked~label.sk-toggleable__label {background-color: #d4ebff;}#sk-container-id-2 div.sk-label input.sk-toggleable__control:checked~label.sk-toggleable__label {background-color: #d4ebff;}#sk-container-id-2 input.sk-hidden--visually {border: 0;clip: rect(1px 1px 1px 1px);clip: rect(1px, 1px, 1px, 1px);height: 1px;margin: -1px;overflow: hidden;padding: 0;position: absolute;width: 1px;}#sk-container-id-2 div.sk-estimator {font-family: monospace;background-color: #f0f8ff;border: 1px dotted black;border-radius: 0.25em;box-sizing: border-box;margin-bottom: 0.5em;}#sk-container-id-2 div.sk-estimator:hover {background-color: #d4ebff;}#sk-container-id-2 div.sk-parallel-item::after {content: \"\";width: 100%;border-bottom: 1px solid gray;flex-grow: 1;}#sk-container-id-2 div.sk-label:hover label.sk-toggleable__label {background-color: #d4ebff;}#sk-container-id-2 div.sk-serial::before {content: \"\";position: absolute;border-left: 1px solid gray;box-sizing: border-box;top: 0;bottom: 0;left: 50%;z-index: 0;}#sk-container-id-2 div.sk-serial {display: flex;flex-direction: column;align-items: center;background-color: white;padding-right: 0.2em;padding-left: 0.2em;position: relative;}#sk-container-id-2 div.sk-item {position: relative;z-index: 1;}#sk-container-id-2 div.sk-parallel {display: flex;align-items: stretch;justify-content: center;background-color: white;position: relative;}#sk-container-id-2 div.sk-item::before, #sk-container-id-2 div.sk-parallel-item::before {content: \"\";position: absolute;border-left: 1px solid gray;box-sizing: border-box;top: 0;bottom: 0;left: 50%;z-index: -1;}#sk-container-id-2 div.sk-parallel-item {display: flex;flex-direction: column;z-index: 1;position: relative;background-color: white;}#sk-container-id-2 div.sk-parallel-item:first-child::after {align-self: flex-end;width: 50%;}#sk-container-id-2 div.sk-parallel-item:last-child::after {align-self: flex-start;width: 50%;}#sk-container-id-2 div.sk-parallel-item:only-child::after {width: 0;}#sk-container-id-2 div.sk-dashed-wrapped {border: 1px dashed gray;margin: 0 0.4em 0.5em 0.4em;box-sizing: border-box;padding-bottom: 0.4em;background-color: white;}#sk-container-id-2 div.sk-label label {font-family: monospace;font-weight: bold;display: inline-block;line-height: 1.2em;}#sk-container-id-2 div.sk-label-container {text-align: center;}#sk-container-id-2 div.sk-container {/* jupyter's `normalize.less` sets `[hidden] { display: none; }` but bootstrap.min.css set `[hidden] { display: none !important; }` so we also need the `!important` here to be able to override the default hidden behavior on the sphinx rendered scikit-learn.org. See: https://github.com/scikit-learn/scikit-learn/issues/21755 */display: inline-block !important;position: relative;}#sk-container-id-2 div.sk-text-repr-fallback {display: none;}</style><div id=\"sk-container-id-2\" class=\"sk-top-container\"><div class=\"sk-text-repr-fallback\"><pre>RandomizedSearchCV(cv=2, estimator=RandomForestClassifier(), n_jobs=-1,\n",
       "                   param_distributions={&#x27;max_depth&#x27;: [5, 17, 30],\n",
       "                                        &#x27;max_features&#x27;: [&#x27;auto&#x27;, &#x27;sqrt&#x27;],\n",
       "                                        &#x27;min_samples_split&#x27;: [5, 10, 100],\n",
       "                                        &#x27;n_estimators&#x27;: [100, 650, 1200]},\n",
       "                   verbose=2)</pre><b>In a Jupyter environment, please rerun this cell to show the HTML representation or trust the notebook. <br />On GitHub, the HTML representation is unable to render, please try loading this page with nbviewer.org.</b></div><div class=\"sk-container\" hidden><div class=\"sk-item sk-dashed-wrapped\"><div class=\"sk-label-container\"><div class=\"sk-label sk-toggleable\"><input class=\"sk-toggleable__control sk-hidden--visually\" id=\"sk-estimator-id-2\" type=\"checkbox\" ><label for=\"sk-estimator-id-2\" class=\"sk-toggleable__label sk-toggleable__label-arrow\">RandomizedSearchCV</label><div class=\"sk-toggleable__content\"><pre>RandomizedSearchCV(cv=2, estimator=RandomForestClassifier(), n_jobs=-1,\n",
       "                   param_distributions={&#x27;max_depth&#x27;: [5, 17, 30],\n",
       "                                        &#x27;max_features&#x27;: [&#x27;auto&#x27;, &#x27;sqrt&#x27;],\n",
       "                                        &#x27;min_samples_split&#x27;: [5, 10, 100],\n",
       "                                        &#x27;n_estimators&#x27;: [100, 650, 1200]},\n",
       "                   verbose=2)</pre></div></div></div><div class=\"sk-parallel\"><div class=\"sk-parallel-item\"><div class=\"sk-item\"><div class=\"sk-label-container\"><div class=\"sk-label sk-toggleable\"><input class=\"sk-toggleable__control sk-hidden--visually\" id=\"sk-estimator-id-3\" type=\"checkbox\" ><label for=\"sk-estimator-id-3\" class=\"sk-toggleable__label sk-toggleable__label-arrow\">estimator: RandomForestClassifier</label><div class=\"sk-toggleable__content\"><pre>RandomForestClassifier()</pre></div></div></div><div class=\"sk-serial\"><div class=\"sk-item\"><div class=\"sk-estimator sk-toggleable\"><input class=\"sk-toggleable__control sk-hidden--visually\" id=\"sk-estimator-id-4\" type=\"checkbox\" ><label for=\"sk-estimator-id-4\" class=\"sk-toggleable__label sk-toggleable__label-arrow\">RandomForestClassifier</label><div class=\"sk-toggleable__content\"><pre>RandomForestClassifier()</pre></div></div></div></div></div></div></div></div></div></div>"
      ],
      "text/plain": [
       "RandomizedSearchCV(cv=2, estimator=RandomForestClassifier(), n_jobs=-1,\n",
       "                   param_distributions={'max_depth': [5, 17, 30],\n",
       "                                        'max_features': ['auto', 'sqrt'],\n",
       "                                        'min_samples_split': [5, 10, 100],\n",
       "                                        'n_estimators': [100, 650, 1200]},\n",
       "                   verbose=2)"
      ]
     },
     "execution_count": 174,
     "metadata": {},
     "output_type": "execute_result"
    }
   ],
   "source": [
    "rf_random.fit(X_train , y_train)"
   ]
  },
  {
   "cell_type": "code",
   "execution_count": 175,
   "id": "6b4bc3f5",
   "metadata": {},
   "outputs": [
    {
     "data": {
      "text/plain": [
       "{'n_estimators': 100,\n",
       " 'min_samples_split': 10,\n",
       " 'max_features': 'sqrt',\n",
       " 'max_depth': 17}"
      ]
     },
     "execution_count": 175,
     "metadata": {},
     "output_type": "execute_result"
    }
   ],
   "source": [
    "rf_random.best_params_ ## getting best values of parameters"
   ]
  },
  {
   "cell_type": "code",
   "execution_count": 176,
   "id": "938bff56",
   "metadata": {},
   "outputs": [
    {
     "data": {
      "text/html": [
       "<style>#sk-container-id-3 {color: black;}#sk-container-id-3 pre{padding: 0;}#sk-container-id-3 div.sk-toggleable {background-color: white;}#sk-container-id-3 label.sk-toggleable__label {cursor: pointer;display: block;width: 100%;margin-bottom: 0;padding: 0.3em;box-sizing: border-box;text-align: center;}#sk-container-id-3 label.sk-toggleable__label-arrow:before {content: \"▸\";float: left;margin-right: 0.25em;color: #696969;}#sk-container-id-3 label.sk-toggleable__label-arrow:hover:before {color: black;}#sk-container-id-3 div.sk-estimator:hover label.sk-toggleable__label-arrow:before {color: black;}#sk-container-id-3 div.sk-toggleable__content {max-height: 0;max-width: 0;overflow: hidden;text-align: left;background-color: #f0f8ff;}#sk-container-id-3 div.sk-toggleable__content pre {margin: 0.2em;color: black;border-radius: 0.25em;background-color: #f0f8ff;}#sk-container-id-3 input.sk-toggleable__control:checked~div.sk-toggleable__content {max-height: 200px;max-width: 100%;overflow: auto;}#sk-container-id-3 input.sk-toggleable__control:checked~label.sk-toggleable__label-arrow:before {content: \"▾\";}#sk-container-id-3 div.sk-estimator input.sk-toggleable__control:checked~label.sk-toggleable__label {background-color: #d4ebff;}#sk-container-id-3 div.sk-label input.sk-toggleable__control:checked~label.sk-toggleable__label {background-color: #d4ebff;}#sk-container-id-3 input.sk-hidden--visually {border: 0;clip: rect(1px 1px 1px 1px);clip: rect(1px, 1px, 1px, 1px);height: 1px;margin: -1px;overflow: hidden;padding: 0;position: absolute;width: 1px;}#sk-container-id-3 div.sk-estimator {font-family: monospace;background-color: #f0f8ff;border: 1px dotted black;border-radius: 0.25em;box-sizing: border-box;margin-bottom: 0.5em;}#sk-container-id-3 div.sk-estimator:hover {background-color: #d4ebff;}#sk-container-id-3 div.sk-parallel-item::after {content: \"\";width: 100%;border-bottom: 1px solid gray;flex-grow: 1;}#sk-container-id-3 div.sk-label:hover label.sk-toggleable__label {background-color: #d4ebff;}#sk-container-id-3 div.sk-serial::before {content: \"\";position: absolute;border-left: 1px solid gray;box-sizing: border-box;top: 0;bottom: 0;left: 50%;z-index: 0;}#sk-container-id-3 div.sk-serial {display: flex;flex-direction: column;align-items: center;background-color: white;padding-right: 0.2em;padding-left: 0.2em;position: relative;}#sk-container-id-3 div.sk-item {position: relative;z-index: 1;}#sk-container-id-3 div.sk-parallel {display: flex;align-items: stretch;justify-content: center;background-color: white;position: relative;}#sk-container-id-3 div.sk-item::before, #sk-container-id-3 div.sk-parallel-item::before {content: \"\";position: absolute;border-left: 1px solid gray;box-sizing: border-box;top: 0;bottom: 0;left: 50%;z-index: -1;}#sk-container-id-3 div.sk-parallel-item {display: flex;flex-direction: column;z-index: 1;position: relative;background-color: white;}#sk-container-id-3 div.sk-parallel-item:first-child::after {align-self: flex-end;width: 50%;}#sk-container-id-3 div.sk-parallel-item:last-child::after {align-self: flex-start;width: 50%;}#sk-container-id-3 div.sk-parallel-item:only-child::after {width: 0;}#sk-container-id-3 div.sk-dashed-wrapped {border: 1px dashed gray;margin: 0 0.4em 0.5em 0.4em;box-sizing: border-box;padding-bottom: 0.4em;background-color: white;}#sk-container-id-3 div.sk-label label {font-family: monospace;font-weight: bold;display: inline-block;line-height: 1.2em;}#sk-container-id-3 div.sk-label-container {text-align: center;}#sk-container-id-3 div.sk-container {/* jupyter's `normalize.less` sets `[hidden] { display: none; }` but bootstrap.min.css set `[hidden] { display: none !important; }` so we also need the `!important` here to be able to override the default hidden behavior on the sphinx rendered scikit-learn.org. See: https://github.com/scikit-learn/scikit-learn/issues/21755 */display: inline-block !important;position: relative;}#sk-container-id-3 div.sk-text-repr-fallback {display: none;}</style><div id=\"sk-container-id-3\" class=\"sk-top-container\"><div class=\"sk-text-repr-fallback\"><pre>RandomForestClassifier(max_depth=17, min_samples_split=10)</pre><b>In a Jupyter environment, please rerun this cell to show the HTML representation or trust the notebook. <br />On GitHub, the HTML representation is unable to render, please try loading this page with nbviewer.org.</b></div><div class=\"sk-container\" hidden><div class=\"sk-item\"><div class=\"sk-estimator sk-toggleable\"><input class=\"sk-toggleable__control sk-hidden--visually\" id=\"sk-estimator-id-5\" type=\"checkbox\" checked><label for=\"sk-estimator-id-5\" class=\"sk-toggleable__label sk-toggleable__label-arrow\">RandomForestClassifier</label><div class=\"sk-toggleable__content\"><pre>RandomForestClassifier(max_depth=17, min_samples_split=10)</pre></div></div></div></div></div>"
      ],
      "text/plain": [
       "RandomForestClassifier(max_depth=17, min_samples_split=10)"
      ]
     },
     "execution_count": 176,
     "metadata": {},
     "output_type": "execute_result"
    }
   ],
   "source": [
    "rf_random.best_estimator_ ## getting best model(ie optimised model)"
   ]
  },
  {
   "cell_type": "code",
   "execution_count": 177,
   "id": "5a4bc3a3",
   "metadata": {},
   "outputs": [],
   "source": [
    "rf_opt = RandomForestClassifier(max_depth=30, max_features='sqrt', min_samples_split=5,\n",
    "                       n_estimators=650)"
   ]
  },
  {
   "cell_type": "code",
   "execution_count": 178,
   "id": "1465e216",
   "metadata": {},
   "outputs": [
    {
     "data": {
      "text/html": [
       "<style>#sk-container-id-4 {color: black;}#sk-container-id-4 pre{padding: 0;}#sk-container-id-4 div.sk-toggleable {background-color: white;}#sk-container-id-4 label.sk-toggleable__label {cursor: pointer;display: block;width: 100%;margin-bottom: 0;padding: 0.3em;box-sizing: border-box;text-align: center;}#sk-container-id-4 label.sk-toggleable__label-arrow:before {content: \"▸\";float: left;margin-right: 0.25em;color: #696969;}#sk-container-id-4 label.sk-toggleable__label-arrow:hover:before {color: black;}#sk-container-id-4 div.sk-estimator:hover label.sk-toggleable__label-arrow:before {color: black;}#sk-container-id-4 div.sk-toggleable__content {max-height: 0;max-width: 0;overflow: hidden;text-align: left;background-color: #f0f8ff;}#sk-container-id-4 div.sk-toggleable__content pre {margin: 0.2em;color: black;border-radius: 0.25em;background-color: #f0f8ff;}#sk-container-id-4 input.sk-toggleable__control:checked~div.sk-toggleable__content {max-height: 200px;max-width: 100%;overflow: auto;}#sk-container-id-4 input.sk-toggleable__control:checked~label.sk-toggleable__label-arrow:before {content: \"▾\";}#sk-container-id-4 div.sk-estimator input.sk-toggleable__control:checked~label.sk-toggleable__label {background-color: #d4ebff;}#sk-container-id-4 div.sk-label input.sk-toggleable__control:checked~label.sk-toggleable__label {background-color: #d4ebff;}#sk-container-id-4 input.sk-hidden--visually {border: 0;clip: rect(1px 1px 1px 1px);clip: rect(1px, 1px, 1px, 1px);height: 1px;margin: -1px;overflow: hidden;padding: 0;position: absolute;width: 1px;}#sk-container-id-4 div.sk-estimator {font-family: monospace;background-color: #f0f8ff;border: 1px dotted black;border-radius: 0.25em;box-sizing: border-box;margin-bottom: 0.5em;}#sk-container-id-4 div.sk-estimator:hover {background-color: #d4ebff;}#sk-container-id-4 div.sk-parallel-item::after {content: \"\";width: 100%;border-bottom: 1px solid gray;flex-grow: 1;}#sk-container-id-4 div.sk-label:hover label.sk-toggleable__label {background-color: #d4ebff;}#sk-container-id-4 div.sk-serial::before {content: \"\";position: absolute;border-left: 1px solid gray;box-sizing: border-box;top: 0;bottom: 0;left: 50%;z-index: 0;}#sk-container-id-4 div.sk-serial {display: flex;flex-direction: column;align-items: center;background-color: white;padding-right: 0.2em;padding-left: 0.2em;position: relative;}#sk-container-id-4 div.sk-item {position: relative;z-index: 1;}#sk-container-id-4 div.sk-parallel {display: flex;align-items: stretch;justify-content: center;background-color: white;position: relative;}#sk-container-id-4 div.sk-item::before, #sk-container-id-4 div.sk-parallel-item::before {content: \"\";position: absolute;border-left: 1px solid gray;box-sizing: border-box;top: 0;bottom: 0;left: 50%;z-index: -1;}#sk-container-id-4 div.sk-parallel-item {display: flex;flex-direction: column;z-index: 1;position: relative;background-color: white;}#sk-container-id-4 div.sk-parallel-item:first-child::after {align-self: flex-end;width: 50%;}#sk-container-id-4 div.sk-parallel-item:last-child::after {align-self: flex-start;width: 50%;}#sk-container-id-4 div.sk-parallel-item:only-child::after {width: 0;}#sk-container-id-4 div.sk-dashed-wrapped {border: 1px dashed gray;margin: 0 0.4em 0.5em 0.4em;box-sizing: border-box;padding-bottom: 0.4em;background-color: white;}#sk-container-id-4 div.sk-label label {font-family: monospace;font-weight: bold;display: inline-block;line-height: 1.2em;}#sk-container-id-4 div.sk-label-container {text-align: center;}#sk-container-id-4 div.sk-container {/* jupyter's `normalize.less` sets `[hidden] { display: none; }` but bootstrap.min.css set `[hidden] { display: none !important; }` so we also need the `!important` here to be able to override the default hidden behavior on the sphinx rendered scikit-learn.org. See: https://github.com/scikit-learn/scikit-learn/issues/21755 */display: inline-block !important;position: relative;}#sk-container-id-4 div.sk-text-repr-fallback {display: none;}</style><div id=\"sk-container-id-4\" class=\"sk-top-container\"><div class=\"sk-text-repr-fallback\"><pre>RandomForestClassifier(max_depth=30, min_samples_split=5, n_estimators=650)</pre><b>In a Jupyter environment, please rerun this cell to show the HTML representation or trust the notebook. <br />On GitHub, the HTML representation is unable to render, please try loading this page with nbviewer.org.</b></div><div class=\"sk-container\" hidden><div class=\"sk-item\"><div class=\"sk-estimator sk-toggleable\"><input class=\"sk-toggleable__control sk-hidden--visually\" id=\"sk-estimator-id-6\" type=\"checkbox\" checked><label for=\"sk-estimator-id-6\" class=\"sk-toggleable__label sk-toggleable__label-arrow\">RandomForestClassifier</label><div class=\"sk-toggleable__content\"><pre>RandomForestClassifier(max_depth=30, min_samples_split=5, n_estimators=650)</pre></div></div></div></div></div>"
      ],
      "text/plain": [
       "RandomForestClassifier(max_depth=30, min_samples_split=5, n_estimators=650)"
      ]
     },
     "execution_count": 178,
     "metadata": {},
     "output_type": "execute_result"
    }
   ],
   "source": [
    "rf_opt.fit(X_train , y_train)"
   ]
  },
  {
   "cell_type": "code",
   "execution_count": 183,
   "id": "808db561",
   "metadata": {},
   "outputs": [
    {
     "data": {
      "text/html": [
       "<style>#sk-container-id-6 {color: black;}#sk-container-id-6 pre{padding: 0;}#sk-container-id-6 div.sk-toggleable {background-color: white;}#sk-container-id-6 label.sk-toggleable__label {cursor: pointer;display: block;width: 100%;margin-bottom: 0;padding: 0.3em;box-sizing: border-box;text-align: center;}#sk-container-id-6 label.sk-toggleable__label-arrow:before {content: \"▸\";float: left;margin-right: 0.25em;color: #696969;}#sk-container-id-6 label.sk-toggleable__label-arrow:hover:before {color: black;}#sk-container-id-6 div.sk-estimator:hover label.sk-toggleable__label-arrow:before {color: black;}#sk-container-id-6 div.sk-toggleable__content {max-height: 0;max-width: 0;overflow: hidden;text-align: left;background-color: #f0f8ff;}#sk-container-id-6 div.sk-toggleable__content pre {margin: 0.2em;color: black;border-radius: 0.25em;background-color: #f0f8ff;}#sk-container-id-6 input.sk-toggleable__control:checked~div.sk-toggleable__content {max-height: 200px;max-width: 100%;overflow: auto;}#sk-container-id-6 input.sk-toggleable__control:checked~label.sk-toggleable__label-arrow:before {content: \"▾\";}#sk-container-id-6 div.sk-estimator input.sk-toggleable__control:checked~label.sk-toggleable__label {background-color: #d4ebff;}#sk-container-id-6 div.sk-label input.sk-toggleable__control:checked~label.sk-toggleable__label {background-color: #d4ebff;}#sk-container-id-6 input.sk-hidden--visually {border: 0;clip: rect(1px 1px 1px 1px);clip: rect(1px, 1px, 1px, 1px);height: 1px;margin: -1px;overflow: hidden;padding: 0;position: absolute;width: 1px;}#sk-container-id-6 div.sk-estimator {font-family: monospace;background-color: #f0f8ff;border: 1px dotted black;border-radius: 0.25em;box-sizing: border-box;margin-bottom: 0.5em;}#sk-container-id-6 div.sk-estimator:hover {background-color: #d4ebff;}#sk-container-id-6 div.sk-parallel-item::after {content: \"\";width: 100%;border-bottom: 1px solid gray;flex-grow: 1;}#sk-container-id-6 div.sk-label:hover label.sk-toggleable__label {background-color: #d4ebff;}#sk-container-id-6 div.sk-serial::before {content: \"\";position: absolute;border-left: 1px solid gray;box-sizing: border-box;top: 0;bottom: 0;left: 50%;z-index: 0;}#sk-container-id-6 div.sk-serial {display: flex;flex-direction: column;align-items: center;background-color: white;padding-right: 0.2em;padding-left: 0.2em;position: relative;}#sk-container-id-6 div.sk-item {position: relative;z-index: 1;}#sk-container-id-6 div.sk-parallel {display: flex;align-items: stretch;justify-content: center;background-color: white;position: relative;}#sk-container-id-6 div.sk-item::before, #sk-container-id-6 div.sk-parallel-item::before {content: \"\";position: absolute;border-left: 1px solid gray;box-sizing: border-box;top: 0;bottom: 0;left: 50%;z-index: -1;}#sk-container-id-6 div.sk-parallel-item {display: flex;flex-direction: column;z-index: 1;position: relative;background-color: white;}#sk-container-id-6 div.sk-parallel-item:first-child::after {align-self: flex-end;width: 50%;}#sk-container-id-6 div.sk-parallel-item:last-child::after {align-self: flex-start;width: 50%;}#sk-container-id-6 div.sk-parallel-item:only-child::after {width: 0;}#sk-container-id-6 div.sk-dashed-wrapped {border: 1px dashed gray;margin: 0 0.4em 0.5em 0.4em;box-sizing: border-box;padding-bottom: 0.4em;background-color: white;}#sk-container-id-6 div.sk-label label {font-family: monospace;font-weight: bold;display: inline-block;line-height: 1.2em;}#sk-container-id-6 div.sk-label-container {text-align: center;}#sk-container-id-6 div.sk-container {/* jupyter's `normalize.less` sets `[hidden] { display: none; }` but bootstrap.min.css set `[hidden] { display: none !important; }` so we also need the `!important` here to be able to override the default hidden behavior on the sphinx rendered scikit-learn.org. See: https://github.com/scikit-learn/scikit-learn/issues/21755 */display: inline-block !important;position: relative;}#sk-container-id-6 div.sk-text-repr-fallback {display: none;}</style><div id=\"sk-container-id-6\" class=\"sk-top-container\"><div class=\"sk-text-repr-fallback\"><pre>RandomForestClassifier(max_depth=30, min_samples_split=5, n_estimators=650)</pre><b>In a Jupyter environment, please rerun this cell to show the HTML representation or trust the notebook. <br />On GitHub, the HTML representation is unable to render, please try loading this page with nbviewer.org.</b></div><div class=\"sk-container\" hidden><div class=\"sk-item\"><div class=\"sk-estimator sk-toggleable\"><input class=\"sk-toggleable__control sk-hidden--visually\" id=\"sk-estimator-id-8\" type=\"checkbox\" checked><label for=\"sk-estimator-id-8\" class=\"sk-toggleable__label sk-toggleable__label-arrow\">RandomForestClassifier</label><div class=\"sk-toggleable__content\"><pre>RandomForestClassifier(max_depth=30, min_samples_split=5, n_estimators=650)</pre></div></div></div></div></div>"
      ],
      "text/plain": [
       "RandomForestClassifier(max_depth=30, min_samples_split=5, n_estimators=650)"
      ]
     },
     "execution_count": 183,
     "metadata": {},
     "output_type": "execute_result"
    }
   ],
   "source": [
    "rf_opt.fit(X_train , y_train)"
   ]
  },
  {
   "cell_type": "code",
   "execution_count": 180,
   "id": "4cf36323",
   "metadata": {},
   "outputs": [],
   "source": [
    "predictions_opt = rf_opt.predict(X_test)"
   ]
  },
  {
   "cell_type": "code",
   "execution_count": 181,
   "id": "dec677e2",
   "metadata": {},
   "outputs": [
    {
     "data": {
      "text/plain": [
       "array([0, 1, 1, ..., 0, 0, 1], dtype=int64)"
      ]
     },
     "execution_count": 181,
     "metadata": {},
     "output_type": "execute_result"
    }
   ],
   "source": [
    "predictions_opt"
   ]
  },
  {
   "cell_type": "code",
   "execution_count": 182,
   "id": "742b3a7f",
   "metadata": {},
   "outputs": [
    {
     "data": {
      "text/plain": [
       "0.9012908124525436"
      ]
     },
     "execution_count": 182,
     "metadata": {},
     "output_type": "execute_result"
    }
   ],
   "source": [
    "accuracy_score(predictions_opt , y_test)"
   ]
  },
  {
   "cell_type": "code",
   "execution_count": null,
   "id": "98c2fbeb",
   "metadata": {},
   "outputs": [],
   "source": []
  }
 ],
 "metadata": {
  "kernelspec": {
   "display_name": "Python 3 (ipykernel)",
   "language": "python",
   "name": "python3"
  },
  "language_info": {
   "codemirror_mode": {
    "name": "ipython",
    "version": 3
   },
   "file_extension": ".py",
   "mimetype": "text/x-python",
   "name": "python",
   "nbconvert_exporter": "python",
   "pygments_lexer": "ipython3",
   "version": "3.10.13"
  }
 },
 "nbformat": 4,
 "nbformat_minor": 5
}
